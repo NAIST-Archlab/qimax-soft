{
 "cells": [
  {
   "cell_type": "code",
   "execution_count": null,
   "metadata": {},
   "outputs": [
    {
     "name": "stdout",
     "output_type": "stream",
     "text": [
      "w2l ...: 0.013618707656860352\n",
      "w2l ...: 0.0034875869750976562\n",
      "w2l ...: 0.0019998550415039062\n",
      "w2l ...: 0.0036170482635498047\n",
      "w2l ...: 0.0010001659393310547\n",
      "w2l ...: 0.0009999275207519531\n",
      "w2l ...: 0.004649162292480469\n",
      "w2l ...: 0.0\n",
      "w2l ...: 0.0\n",
      "w2l ...: 0.005064487457275391\n",
      "w2l ...: 0.0\n",
      "w2l ...: 0.00967264175415039\n",
      "w2l ...: 0.004004240036010742\n",
      "w2l ...: 0.004992485046386719\n",
      "w2l ...: 0.0043108463287353516\n",
      "w2l ...: 0.0\n",
      "w2l ...: 0.0\n",
      "w2l ...: 0.0029985904693603516\n",
      "w2l ...: 0.004049539566040039\n",
      "w2l ...: 0.0\n"
     ]
    }
   ],
   "source": [
    "from gqimax2.instructor import Instructor\n",
    "import pandas as pd\n",
    "num_qubitss = range(1, 11)\n",
    "num_layers = 2\n",
    "num_repeatss = [10, 100, 1000, 10000, 100000]\n",
    "\n",
    "def benchmark_qml_gqimax(num_qubits, num_layers, num_repeats):\n",
    "\timport time\n",
    "\n",
    "\tstart = time.time()\n",
    "\tins = Instructor(num_qubits)\n",
    "\tfor k in range(num_layers):\n",
    "\t\tfor _ in range(num_repeats):\n",
    "\t\t\tfor i in range(num_qubits):\n",
    "\t\t\t\tins.append('rx', i, 1)\n",
    "\t\t\t\tins.append('ry', i, 2)\n",
    "\t\t\t\tins.append('rz', i, 3)\n",
    "\t\tfor i in range(num_qubits - 1):\n",
    "\t\t\tins.append('cx', [i, i + 1])\n",
    "\t\tins.append('cx', [num_qubits - 1, 0])\n",
    "\tins.run()\n",
    "\ttime_taken = time.time() - start\n",
    "\treturn time_taken\n",
    "\n",
    "for num_qubits in num_qubitss:\n",
    "\tfor num_repeats in num_repeatss:\n",
    "\t\ttime_taken = benchmark_qml_gqimax(num_qubits, num_layers, num_repeats)\n",
    "\n",
    "\t\tif 'results_df' not in locals():\n",
    "\t\t\tresults_df = pd.DataFrame(columns=['num_qubits', 'num_repeats', 'time_taken'])\n",
    "\n",
    "\t\t# Append the current result to the DataFrame\n",
    "\t\tresults_df = pd.concat([results_df, pd.DataFrame({'num_qubits': [num_qubits], 'num_repeats': [num_repeats], 'time_taken': [time_taken]})], ignore_index=True)\n",
    "results_df.to_csv('time_num_layers2_xyzcx.csv', index=False)"
   ]
  },
  {
   "cell_type": "code",
   "execution_count": 12,
   "metadata": {},
   "outputs": [
    {
     "name": "stdout",
     "output_type": "stream",
     "text": [
      "1023\n"
     ]
    }
   ],
   "source": [
    "max_length = max(len(sub_array) for sub_array in ins.lambdass)\n",
    "print(max_length)"
   ]
  },
  {
   "cell_type": "code",
   "execution_count": 10,
   "metadata": {},
   "outputs": [],
   "source": [
    "import qiskit\n",
    "qc = qiskit.QuantumCircuit(num_qubits)\n",
    "for k in range(num_layers):\n",
    "    for i in range(num_qubits - 1):\n",
    "       qc.cx(i, i + 1)\n",
    "    qc.cx(num_qubits - 1, 0)\n",
    "    for i in range(num_repeats):\n",
    "        for i in range(num_qubits):\n",
    "            qc.rx(1, i)\n",
    "            qc.ry(2, i)\n",
    "            qc.rz(3, i)\n",
    "        \n",
    "state = qiskit.quantum_info.Statevector(qc).data"
   ]
  }
 ],
 "metadata": {
  "kernelspec": {
   "display_name": "Python 3",
   "language": "python",
   "name": "python3"
  },
  "language_info": {
   "codemirror_mode": {
    "name": "ipython",
    "version": 3
   },
   "file_extension": ".py",
   "mimetype": "text/x-python",
   "name": "python",
   "nbconvert_exporter": "python",
   "pygments_lexer": "ipython3",
   "version": "3.10.11"
  }
 },
 "nbformat": 4,
 "nbformat_minor": 2
}
