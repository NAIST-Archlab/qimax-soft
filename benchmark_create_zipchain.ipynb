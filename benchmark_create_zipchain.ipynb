{
 "cells": [
  {
   "cell_type": "code",
   "execution_count": null,
   "metadata": {},
   "outputs": [],
   "source": [
    "def create_zip_chain(num_operators, num_xoperators, is_cx_first):\n",
    "    \"\"\"Create list 0,1,0,1,...\n",
    "    If is_cx_first is True, then 1 is first, else 0 is first\n",
    "    Args:\n",
    "        n (_type_): _description_\n",
    "        m (_type_): _description_\n",
    "        is_cx_first (bool): _description_\n",
    "\n",
    "    Returns:\n",
    "        _type_: _description_\n",
    "    \"\"\"\n",
    "    result = []\n",
    "    while num_operators > 0 or num_xoperators > 0:\n",
    "        if is_cx_first:\n",
    "            if num_xoperators > 0:\n",
    "                result.append(1)\n",
    "                num_xoperators -= 1\n",
    "            if num_operators > 0:\n",
    "                result.append(0)\n",
    "                num_operators -= 1\n",
    "        else:   \n",
    "            if num_operators > 0:\n",
    "                result.append(0)\n",
    "                num_operators -= 1\n",
    "            if num_xoperators > 0:\n",
    "                result.append(1)\n",
    "                num_xoperators -= 1\n",
    "    return result\n",
    "\n",
    "chain = create_zip_chain(5600, 5600, True)"
   ]
  },
  {
   "cell_type": "code",
   "execution_count": 12,
   "metadata": {},
   "outputs": [],
   "source": [
    "chain2 = create_zip_chain2(5600, 5600, True)\n"
   ]
  },
  {
   "cell_type": "code",
   "execution_count": 13,
   "metadata": {},
   "outputs": [
    {
     "data": {
      "text/plain": [
       "True"
      ]
     },
     "execution_count": 13,
     "metadata": {},
     "output_type": "execute_result"
    }
   ],
   "source": [
    "import numpy as np\n",
    "np.all(chain == chain2) # True"
   ]
  }
 ],
 "metadata": {
  "kernelspec": {
   "display_name": "Python 3",
   "language": "python",
   "name": "python3"
  },
  "language_info": {
   "codemirror_mode": {
    "name": "ipython",
    "version": 3
   },
   "file_extension": ".py",
   "mimetype": "text/x-python",
   "name": "python",
   "nbconvert_exporter": "python",
   "pygments_lexer": "ipython3",
   "version": "3.10.11"
  }
 },
 "nbformat": 4,
 "nbformat_minor": 2
}
