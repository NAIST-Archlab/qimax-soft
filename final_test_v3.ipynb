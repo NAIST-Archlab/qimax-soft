{
 "cells": [
  {
   "cell_type": "code",
   "execution_count": 54,
   "metadata": {},
   "outputs": [
    {
     "name": "stdout",
     "output_type": "stream",
     "text": [
      "The autoreload extension is already loaded. To reload it, use:\n",
      "  %reload_ext autoreload\n",
      "to_lut ...: 0.005008697509765625\n",
      "operating ...: 0.005008697509765625\n",
      "Operatoring finished!\n",
      "w2l ...: 0.005999565124511719\n",
      "map noncx ...: 0.005999565124511719\n",
      "map cx ...: 0.0010020732879638672\n",
      "w2l ...: 0.0035102367401123047\n",
      "map noncx ...: 0.0045092105865478516\n",
      "map cx ...: 0.0\n",
      "w2l ...: 0.018517017364501953\n",
      "map noncx ...: 0.020517349243164062\n"
     ]
    }
   ],
   "source": [
    "from gqimax2.instructor import Instructor\n",
    "import numpy as np\n",
    "%load_ext autoreload\n",
    "%autoreload 2\n",
    "\n",
    "num_qubits = 2\n",
    "# ins = sample3()\n",
    "ins = Instructor(num_qubits)\n",
    "begin = ins.indicesss\n",
    "ins.append('ry',0, np.pi/3)\n",
    "ins.append('rx',0, np.pi/2)\n",
    "ins.append('cx', [0,1])\n",
    "ins.append('t', 0)\n",
    "ins.append('cx',[0,1])\n",
    "ins.append('h',0)\n",
    "ins.append('rz', 0, np.pi/4)\n",
    "ins.append('rx',1, np.pi/3)\n",
    "ins.run()"
   ]
  },
  {
   "cell_type": "markdown",
   "metadata": {},
   "source": [
    "### Check the final results, including lambdass and indicesss"
   ]
  },
  {
   "cell_type": "code",
   "execution_count": 55,
   "metadata": {},
   "outputs": [
    {
     "data": {
      "text/plain": [
       "[array([[1, 0],\n",
       "        [2, 0],\n",
       "        [3, 0]], dtype=int8),\n",
       " array([[0, 2],\n",
       "        [0, 3]], dtype=int8)]"
      ]
     },
     "execution_count": 55,
     "metadata": {},
     "output_type": "execute_result"
    }
   ],
   "source": [
    "ins.indicesss"
   ]
  },
  {
   "cell_type": "code",
   "execution_count": 56,
   "metadata": {},
   "outputs": [
    {
     "data": {
      "text/plain": [
       "[array([ 0.18301284, -0.18301283,  0.9659258 ], dtype=float32),\n",
       " array([-0.86602545,  0.49999997], dtype=float32)]"
      ]
     },
     "execution_count": 56,
     "metadata": {},
     "output_type": "execute_result"
    }
   ],
   "source": [
    "ins.lambdass"
   ]
  },
  {
   "cell_type": "code",
   "execution_count": null,
   "metadata": {},
   "outputs": [
    {
     "name": "stdout",
     "output_type": "stream",
     "text": [
      "operating ...: 0.031615495681762695\n",
      "Operatoring finished!\n",
      "map cx ...: 0.0009999275207519531\n",
      "w2l ...: 0.014148235321044922\n",
      "map noncx ...: 0.01614832878112793\n",
      "map cx ...: 0.0019979476928710938\n",
      "w2l ...: 0.013521671295166016\n",
      "map noncx ...: 0.05659151077270508\n",
      "map cx ...: 0.002002239227294922\n",
      "w2l ...: 0.06707572937011719\n",
      "map noncx ...: 0.6312203407287598\n",
      "map cx ...: 0.002003908157348633\n",
      "w2l ...: 0.10930275917053223\n",
      "map noncx ...: 0.9150946140289307\n",
      "map cx ...: 0.0010001659393310547\n",
      "w2l ...: 0.09019780158996582\n",
      "map noncx ...: 0.8011744022369385\n",
      "map cx ...: 0.0020003318786621094\n",
      "w2l ...: 0.09660696983337402\n",
      "map noncx ...: 0.7884249687194824\n",
      "map cx ...: 0.0029990673065185547\n",
      "w2l ...: 0.10732173919677734\n",
      "map noncx ...: 0.8259963989257812\n",
      "map cx ...: 0.00099945068359375\n",
      "w2l ...: 0.12903451919555664\n",
      "map noncx ...: 0.9093878269195557\n",
      "map cx ...: 0.0025086402893066406\n",
      "w2l ...: 0.09689545631408691\n",
      "map noncx ...: 0.8293695449829102\n",
      "map cx ...: 0.0009996891021728516\n",
      "w2l ...: 0.08716440200805664\n",
      "map noncx ...: 0.804250955581665\n"
     ]
    }
   ],
   "source": [
    "num_qubits = 4\n",
    "num_layers = 10\n",
    "ins = Instructor(num_qubits)\n",
    "for k in range(num_layers):\n",
    "\tfor i in range(num_qubits - 1):\n",
    "\t\tins.append('cx', [i, i + 1])\n",
    "\tins.append('cx', [num_qubits - 1, 0])\n",
    "\tfor i in range(num_qubits):\n",
    "\t\tins.append('rx', i, 1)\n",
    "\t\tins.append('ry', i, 2)\n",
    "\t\tins.append('rz', i, 3)\n",
    "ins.run()"
   ]
  },
  {
   "cell_type": "code",
   "execution_count": 53,
   "metadata": {},
   "outputs": [
    {
     "name": "stdout",
     "output_type": "stream",
     "text": [
      "to_lut ...: 7.408766269683838\n",
      "operating ...: 13.673476934432983\n",
      "Operatoring finished!\n",
      "map cx ...: 0.00202178955078125\n",
      "w2l ...: 0.0060007572174072266\n",
      "map noncx ...: 0.009000062942504883\n",
      "map cx ...: 0.0010342597961425781\n",
      "w2l ...: 0.014688730239868164\n",
      "map noncx ...: 0.04070472717285156\n"
     ]
    }
   ],
   "source": [
    "from gqimax2.sample import sample5\n",
    "num_qubits = 5\n",
    "num_layers = 2\n",
    "num_repeats = 1000000\n",
    "ins = sample5(num_qubits, num_layers, num_repeats)\n",
    "ins.run()"
   ]
  }
 ],
 "metadata": {
  "kernelspec": {
   "display_name": "Python 3",
   "language": "python",
   "name": "python3"
  },
  "language_info": {
   "codemirror_mode": {
    "name": "ipython",
    "version": 3
   },
   "file_extension": ".py",
   "mimetype": "text/x-python",
   "name": "python",
   "nbconvert_exporter": "python",
   "pygments_lexer": "ipython3",
   "version": "3.10.11"
  }
 },
 "nbformat": 4,
 "nbformat_minor": 2
}
