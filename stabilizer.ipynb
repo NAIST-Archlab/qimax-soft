{
 "cells": [
  {
   "cell_type": "code",
   "execution_count": 2,
   "metadata": {},
   "outputs": [],
   "source": [
    "import numpy as np\n",
    "from numpy import pi,cos,sin\n",
    "i = np.array([[1, 0], [0, 1]])\n",
    "x = np.array([[0, 1], [1, 0]])\n",
    "y = np.array([[0, -1j], [1j, 0]])\n",
    "z = np.array([[1, 0], [0, -1]])\n",
    "cx = np.array([[1, 0, 0, 0], [0, 1, 0, 0], [0, 0, 0, 1], [0, 0, 1, 0]])"
   ]
  },
  {
   "cell_type": "code",
   "execution_count": 54,
   "metadata": {},
   "outputs": [
    {
     "data": {
      "text/plain": [
       "array([[ 1,  0,  0,  0],\n",
       "       [ 0, -1,  0,  0],\n",
       "       [ 0,  0,  1,  0],\n",
       "       [ 0,  0,  0, -1]])"
      ]
     },
     "execution_count": 54,
     "metadata": {},
     "output_type": "execute_result"
    }
   ],
   "source": [
    "cx @ kr([z,z]) @ cx"
   ]
  },
  {
   "cell_type": "code",
   "execution_count": 61,
   "metadata": {},
   "outputs": [
    {
     "data": {
      "text/plain": [
       "array([[ 0.        +0.j        ,  0.        +0.j        ,\n",
       "         0.        +0.j        ,  0.70710678-0.70710678j],\n",
       "       [ 0.        +0.j        ,  0.        +0.j        ,\n",
       "        -0.70710678+0.70710678j,  0.        +0.j        ],\n",
       "       [ 0.        +0.j        , -0.70710678-0.70710678j,\n",
       "         0.        +0.j        ,  0.        +0.j        ],\n",
       "       [ 0.70710678+0.70710678j,  0.        +0.j        ,\n",
       "         0.        +0.j        ,  0.        +0.j        ]])"
      ]
     },
     "execution_count": 61,
     "metadata": {},
     "output_type": "execute_result"
    }
   ],
   "source": [
    "kr([1/np.sqrt(2)*(x + y), x]) @ kr([z,z])"
   ]
  },
  {
   "cell_type": "code",
   "execution_count": 62,
   "metadata": {},
   "outputs": [
    {
     "data": {
      "text/plain": [
       "array([[-0.        +0.j        ,  0.        +0.j        ,\n",
       "         0.        +0.j        ,  0.70710678-0.70710678j],\n",
       "       [-0.        +0.j        , -0.        +0.j        ,\n",
       "        -0.70710678+0.70710678j,  0.        +0.j        ],\n",
       "       [ 0.        +0.j        , -0.70710678-0.70710678j,\n",
       "        -0.        +0.j        ,  0.        +0.j        ],\n",
       "       [ 0.70710678+0.70710678j,  0.        +0.j        ,\n",
       "        -0.        +0.j        , -0.        +0.j        ]])"
      ]
     },
     "execution_count": 62,
     "metadata": {},
     "output_type": "execute_result"
    }
   ],
   "source": [
    "kr([-1/np.sqrt(2)*(y-x), y])"
   ]
  },
  {
   "cell_type": "code",
   "execution_count": 64,
   "metadata": {},
   "outputs": [
    {
     "data": {
      "text/plain": [
       "array([[0.+0.j, 0.+0.j, 0.+0.j, 0.+0.j],\n",
       "       [0.+0.j, 0.+0.j, 0.+0.j, 0.+0.j],\n",
       "       [0.+0.j, 0.+0.j, 0.+0.j, 0.+0.j],\n",
       "       [0.+0.j, 0.+0.j, 0.+0.j, 0.+0.j]])"
      ]
     },
     "execution_count": 64,
     "metadata": {},
     "output_type": "execute_result"
    }
   ],
   "source": [
    "kr([x,x]) @ kr([z,z]) - kr([-y,y])"
   ]
  },
  {
   "cell_type": "code",
   "execution_count": 4,
   "metadata": {},
   "outputs": [
    {
     "data": {
      "text/plain": [
       "array([[1, 0, 0, 0],\n",
       "       [0, 1, 0, 0],\n",
       "       [0, 0, 1, 0],\n",
       "       [0, 0, 0, 1]])"
      ]
     },
     "execution_count": 4,
     "metadata": {},
     "output_type": "execute_result"
    }
   ],
   "source": [
    "\n",
    "def kr(pauli_string):\n",
    "    kron_product = pauli_string[0]\n",
    "    for matrix in pauli_string[1:]:\n",
    "        kron_product = np.kron(kron_product, matrix)\n",
    "    return kron_product\n",
    "\n",
    "pauli_string = [i, i]\n",
    "kron_product = kr(pauli_string)\n",
    "kron_product"
   ]
  },
  {
   "cell_type": "code",
   "execution_count": 41,
   "metadata": {},
   "outputs": [],
   "source": [
    "a0 = kr([x, x, (cos(pi/4)*z)]) + kr([x,x,(sin(pi/4)*x)])\n",
    "a1 = kr([z,z,i])\n",
    "a2 = kr([z,i,(cos(pi/3)*cos(pi/4)*x)]) - cos(pi/3)*sin(pi/4)*kr([z,i,z]) - sin(pi/3)*kr([z,i,y]) "
   ]
  },
  {
   "cell_type": "code",
   "execution_count": 50,
   "metadata": {},
   "outputs": [
    {
     "data": {
      "text/plain": [
       "array([0.16161165+0.j        , 0.08838835+0.21650635j,\n",
       "       0.        +0.j        , 0.        +0.j        ,\n",
       "       0.        +0.j        , 0.        +0.j        ,\n",
       "       0.1767767 +0.15309311j, 0.0517767 -0.15309311j])"
      ]
     },
     "execution_count": 50,
     "metadata": {},
     "output_type": "execute_result"
    }
   ],
   "source": [
    "p = (kr([i,i,i]) + a0) @ (kr([i,i,i]) + a1) @ (kr([i,i,i]) + a2)\n",
    "p[0]/8"
   ]
  },
  {
   "cell_type": "code",
   "execution_count": 73,
   "metadata": {},
   "outputs": [
    {
     "name": "stdout",
     "output_type": "stream",
     "text": [
      "[0.56242222+0.23296291j 0.        +0.j         0.30360318-0.73296291j\n",
      " 0.        +0.j        ]\n",
      "[[ 0.37+0.j    0.  +0.j   -0.  +0.48j  0.  +0.j  ]\n",
      " [ 0.  +0.j    0.  +0.j    0.  +0.j    0.  +0.j  ]\n",
      " [-0.  -0.48j  0.  -0.j    0.63+0.j    0.  -0.j  ]\n",
      " [ 0.  +0.j    0.  +0.j    0.  +0.j    0.  +0.j  ]]\n"
     ]
    }
   ],
   "source": [
    "import qiskit\n",
    "from qiskit.visualization import plot_histogram\n",
    "from qiskit.primitives import Sampler\n",
    "import qiskit.quantum_info\n",
    "\n",
    "qc = qiskit.QuantumCircuit(2)\n",
    "qc.h(1)\n",
    "qc.cx(1,0)\n",
    "qc.t(1)\n",
    "qc.cx(1,0)\n",
    "qc.h(1)\n",
    "qc.rx(pi/3, 1)\n",
    "# qc.measure([0,1,2], [0,1,2])\n",
    "# sampler = Sampler()\n",
    "# job = sampler.run(qc)\n",
    "# result = job.result()\n",
    "# probabilities = result.quasi_dists[0]\n",
    "# print(probabilities)\n",
    "state = qiskit.quantum_info.Statevector(qc).data\n",
    "print(state)\n",
    "dm = np.outer(state, state.conj())\n",
    "print(np.round(dm,2))"
   ]
  }
 ],
 "metadata": {
  "kernelspec": {
   "display_name": "Python 3",
   "language": "python",
   "name": "python3"
  },
  "language_info": {
   "codemirror_mode": {
    "name": "ipython",
    "version": 3
   },
   "file_extension": ".py",
   "mimetype": "text/x-python",
   "name": "python",
   "nbconvert_exporter": "python",
   "pygments_lexer": "ipython3",
   "version": "3.11.5"
  }
 },
 "nbformat": 4,
 "nbformat_minor": 2
}
