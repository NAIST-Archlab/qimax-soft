{
 "cells": [
  {
   "cell_type": "code",
   "execution_count": 96,
   "metadata": {},
   "outputs": [],
   "source": [
    "import numpy as np\n",
    "from numpy import pi,cos,sin\n",
    "i = np.array([[1, 0], [0, 1]])\n",
    "x = np.array([[0, 1], [1, 0]])\n",
    "y = np.array([[0, -1j], [1j, 0]])\n",
    "z = np.array([[1, 0], [0, -1]])\n",
    "cx = np.array([[1, 0, 0, 0], [0, 1, 0, 0], [0, 0, 0, 1], [0, 0, 1, 0]])\n",
    "ry = lambda theta: np.array([[cos(theta/2), -sin(theta/2)], [sin(theta/2), cos(theta/2)]])\n",
    "rx = lambda theta: np.array([[cos(theta/2), -1j*sin(theta/2)], [-1j*sin(theta/2), cos(theta/2)]])\n",
    "rz = lambda theta: np.array([[np.exp(-1j*theta/2), 0], [0, np.exp(1j*theta/2)]])"
   ]
  },
  {
   "cell_type": "code",
   "execution_count": 12,
   "metadata": {},
   "outputs": [
    {
     "ename": "KeyError",
     "evalue": "0",
     "output_type": "error",
     "traceback": [
      "\u001b[0;31m---------------------------------------------------------------------------\u001b[0m",
      "\u001b[0;31mKeyError\u001b[0m                                  Traceback (most recent call last)",
      "Cell \u001b[0;32mIn[12], line 2\u001b[0m\n\u001b[1;32m      1\u001b[0m k \u001b[38;5;241m=\u001b[39m PauliTerm({\u001b[38;5;124m'\u001b[39m\u001b[38;5;124mzi\u001b[39m\u001b[38;5;124m'\u001b[39m: \u001b[38;5;241m1\u001b[39m, \u001b[38;5;124m'\u001b[39m\u001b[38;5;124miz\u001b[39m\u001b[38;5;124m'\u001b[39m: \u001b[38;5;241m1\u001b[39m})\n\u001b[0;32m----> 2\u001b[0m \u001b[43mk\u001b[49m\u001b[38;5;241;43m.\u001b[39;49m\u001b[43mmap\u001b[49m\u001b[43m(\u001b[49m\u001b[38;5;124;43m'\u001b[39;49m\u001b[38;5;124;43mh\u001b[39;49m\u001b[38;5;124;43m'\u001b[39;49m\u001b[43m,\u001b[49m\u001b[43m \u001b[49m\u001b[38;5;241;43m0\u001b[39;49m\u001b[43m)\u001b[49m\n\u001b[1;32m      3\u001b[0m k\u001b[38;5;241m.\u001b[39mmap(\u001b[38;5;124m'\u001b[39m\u001b[38;5;124mcx\u001b[39m\u001b[38;5;124m'\u001b[39m, [\u001b[38;5;241m0\u001b[39m, \u001b[38;5;241m1\u001b[39m])\n",
      "Cell \u001b[0;32mIn[11], line 76\u001b[0m, in \u001b[0;36mPauliTerm.map\u001b[0;34m(self, gate, index, param)\u001b[0m\n\u001b[1;32m     72\u001b[0m     out_scalar, output_word \u001b[38;5;241m=\u001b[39m stabilizer_tabular(\n\u001b[1;32m     73\u001b[0m         \u001b[38;5;28mself\u001b[39m\u001b[38;5;241m.\u001b[39mwords[j]\u001b[38;5;241m.\u001b[39mget(index), gate, param)\n\u001b[1;32m     74\u001b[0m \u001b[38;5;28;01melse\u001b[39;00m:\n\u001b[1;32m     75\u001b[0m     out_scalar, output_word \u001b[38;5;241m=\u001b[39m stabilizer_tabular(\n\u001b[0;32m---> 76\u001b[0m         \u001b[38;5;28;43mself\u001b[39;49m\u001b[38;5;241;43m.\u001b[39;49m\u001b[43mwords\u001b[49m\u001b[43m[\u001b[49m\u001b[43mj\u001b[49m\u001b[43m]\u001b[49m\u001b[38;5;241m.\u001b[39mget(index), gate)\n\u001b[1;32m     77\u001b[0m \u001b[38;5;28;01mif\u001b[39;00m \u001b[38;5;28mtype\u001b[39m(output_word) \u001b[38;5;241m==\u001b[39m \u001b[38;5;28mlist\u001b[39m:\n\u001b[1;32m     78\u001b[0m     \u001b[38;5;28mself\u001b[39m\u001b[38;5;241m.\u001b[39mwords\u001b[38;5;241m.\u001b[39mappend(\u001b[38;5;28mself\u001b[39m\u001b[38;5;241m.\u001b[39mwords[j]\u001b[38;5;241m.\u001b[39mduplicate())\n",
      "\u001b[0;31mKeyError\u001b[0m: 0"
     ]
    }
   ],
   "source": []
  },
  {
   "cell_type": "code",
   "execution_count": 171,
   "metadata": {},
   "outputs": [],
   "source": [
    "from sojo.stabilizer import PauliWord\n",
    "from sojo.pc import PauliComposer\n",
    "from sojo.tabular import stabilizer_tabular\n",
    "import numpy as np\n",
    "class PauliTerm:\n",
    "    def __init__(self, words):\n",
    "        self.words: dict[str, list[np.complex64]] = words\n",
    "        self.num_qubits = len(next(iter(words)))\n",
    "    def __str__(self):\n",
    "        return ' + '.join([str(np.round(v, 4)) + '*' + str(k) for k,v in self.words.items()])\n",
    "    def to_matrix_naive(self):\n",
    "        # Return sum(P)\n",
    "        matrix = np.zeros((2**(self.num_qubits), 2**(self.num_qubits)), dtype=complex)\n",
    "        for word, scalar in self.words.items():\n",
    "            matrix += PauliComposer(word, scalar).to_matrix()\n",
    "        return matrix\n",
    "    def reduce(self):\n",
    "        # Example: P = [1*zxx, 1*yzi, 1j*zxx] -- reduce() --> [(1+1j)*zxx, 1*yzi]\n",
    "        # Example: P = [1*zxx, 1*yzi, -1*zxx] -- reduce() --> [1*yzi]\n",
    "        element_sum = {}\n",
    "        for pauli_word in self.words:\n",
    "            scalar, string = pauli_word.scalar, pauli_word.word\n",
    "            if np.abs(scalar) < 10**(-10):\n",
    "                scalar = 0\n",
    "            if string in element_sum:\n",
    "                element_sum[string] += scalar\n",
    "            else:\n",
    "                element_sum[string] = scalar\n",
    "\n",
    "        self.words = [PauliWord(value, key) for key, value in element_sum.items() if value != 0]\n",
    "        return\n",
    "    def to_matrix(self, mode):\n",
    "        # Return sum(P)\n",
    "        if mode == 'csr':\n",
    "            matrix = self.words[0].to_pc().to_csr()\n",
    "            for word in self.words[1:]:\n",
    "                matrix = matrix + word.to_pc().to_csr()\n",
    "        else:\n",
    "            matrix = self.words[0].to_pc().to_coo()\n",
    "            for word in self.words[1:]:\n",
    "                matrix = matrix + word.to_pc().to_coo()\n",
    "        return matrix\n",
    "    def multiply(self, other):\n",
    "        # Multiply two PauliTerms\n",
    "        new_terms = []\n",
    "        for i in self.words:\n",
    "            for j in other.words:\n",
    "                new_terms.append(i.multiply(j))\n",
    "        return PauliTerm(new_terms)\n",
    "    def map(self, gate, index, param = 0):\n",
    "        # Example: xii -- (h, 0) --> [z]ii\n",
    "        # Example: xxx -- (t, 0) --> [x']xx = [1/sqrt(2) (x + y)]xx\n",
    "        # Example: zxz -- (cx, [0,2]) --> [i]x[z]\n",
    "        # This function will map a Pauli term to another Pauli term\n",
    "        # Example: xii + xxx -- (h, 0) --> [z]ii + [z]xx\n",
    "        # Two keys: only act on coressponding qubits, and independence between pauli strings\n",
    "        num_words = len(self.words)\n",
    "        count = 0\n",
    "        def update_word(word, index, character):\n",
    "            return word[:index] + character + word[index+1:]\n",
    "        for word_j, scalar_j in list(self.words.items()):\n",
    "            # Process on a single Pauli string\n",
    "            if count > num_words:\n",
    "                break\n",
    "            count += 1\n",
    "            \n",
    "            if gate == 'cx':\n",
    "                # Index will be [control, target]\n",
    "                # Word will be [word_control, word_target]\n",
    "                out_scalar, output_word = stabilizer_tabular(\n",
    "                    word_j[index[0]] + word_j[index[1]], gate)\n",
    "                # Replace word_j with output_word\n",
    "                # Example: xii -- (cx, [0,2]) --> [x]i[x]\n",
    "                new_word = update_word(word_j, index[0], output_word[0])\n",
    "                new_word = update_word(new_word, index[1], output_word[1])\n",
    "                # Don't forget +- 1 factor from cx\n",
    "                # If new_word is not in the dictionary, add it, and set [0] in the old word = 0\n",
    "                # If new_word is in the dictionary, update the scalar and append at [-1] in the existance one\n",
    "                # New_word = word_j in cnot mean there is no change, either scalar\n",
    "                if new_word == word_j:\n",
    "                    pass\n",
    "                else:\n",
    "                    if new_word in self.words:\n",
    "                        self.words[new_word].append(self.words[word_j][0] * out_scalar)\n",
    "                        self.words[word_j][0] = 0\n",
    "                    else:\n",
    "                        self.words[new_word] = [self.words[word_j][0] * out_scalar]\n",
    "                        self.words[word_j][0] = 0\n",
    "                # if abs(self.words[new_word]) < 10**(-10):\n",
    "                #     self.words.pop(new_word)\n",
    "            else:\n",
    "                # Index will be just a scalar\n",
    "                if gate in ['rx', 'ry', 'rz']:\n",
    "                    out_scalar, output_word = stabilizer_tabular(\n",
    "                        word_j[index], gate, param)\n",
    "                else:\n",
    "                    out_scalar, output_word = stabilizer_tabular(\n",
    "                        word_j[index], gate)\n",
    "                if type(output_word) == list:\n",
    "                    # One word turn to be two words, \n",
    "                    # Only one index, 2 output words, 2 output scalars\n",
    "                    # I append new words to the end of the list\n",
    "                    # Example: xii -- (ry, 0) --> [x]ii + [z]ii\n",
    "                    new_word_0 = word_j\n",
    "                    new_word_1 = update_word(word_j, index, output_word[1])\n",
    "                    if new_word_1 in self.words:\n",
    "                        self.words[new_word_1].append(self.words[word_j][0] * out_scalar[1])\n",
    "\n",
    "                    else:\n",
    "                        self.words[new_word_1] = [self.words[word_j][0] * out_scalar[1]]\n",
    "                    self.words[word_j][0] *= out_scalar[0]\n",
    "                else:\n",
    "                    new_word = update_word(word_j, index, output_word)\n",
    "                    if new_word in self.words:\n",
    "                        self.words[new_word].append(self.words[word_j][0] * out_scalar)\n",
    "                        self.words[word_j][0] = 0\n",
    "                    else:\n",
    "                        self.words[new_word] = [self.words[word_j][0] * out_scalar]\n",
    "                        self.words[word_j][0] = 0\n",
    "        self.words = {key: [s] for key, value in self.words.items() if abs(s := sum(value)) > 10**(-10)}\n",
    "        return"
   ]
  },
  {
   "cell_type": "code",
   "execution_count": 151,
   "metadata": {},
   "outputs": [
    {
     "name": "stdout",
     "output_type": "stream",
     "text": [
      "{'xii': [1], 'zxx': [1]}\n"
     ]
    }
   ],
   "source": [
    "k = {'xii': [0, 0, 1], 'yzi': [1, -1], 'zxx': [1]}\n",
    "\n",
    "# Update value to be the sum of the list\n",
    "k = {key: [s] for key, value in k.items() if (s := sum(value)) != 0}\n",
    "\n",
    "print(k)\n"
   ]
  },
  {
   "cell_type": "code",
   "execution_count": 172,
   "metadata": {},
   "outputs": [
    {
     "name": "stdout",
     "output_type": "stream",
     "text": [
      "[-0.183]*yi + [0.9659]*zi + [0.183]*xi\n"
     ]
    }
   ],
   "source": [
    "k = PauliTerm({'zi': [1]})\n",
    "# k.map('h', 0)\n",
    "# k.map('cx', [0, 1])\n",
    "# k.map('t', 0)\n",
    "# k.map('cx', [0, 1])\n",
    "# k.map('h', 0)\n",
    "\n",
    "k.map('ry', 0, np.pi/3)\n",
    "k.map('rx', 0, np.pi/2)\n",
    "k.map('cx', [0,1])\n",
    "\n",
    "k.map('t', 0)\n",
    "k.map('cx', [0,1])\n",
    "k.map('h', 0)\n",
    "k.map('rz', 0, np.pi/4)\n",
    "k.map('rx', 1, np.pi/3)\n",
    "print(k)"
   ]
  },
  {
   "cell_type": "code",
   "execution_count": 139,
   "metadata": {},
   "outputs": [
    {
     "name": "stdout",
     "output_type": "stream",
     "text": [
      "[(0.7, 'yiii')]\n"
     ]
    }
   ],
   "source": [
    "from collections import defaultdict\n",
    "\n",
    "def reduce_weighted_sum(weighted_terms):\n",
    "    term_dict = defaultdict(float)  # Dictionary to sum coefficients for each string\n",
    "    for term in weighted_terms:\n",
    "        coefficient, string = term  # Unpack the coefficient and string\n",
    "        term_dict[string] += coefficient  # Sum coefficients for the same string\n",
    "\n",
    "    # Construct the simplified result as a list of tuples\n",
    "    reduced_terms = [(coef, string) for string, coef in term_dict.items() if coef != 0]\n",
    "\n",
    "    return reduced_terms\n",
    "\n",
    "# Example usage:\n",
    "terms = [(0.5, 'xzz'), (0.7, 'yiii'), (-0.5, 'xzz')]\n",
    "reduced = reduce_weighted_sum(terms)\n",
    "print(reduced)  # [(0.6, 'xzz'), (0.7, 'yiii')]\n"
   ]
  },
  {
   "cell_type": "code",
   "execution_count": null,
   "metadata": {},
   "outputs": [],
   "source": []
  }
 ],
 "metadata": {
  "kernelspec": {
   "display_name": "Python 3",
   "language": "python",
   "name": "python3"
  },
  "language_info": {
   "codemirror_mode": {
    "name": "ipython",
    "version": 3
   },
   "file_extension": ".py",
   "mimetype": "text/x-python",
   "name": "python",
   "nbconvert_exporter": "python",
   "pygments_lexer": "ipython3",
   "version": "3.11.5"
  }
 },
 "nbformat": 4,
 "nbformat_minor": 2
}
