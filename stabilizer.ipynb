{
 "cells": [
  {
   "cell_type": "code",
   "execution_count": 1,
   "metadata": {},
   "outputs": [],
   "source": [
    "import numpy as np\n",
    "from numpy import pi,cos,sin\n",
    "i = np.array([[1, 0], [0, 1]])\n",
    "x = np.array([[0, 1], [1, 0]])\n",
    "y = np.array([[0, -1j], [1j, 0]])\n",
    "z = np.array([[1, 0], [0, -1]])\n",
    "cx = np.array([[1, 0, 0, 0], [0, 1, 0, 0], [0, 0, 0, 1], [0, 0, 1, 0]])\n",
    "ry = lambda theta: np.array([[cos(theta/2), -sin(theta/2)], [sin(theta/2), cos(theta/2)]])\n",
    "rx = lambda theta: np.array([[cos(theta/2), -1j*sin(theta/2)], [-1j*sin(theta/2), cos(theta/2)]])\n",
    "rz = lambda theta: np.array([[np.exp(-1j*theta/2), 0], [0, np.exp(1j*theta/2)]])"
   ]
  },
  {
   "cell_type": "code",
   "execution_count": 2,
   "metadata": {},
   "outputs": [
    {
     "name": "stdout",
     "output_type": "stream",
     "text": [
      "[-0.183]*yi + [0.9659]*zi + [0.183]*xi\n",
      "[0.5]*iz + [-0.866]*iy\n"
     ]
    }
   ],
   "source": [
    "from sojo.stabilizer import StabilizerGenerator, PauliTerm, PauliWord\n",
    "stb = StabilizerGenerator(2)\n",
    "stb.ry(np.pi/3, 0)\n",
    "stb.rx(np.pi/2, 0)\n",
    "stb.cx([0,1])\n",
    "stb.t(0)\n",
    "stb.cx([0,1])\n",
    "stb.h(0)\n",
    "stb.rz(np.pi/4, 0)\n",
    "stb.rx(np.pi/3, 1)\n",
    "for s in (stb.stabilizers):\n",
    "    print(s)"
   ]
  },
  {
   "cell_type": "code",
   "execution_count": 88,
   "metadata": {},
   "outputs": [
    {
     "name": "stdout",
     "output_type": "stream",
     "text": [
      "[[ 0.9659258 +0.j          0.        +0.j          0.18301271+0.18301271j\n",
      "   0.        +0.j        ]\n",
      " [ 0.        +0.j          0.9659258 +0.j          0.        +0.j\n",
      "   0.18301271+0.18301271j]\n",
      " [ 0.18301271-0.18301271j  0.        +0.j         -0.9659258 +0.j\n",
      "   0.        +0.j        ]\n",
      " [ 0.        +0.j          0.18301271-0.18301271j  0.        +0.j\n",
      "  -0.9659258 +0.j        ]]\n"
     ]
    }
   ],
   "source": [
    "K = stb.stabilizers[0]\n",
    "from sojo.pc import PauliComposer\n",
    "import jax.numpy as jnp\n",
    "from jax import vmap\n",
    "def zipped_list(rows, cols):\n",
    "    return [list(item) for item in zip(rows, cols)]\n",
    "\n",
    "batch_indices = []\n",
    "batch_values = []\n",
    "for word, value in K.words.items():\n",
    "\tpc = PauliComposer(word, value[0])\n",
    "\tzip_list = zipped_list(pc.get_row(), pc.get_col())\n",
    "\tbatch_indices.append(zip_list)\n",
    "\tbatch_values.append(pc.get_value())\n",
    "batch_indices = jnp.array(batch_indices)\n",
    "batch_values = jnp.array(batch_values)\n",
    "batch_sparse_matrix = BCOO((batch_values, batch_indices), shape = (len(K.words.items()),2**pc.n,2**pc.n))\n",
    "def sum_bcoo(tensor):\n",
    "    return tensor.sum(axis=0)  # Summing along axis 1\n",
    "\n",
    "# Apply jax.jit to compile the function\n",
    "jit_sum_bcoo = jax.jit(sum_bcoo)\n",
    "k = jit_sum_bcoo(batch_sparse_matrix)\n",
    "print(k.todense())"
   ]
  },
  {
   "cell_type": "code",
   "execution_count": 78,
   "metadata": {},
   "outputs": [
    {
     "name": "stdout",
     "output_type": "stream",
     "text": [
      "yi [-0.18301270189221927]\n"
     ]
    },
    {
     "data": {
      "text/plain": [
       "array([[ 0.96592583+0.j       ,  0.        +0.j       ,\n",
       "         0.1830127 +0.3660254j,  0.        +0.j       ],\n",
       "       [ 0.        +0.j       ,  0.96592583+0.j       ,\n",
       "         0.        +0.j       ,  0.1830127 +0.3660254j],\n",
       "       [ 0.1830127 -0.3660254j,  0.        +0.j       ,\n",
       "        -0.96592583+0.j       ,  0.        +0.j       ],\n",
       "       [ 0.        +0.j       ,  0.1830127 -0.3660254j,\n",
       "         0.        +0.j       , -0.96592583+0.j       ]])"
      ]
     },
     "execution_count": 78,
     "metadata": {},
     "output_type": "execute_result"
    }
   ],
   "source": [
    "K.to_matrix_naive()"
   ]
  },
  {
   "cell_type": "code",
   "execution_count": 50,
   "metadata": {},
   "outputs": [
    {
     "name": "stdout",
     "output_type": "stream",
     "text": [
      "[[0.+0.j        0.+0.j        0.+0.1830127j 0.+0.j       ]\n",
      " [0.+0.j        0.+0.j        0.+0.j        0.+0.1830127j]\n",
      " [0.-0.1830127j 0.+0.j        0.+0.j        0.+0.j       ]\n",
      " [0.+0.j        0.-0.1830127j 0.+0.j        0.+0.j       ]]\n",
      "[[ 0.96592583  0.          0.          0.        ]\n",
      " [ 0.          0.96592583  0.          0.        ]\n",
      " [ 0.          0.         -0.96592583  0.        ]\n",
      " [ 0.          0.          0.         -0.96592583]]\n",
      "[[0.        0.        0.1830127 0.       ]\n",
      " [0.        0.        0.        0.1830127]\n",
      " [0.1830127 0.        0.        0.       ]\n",
      " [0.        0.1830127 0.        0.       ]]\n"
     ]
    }
   ],
   "source": [
    "for word, value in K.words.items():\n",
    "\tpc = PauliComposer(word, value[0])\n",
    "\tprint(pc.to_matrix())"
   ]
  },
  {
   "cell_type": "code",
   "execution_count": 86,
   "metadata": {},
   "outputs": [
    {
     "name": "stdout",
     "output_type": "stream",
     "text": [
      "[[[  0.   0.   0.   0.]\n",
      "  [  0.  20.   0.   0.]\n",
      "  [  0.   0.   0.   0.]\n",
      "  [ 10.   0.   0.   0.]]\n",
      "\n",
      " [[  0.   0.   0.   0.]\n",
      "  [ 40.  30.   0.   0.]\n",
      "  [  0.   0.   0.   0.]\n",
      "  [  0.   0.   0.   0.]]\n",
      "\n",
      " [[110.   0.   0.   0.]\n",
      "  [  0.   0.   0.   0.]\n",
      "  [  0.   0.   0.   0.]\n",
      "  [  0. 210.   0.   0.]]]\n",
      "[[110.   0.   0.   0.]\n",
      " [ 40.  50.   0.   0.]\n",
      " [  0.   0.   0.   0.]\n",
      " [ 10. 210.   0.   0.]]\n"
     ]
    },
    {
     "ename": "AttributeError",
     "evalue": "'jaxlib.xla_extension.ArrayImpl' object has no attribute 'todense'",
     "output_type": "error",
     "traceback": [
      "\u001b[1;31m---------------------------------------------------------------------------\u001b[0m",
      "\u001b[1;31mAttributeError\u001b[0m                            Traceback (most recent call last)",
      "Cell \u001b[1;32mIn[86], line 35\u001b[0m\n\u001b[0;32m     33\u001b[0m \u001b[38;5;66;03m# # pmap parallelizes across devices for even larger batch sizes\u001b[39;00m\n\u001b[0;32m     34\u001b[0m parallel_sum_pmap \u001b[38;5;241m=\u001b[39m vmap(\u001b[38;5;28;01mlambda\u001b[39;00m b: b\u001b[38;5;241m.\u001b[39msum(), in_axes \u001b[38;5;241m=\u001b[39m \u001b[38;5;241m0\u001b[39m)(batch_sparse_matrix)\n\u001b[1;32m---> 35\u001b[0m \u001b[38;5;28mprint\u001b[39m(\u001b[43mparallel_sum_pmap\u001b[49m\u001b[38;5;241;43m.\u001b[39;49m\u001b[43mtodense\u001b[49m())\n\u001b[0;32m     36\u001b[0m \u001b[38;5;66;03m# bcoo_concatenate(batch_sparse_matrix, dimension = 1).todense()\u001b[39;00m\n",
      "\u001b[1;31mAttributeError\u001b[0m: 'jaxlib.xla_extension.ArrayImpl' object has no attribute 'todense'"
     ]
    }
   ],
   "source": [
    "\n",
    "from jax import grad\n",
    "from jax.experimental import sparse\n",
    "from jax.experimental.sparse import bcoo_concatenate\n",
    "# Batched example\n",
    "import jax\n",
    "import jax.numpy as jnp\n",
    "from jax.experimental.sparse import BCOO\n",
    "batch_indices = jnp.array([\n",
    "    [[3, 0], [1, 1]],  # First matrix\n",
    "    [[1, 1], [1, 0]],  # Second matrix\n",
    "    [[0, 0], [3, 1]],  # First matrix\n",
    "])\n",
    "\n",
    "batch_data = jnp.array([\n",
    "    [10.0, 20.0],  # Data for first matrix\n",
    "    [30.0, 40.0],  # Data for second matrix\n",
    "    [110.0, 210.0],  # Data for first matrix\n",
    "])\n",
    "\n",
    "batch_shape = (3, 4, 4)  # 4 matrices of shape (2, 2)\n",
    "\n",
    "batch_sparse_matrix = BCOO((batch_data, batch_indices), shape = batch_shape)\n",
    "def sum_bcoo(tensor):\n",
    "    return tensor.sum(axis=0)  # Summing along axis 1\n",
    "\n",
    "# Apply jax.jit to compile the function\n",
    "jit_sum_bcoo = jax.jit(sum_bcoo)\n",
    "k = jit_sum_bcoo(batch_sparse_matrix)\n",
    "print(batch_sparse_matrix.todense())\n",
    "print(k.todense())\n",
    "from jax import vmap\n",
    "\n",
    "# # pmap parallelizes across devices for even larger batch sizes\n",
    "parallel_sum_pmap = vmap(lambda b: b.sum(), in_axes = 0)(batch_sparse_matrix)\n",
    "print(parallel_sum_pmap.todense())\n",
    "# bcoo_concatenate(batch_sparse_matrix, dimension = 1).todense()"
   ]
  },
  {
   "cell_type": "code",
   "execution_count": 7,
   "metadata": {},
   "outputs": [
    {
     "data": {
      "text/plain": [
       "[<matplotlib.lines.Line2D at 0x218bb43dea0>]"
      ]
     },
     "execution_count": 7,
     "metadata": {},
     "output_type": "execute_result"
    },
    {
     "data": {
      "image/png": "[encoded data removed]",
      "text/plain": [
       "<Figure size 640x480 with 1 Axes>"
      ]
     },
     "metadata": {},
     "output_type": "display_data"
    }
   ],
   "source": [
    "from itertools import product\n",
    "from sojo.pc import PauliComposer\n",
    "# Define the set of characters\n",
    "chars = ['x', 'y', 'z', 'i']\n",
    "n = 4\n",
    "# Generate all combinations of length n\n",
    "combinations = [''.join(p) for p in product(chars, repeat=n)]\n",
    "xs = np.random.uniform(-2, 2, 4**n)\n",
    "matrix = np.zeros((2**n, 2**n), dtype=complex)\n",
    "densities = []\n",
    "for i, comb in enumerate(combinations):\n",
    "    matrix += PauliComposer(comb, xs[i]).to_matrix()\n",
    "    density = np.count_nonzero(matrix) / matrix.size\n",
    "    densities.append(density)\n",
    "import matplotlib.pyplot as plt\n",
    "plt.plot(densities)"
   ]
  }
 ],
 "metadata": {
  "kernelspec": {
   "display_name": "Python 3",
   "language": "python",
   "name": "python3"
  },
  "language_info": {
   "codemirror_mode": {
    "name": "ipython",
    "version": 3
   },
   "file_extension": ".py",
   "mimetype": "text/x-python",
   "name": "python",
   "nbconvert_exporter": "python",
   "pygments_lexer": "ipython3",
   "version": "3.10.11"
  }
 },
 "nbformat": 4,
 "nbformat_minor": 2
}
