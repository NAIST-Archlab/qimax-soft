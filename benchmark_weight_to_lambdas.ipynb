{
 "cells": [
  {
   "cell_type": "code",
   "execution_count": 5,
   "metadata": {},
   "outputs": [
    {
     "name": "stdout",
     "output_type": "stream",
     "text": [
      "Thời gian NumPy (CPU): 19.0819 giây\n",
      "Thời gian CuPy (GPU): 0.3014 giây\n",
      "Kết quả giống nhau.\n",
      "Tăng tốc: 63.32x\n"
     ]
    }
   ],
   "source": [
    "import numpy as np\n",
    "import cupy as cp\n",
    "import time\n",
    "\n",
    "# Hàm cũ sử dụng NumPy\n",
    "def weightss_to_lambda_numpy(weightss: np.ndarray, lambdas: np.ndarray) -> np.ndarray:\n",
    "    num_qubits = weightss.shape[1]\n",
    "    new_lambdas = np.zeros((4**num_qubits))\n",
    "    for j, weights in enumerate(weightss):\n",
    "        combinations = np.stack(np.meshgrid(*weights, indexing='ij'), axis=-1).reshape(-1, len(weights))\n",
    "        new_lambdas += lambdas[j] * np.prod(combinations, axis=1)\n",
    "    return new_lambdas\n",
    "\n",
    "# Hàm mới sử dụng CuPy\n",
    "def weightss_to_lambda_cupy(weightss: cp.ndarray, lambdas: cp.ndarray) -> cp.ndarray:\n",
    "    num_terms, num_qubits, _ = weightss.shape\n",
    "    new_lambdas = cp.zeros(4**num_qubits)\n",
    "    for j in range(num_terms):\n",
    "        weights = weightss[j]\n",
    "        products = weights[0]\n",
    "        for k in range(1, num_qubits):\n",
    "            products = cp.outer(products, weights[k]).ravel()\n",
    "        new_lambdas += lambdas[j] * products\n",
    "    return new_lambdas\n",
    "\n",
    "# Thiết lập tham số\n",
    "num_qubits = 10  # 4^10 = 1,048,576 phần tử\n",
    "num_terms = 200\n",
    "\n",
    "# Tạo dữ liệu ngẫu nhiên cho NumPy\n",
    "weightss_np = np.random.rand(num_terms, num_qubits, 4)\n",
    "lambdas_np = np.random.rand(num_terms)\n",
    "\n",
    "# Chuyển dữ liệu sang CuPy\n",
    "weightss_cp = cp.asarray(weightss_np)\n",
    "lambdas_cp = cp.asarray(lambdas_np)\n",
    "\n",
    "# Benchmark hàm NumPy\n",
    "start_time = time.time()\n",
    "result_numpy = weightss_to_lambda_numpy(weightss_np, lambdas_np)\n",
    "numpy_time = time.time() - start_time\n",
    "print(f\"Thời gian NumPy (CPU): {numpy_time:.4f} giây\")\n",
    "\n",
    "# Benchmark hàm CuPy\n",
    "start_time = time.time()\n",
    "result_cupy = weightss_to_lambda_cupy(weightss_cp, lambdas_cp)\n",
    "cupy_time = time.time() - start_time\n",
    "print(f\"Thời gian CuPy (GPU): {cupy_time:.4f} giây\")\n",
    "\n",
    "if np.allclose(result_numpy, result_cupy):\n",
    "    print(\"Kết quả giống nhau.\")\n",
    "else:\n",
    "    print(\"Kết quả khác nhau.\")\n",
    "\n",
    "# Tính tốc độ tăng tốc\n",
    "speedup = numpy_time / cupy_time\n",
    "print(f\"Tăng tốc: {speedup:.2f}x\")"
   ]
  },
  {
   "cell_type": "code",
   "execution_count": 10,
   "metadata": {},
   "outputs": [
    {
     "name": "stdout",
     "output_type": "stream",
     "text": [
      "(3, 3, 4) (3,)\n",
      "(4, 3, 4) (4,)\n",
      "(3, 3, 4) (3,)\n"
     ]
    },
    {
     "ename": "ValueError",
     "evalue": "operands could not be broadcast together with shapes (64,) (16,) (64,)",
     "output_type": "error",
     "traceback": [
      "\u001b[1;31m---------------------------------------------------------------------------\u001b[0m",
      "\u001b[1;31mValueError\u001b[0m                                Traceback (most recent call last)",
      "Cell \u001b[1;32mIn[10], line 10\u001b[0m\n\u001b[0;32m      8\u001b[0m \u001b[38;5;28;01mfor\u001b[39;00m i \u001b[38;5;129;01min\u001b[39;00m \u001b[38;5;28mrange\u001b[39m(num_qubits):\n\u001b[0;32m      9\u001b[0m \t\u001b[38;5;28mprint\u001b[39m(weightsss_np[i]\u001b[38;5;241m.\u001b[39mshape, lambdass_np[i]\u001b[38;5;241m.\u001b[39mshape)\n\u001b[1;32m---> 10\u001b[0m lambdass \u001b[38;5;241m=\u001b[39m \u001b[43mweightsss_to_lambdas\u001b[49m\u001b[43m(\u001b[49m\u001b[43mweightsss_np\u001b[49m\u001b[43m,\u001b[49m\u001b[43m \u001b[49m\u001b[43mlambdass_np\u001b[49m\u001b[43m)\u001b[49m\n",
      "File \u001b[1;32mc:\\Users\\Public\\Documents\\Github\\qimax\\gqimax\\mapper.py:51\u001b[0m, in \u001b[0;36mweightsss_to_lambdas\u001b[1;34m(weightsss, lambdass)\u001b[0m\n\u001b[0;32m     49\u001b[0m results \u001b[38;5;241m=\u001b[39m []\n\u001b[0;32m     50\u001b[0m \u001b[38;5;28;01mfor\u001b[39;00m i \u001b[38;5;129;01min\u001b[39;00m \u001b[38;5;28mrange\u001b[39m(\u001b[38;5;28mlen\u001b[39m(weightsss)):\n\u001b[1;32m---> 51\u001b[0m     result_i \u001b[38;5;241m=\u001b[39m \u001b[43mweightss_to_lambda\u001b[49m\u001b[43m(\u001b[49m\n\u001b[0;32m     52\u001b[0m \u001b[43m        \u001b[49m\u001b[43mweightsss\u001b[49m\u001b[43m[\u001b[49m\u001b[43mi\u001b[49m\u001b[43m]\u001b[49m\u001b[43m,\u001b[49m\u001b[43m \u001b[49m\u001b[38;5;66;43;03m# k_i x n x 4\u001b[39;49;00m\n\u001b[0;32m     53\u001b[0m \u001b[43m        \u001b[49m\u001b[43mlambdass\u001b[49m\u001b[43m[\u001b[49m\u001b[43mi\u001b[49m\u001b[43m]\u001b[49m\u001b[43m  \u001b[49m\u001b[38;5;66;43;03m# k_i\u001b[39;49;00m\n\u001b[0;32m     54\u001b[0m \u001b[43m    \u001b[49m\u001b[43m)\u001b[49m  \u001b[38;5;66;03m# Shape: (?,)\u001b[39;00m\n\u001b[0;32m     55\u001b[0m     results\u001b[38;5;241m.\u001b[39mappend(result_i)\n\u001b[0;32m     56\u001b[0m \u001b[38;5;28;01mreturn\u001b[39;00m cp\u001b[38;5;241m.\u001b[39mstack(results)\n",
      "File \u001b[1;32mc:\\Users\\Public\\Documents\\Github\\qimax\\gqimax\\mapper.py:37\u001b[0m, in \u001b[0;36mweightss_to_lambda\u001b[1;34m(weightss, lambdas)\u001b[0m\n\u001b[0;32m     35\u001b[0m     \u001b[38;5;28;01mfor\u001b[39;00m k \u001b[38;5;129;01min\u001b[39;00m \u001b[38;5;28mrange\u001b[39m(\u001b[38;5;241m1\u001b[39m, num_qubits):\n\u001b[0;32m     36\u001b[0m         products \u001b[38;5;241m=\u001b[39m cp\u001b[38;5;241m.\u001b[39mouter(weights[\u001b[38;5;241m0\u001b[39m], weights[k])\u001b[38;5;241m.\u001b[39mravel()\n\u001b[1;32m---> 37\u001b[0m     new_lambdas \u001b[38;5;241m+\u001b[39m\u001b[38;5;241m=\u001b[39m lambdas[j] \u001b[38;5;241m*\u001b[39m products\n\u001b[0;32m     38\u001b[0m \u001b[38;5;66;03m# This lambdas is still in the form of 4^n x 1, \u001b[39;00m\n\u001b[0;32m     39\u001b[0m \u001b[38;5;66;03m# we need to ignore 0 values in the next steps\u001b[39;00m\n\u001b[0;32m     40\u001b[0m \u001b[38;5;66;03m# In the worst case, there is no 0 values.\u001b[39;00m\n\u001b[0;32m     41\u001b[0m \u001b[38;5;28;01mreturn\u001b[39;00m new_lambdas\n",
      "File \u001b[1;32mcupy\\\\_core\\\\core.pyx:1440\u001b[0m, in \u001b[0;36mcupy._core.core._ndarray_base.__iadd__\u001b[1;34m()\u001b[0m\n",
      "File \u001b[1;32mcupy\\\\_core\\\\_kernel.pyx:1314\u001b[0m, in \u001b[0;36mcupy._core._kernel.ufunc.__call__\u001b[1;34m()\u001b[0m\n",
      "File \u001b[1;32mcupy\\\\_core\\\\internal.pyx:381\u001b[0m, in \u001b[0;36mcupy._core.internal._broadcast_core\u001b[1;34m()\u001b[0m\n",
      "\u001b[1;31mValueError\u001b[0m: operands could not be broadcast together with shapes (64,) (16,) (64,)"
     ]
    }
   ],
   "source": [
    "from gqimax.mapper import weightsss_to_lambdas\n",
    "num_qubits = 3  # 4^10 = 1,048,576 phần tử\n",
    "num_terms = 5\n",
    "ks = [np.random.randint(1, num_terms) for _ in range(num_qubits)]\n",
    "\n",
    "weightsss_np = [cp.random.rand(ks[i], num_qubits, 4) * (cp.random.rand(ks[i], num_qubits, 4) > 0.3) for i in range(num_qubits)]\n",
    "lambdass_np = [cp.random.rand(ks[i]) for i in range(num_qubits)]\n",
    "for i in range(num_qubits):\n",
    "\tprint(weightsss_np[i].shape, lambdass_np[i].shape)\n",
    "lambdass = weightsss_to_lambdas(weightsss_np, lambdass_np)"
   ]
  },
  {
   "cell_type": "code",
   "execution_count": 11,
   "metadata": {},
   "outputs": [
    {
     "name": "stdout",
     "output_type": "stream",
     "text": [
      "lambdass[0]: (3, 3, 4)\n",
      "lambdass[1]: (4, 3, 4)\n",
      "lambdass[2]: (3, 3, 4)\n"
     ]
    }
   ],
   "source": [
    "for i in range(num_qubits):\n",
    "\tprint(f\"lambdass[{i}]: {weightsss_np[i].shape}\")"
   ]
  },
  {
   "cell_type": "code",
   "execution_count": 12,
   "metadata": {},
   "outputs": [
    {
     "name": "stdout",
     "output_type": "stream",
     "text": [
      "lambdass[0]: (3,)\n",
      "lambdass[1]: (4,)\n",
      "lambdass[2]: (3,)\n"
     ]
    }
   ],
   "source": [
    "for i in range(num_qubits):\n",
    "\tprint(f\"lambdass[{i}]: {lambdass_np[i].shape}\")"
   ]
  },
  {
   "cell_type": "code",
   "execution_count": 13,
   "metadata": {},
   "outputs": [
    {
     "ename": "NameError",
     "evalue": "name 'lambdass' is not defined",
     "output_type": "error",
     "traceback": [
      "\u001b[1;31m---------------------------------------------------------------------------\u001b[0m",
      "\u001b[1;31mNameError\u001b[0m                                 Traceback (most recent call last)",
      "Cell \u001b[1;32mIn[13], line 3\u001b[0m\n\u001b[0;32m      1\u001b[0m \u001b[38;5;28;01mfor\u001b[39;00m i \u001b[38;5;129;01min\u001b[39;00m \u001b[38;5;28mrange\u001b[39m(num_qubits):\n\u001b[1;32m----> 3\u001b[0m     indices \u001b[38;5;241m=\u001b[39m cp\u001b[38;5;241m.\u001b[39mnonzero(\u001b[43mlambdass\u001b[49m[i])[\u001b[38;5;241m0\u001b[39m]\n\u001b[0;32m      4\u001b[0m     \u001b[38;5;28mprint\u001b[39m(indices)\n\u001b[0;32m      5\u001b[0m     \u001b[38;5;66;03m# lambdas = cp.array(lambdass[i])[indices]\u001b[39;00m\n\u001b[0;32m      6\u001b[0m     \u001b[38;5;66;03m# print(lambdas.shape)\u001b[39;00m\n",
      "\u001b[1;31mNameError\u001b[0m: name 'lambdass' is not defined"
     ]
    }
   ],
   "source": [
    "for i in range(num_qubits):\n",
    "    \n",
    "    indices = cp.nonzero(lambdass[i])[0]\n",
    "    print(indices)\n",
    "    # lambdas = cp.array(lambdass[i])[indices]\n",
    "    # print(lambdas.shape)"
   ]
  },
  {
   "cell_type": "code",
   "execution_count": null,
   "metadata": {},
   "outputs": [
    {
     "data": {
      "text/plain": [
       "array([0.00716603, 0.        , 0.        , 0.00723714, 0.06154406,\n",
       "       0.        , 0.01368813, 0.0195605 , 0.00911329, 0.        ,\n",
       "       0.00118943, 0.00550251, 0.08158142, 0.        , 0.01923839,\n",
       "       0.02252558, 0.03496448, 0.        , 0.        , 0.03531147,\n",
       "       0.4022925 , 0.        , 0.09214885, 0.11953872, 0.05332943,\n",
       "       0.        , 0.00800725, 0.02894194, 0.54142051, 0.        ,\n",
       "       0.12951336, 0.14377764, 0.        , 0.        , 0.        ,\n",
       "       0.        , 0.05900554, 0.        , 0.01467044, 0.01394007,\n",
       "       0.00512727, 0.        , 0.00127478, 0.00121132, 0.08293111,\n",
       "       0.        , 0.02061901, 0.01959248, 0.        , 0.        ,\n",
       "       0.        , 0.        , 0.09377453, 0.        , 0.02331499,\n",
       "       0.02215424, 0.00814851, 0.        , 0.00202595, 0.00192509,\n",
       "       0.13179822, 0.        , 0.03276875, 0.03113734])"
      ]
     },
     "execution_count": 40,
     "metadata": {},
     "output_type": "execute_result"
    }
   ],
   "source": [
    "lambdass[0]"
   ]
  },
  {
   "cell_type": "code",
   "execution_count": 28,
   "metadata": {},
   "outputs": [],
   "source": [
    "weightsss = cp.array([\n",
    "    [[0,0, 1,4], [1,2,3,4]], \n",
    "    [[0,1,0,0], [1,2,0,0]], \n",
    "    [[1,0,0,4], [0,0, 1,4]]] )"
   ]
  },
  {
   "cell_type": "code",
   "execution_count": 37,
   "metadata": {},
   "outputs": [
    {
     "data": {
      "text/plain": [
       "array([ 0.        ,  0.        ,  0.5873697 ,  2.34947881,  0.69422608,\n",
       "        1.38845216,  0.        ,  0.        ,  0.58182811,  1.16365622,\n",
       "        1.74548433,  2.32731244,  2.32731244,  4.65462487,  9.33141613,\n",
       "       18.70716501])"
      ]
     },
     "execution_count": 37,
     "metadata": {},
     "output_type": "execute_result"
    }
   ],
   "source": [
    "\n",
    "from gqimax.mapper import weightss_to_lambda\n",
    "from gqimax.utils import index_to_indices, index_to_word\n",
    "\n",
    "lambdas = weightss_to_lambda(weightsss, lambdass_np[0])\n",
    "lambdas"
   ]
  },
  {
   "cell_type": "code",
   "execution_count": 62,
   "metadata": {},
   "outputs": [
    {
     "name": "stdout",
     "output_type": "stream",
     "text": [
      "[array([[0, 0],\n",
      "       [0, 1],\n",
      "       [0, 2],\n",
      "       [0, 3],\n",
      "       [1, 0],\n",
      "       [1, 1],\n",
      "       [1, 2],\n",
      "       [1, 3],\n",
      "       [2, 0],\n",
      "       [2, 1],\n",
      "       [2, 2],\n",
      "       [2, 3]]), array([[0, 0],\n",
      "       [0, 1],\n",
      "       [0, 2],\n",
      "       [0, 3],\n",
      "       [1, 0],\n",
      "       [1, 1],\n",
      "       [1, 2],\n",
      "       [1, 3],\n",
      "       [2, 0],\n",
      "       [2, 1],\n",
      "       [2, 2],\n",
      "       [2, 3]])]\n"
     ]
    }
   ],
   "source": [
    "indicess = []\n",
    "for i in range(2):\t\n",
    "    indices = cp.nonzero(lambdas)[0]\n",
    "    lambdas = lambdas[indices]\n",
    "    new_indices = []\n",
    "    for index in indices:\n",
    "        new_indices.append(index_to_indices(int(index), 2))\n",
    "    indicess.append(cp.array(new_indices))\n",
    "print(indicess)"
   ]
  }
 ],
 "metadata": {
  "kernelspec": {
   "display_name": "Python 3",
   "language": "python",
   "name": "python3"
  },
  "language_info": {
   "codemirror_mode": {
    "name": "ipython",
    "version": 3
   },
   "file_extension": ".py",
   "mimetype": "text/x-python",
   "name": "python",
   "nbconvert_exporter": "python",
   "pygments_lexer": "ipython3",
   "version": "3.10.11"
  }
 },
 "nbformat": 4,
 "nbformat_minor": 2
}
