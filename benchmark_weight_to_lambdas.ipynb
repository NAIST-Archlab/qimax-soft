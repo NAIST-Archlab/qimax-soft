{
 "cells": [
  {
   "cell_type": "code",
   "execution_count": 6,
   "metadata": {},
   "outputs": [
    {
     "name": "stdout",
     "output_type": "stream",
     "text": [
      "Thời gian NumPy (CPU): 9.3176 giây\n",
      "Thời gian CuPy (GPU): 0.0736 giây\n",
      "Kết quả giống nhau.\n",
      "Tăng tốc: 126.54x\n"
     ]
    }
   ],
   "source": [
    "import numpy as np\n",
    "import cupy as cp\n",
    "import time\n",
    "\n",
    "# Hàm cũ sử dụng NumPy\n",
    "def weightss_to_lambda_numpy(weightss: np.ndarray, lambdas: np.ndarray) -> np.ndarray:\n",
    "    num_qubits = weightss.shape[1]\n",
    "    new_lambdas = np.zeros((4**num_qubits))\n",
    "    for j, weights in enumerate(weightss):\n",
    "        combinations = np.stack(np.meshgrid(*weights, indexing='ij'), axis=-1).reshape(-1, len(weights))\n",
    "        new_lambdas += lambdas[j] * np.prod(combinations, axis=1)\n",
    "    return new_lambdas\n",
    "\n",
    "# Hàm mới sử dụng CuPy\n",
    "def weightss_to_lambda_cupy(weightss: cp.ndarray, lambdas: cp.ndarray) -> cp.ndarray:\n",
    "    num_terms, num_qubits, _ = weightss.shape\n",
    "    new_lambdas = cp.zeros(4**num_qubits)\n",
    "    for j in range(num_terms):\n",
    "        weights = weightss[j]\n",
    "        products = weights[0]\n",
    "        for k in range(1, num_qubits):\n",
    "            products = cp.outer(products, weights[k]).ravel()\n",
    "        new_lambdas += lambdas[j] * products\n",
    "    return new_lambdas\n",
    "\n",
    "# Thiết lập tham số\n",
    "num_qubits = 10  # 4^10 = 1,048,576 phần tử\n",
    "num_terms = 100\n",
    "\n",
    "# Tạo dữ liệu ngẫu nhiên cho NumPy\n",
    "weightss_np = np.random.rand(num_terms, num_qubits, 4)\n",
    "lambdas_np = np.random.rand(num_terms)\n",
    "\n",
    "# Chuyển dữ liệu sang CuPy\n",
    "weightss_cp = cp.asarray(weightss_np)\n",
    "lambdas_cp = cp.asarray(lambdas_np)\n",
    "\n",
    "# Benchmark hàm NumPy\n",
    "start_time = time.time()\n",
    "result_numpy = weightss_to_lambda_numpy(weightss_np, lambdas_np)\n",
    "numpy_time = time.time() - start_time\n",
    "print(f\"Thời gian NumPy (CPU): {numpy_time:.4f} giây\")\n",
    "\n",
    "# Benchmark hàm CuPy\n",
    "start_time = time.time()\n",
    "result_cupy = weightss_to_lambda_cupy(weightss_cp, lambdas_cp)\n",
    "cupy_time = time.time() - start_time\n",
    "print(f\"Thời gian CuPy (GPU): {cupy_time:.4f} giây\")\n",
    "\n",
    "# So sánh kết quả\n",
    "result_cupy_np = cp.asnumpy(result_cupy)\n",
    "if np.allclose(result_numpy, result_cupy_np):\n",
    "    print(\"Kết quả giống nhau.\")\n",
    "else:\n",
    "    print(\"Kết quả khác nhau.\")\n",
    "\n",
    "# Tính tốc độ tăng tốc\n",
    "speedup = numpy_time / cupy_time\n",
    "print(f\"Tăng tốc: {speedup:.2f}x\")"
   ]
  }
 ],
 "metadata": {
  "kernelspec": {
   "display_name": "Python 3",
   "language": "python",
   "name": "python3"
  },
  "language_info": {
   "codemirror_mode": {
    "name": "ipython",
    "version": 3
   },
   "file_extension": ".py",
   "mimetype": "text/x-python",
   "name": "python",
   "nbconvert_exporter": "python",
   "pygments_lexer": "ipython3",
   "version": "3.10.11"
  }
 },
 "nbformat": 4,
 "nbformat_minor": 2
}
