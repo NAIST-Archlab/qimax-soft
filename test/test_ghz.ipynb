{
 "cells": [
  {
   "cell_type": "code",
   "execution_count": 10,
   "metadata": {},
   "outputs": [
    {
     "name": "stdout",
     "output_type": "stream",
     "text": [
      "1.0\n",
      "1.0\n",
      "1.0\n",
      "1.0\n",
      "1.0\n",
      "1.0\n",
      "1.0\n",
      "1.0\n",
      "1.0\n",
      "1.0\n",
      "1.0\n",
      "1.0\n",
      "1.0\n",
      "1.0\n"
     ]
    }
   ],
   "source": [
    "from qimax.stabilizer import StabilizerGenerator, PauliTerm, PauliWord\n",
    "import numpy as np\n",
    "\n",
    "for num_qubits in range(2, 16):\n",
    "\tstb = StabilizerGenerator(num_qubits)\n",
    "\tstb.h(0)\n",
    "\tfor i in range(0, num_qubits - 1):\n",
    "\t\tstb.cx([i, i + 1])\n",
    "\t\n",
    "\trank = []\n",
    "\tfor stab in stb.stabilizers:\n",
    "\t\trank.append(len(stab.words))\n",
    "\tprint(np.average(rank))"
   ]
  },
  {
   "cell_type": "code",
   "execution_count": null,
   "metadata": {},
   "outputs": [],
   "source": [
    "from qimax.stabilizer import StabilizerGenerator, PauliTerm, PauliWord\n",
    "import numpy as np\n",
    "\n",
    "num_qubits = 128\n",
    "\n",
    "def ghz_state(num_qubits):\n",
    "\tstb = StabilizerGenerator(num_qubits)\n",
    "\tstb.h(0)\n",
    "\tfor i in range(0, num_qubits - 1):\n",
    "\t\tstb.cx([i, i + 1])\n",
    "\treturn stb.stabilizers\n",
    "\n",
    "import time\n",
    "\n",
    "times = []\n",
    "for i in range(2, 1000):\n",
    "\tstart = time.time()\n",
    "\tstb = ghz_state(i)\n",
    "\tend = time.time()\n",
    "\tprint(f\"Num qubits: {i}, Time taken: {end - start:.4f} seconds\")\n",
    "\ttimes.append(end - start)\n",
    "\n",
    "np.savetxt(\"ghz_times_qimaxv1.txt\", times)"
   ]
  }
 ],
 "metadata": {
  "kernelspec": {
   "display_name": "Python 3",
   "language": "python",
   "name": "python3"
  },
  "language_info": {
   "codemirror_mode": {
    "name": "ipython",
    "version": 3
   },
   "file_extension": ".py",
   "mimetype": "text/x-python",
   "name": "python",
   "nbconvert_exporter": "python",
   "pygments_lexer": "ipython3",
   "version": "3.10.11"
  }
 },
 "nbformat": 4,
 "nbformat_minor": 2
}
