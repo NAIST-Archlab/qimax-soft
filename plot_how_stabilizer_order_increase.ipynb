{
 "cells": [
  {
   "cell_type": "code",
   "execution_count": 1,
   "metadata": {},
   "outputs": [
    {
     "data": {
      "text/plain": [
       "array([[ 0,  0,  1,  0,  0,  0,  0,  0,  0,  0,  0,  0,  0,  0,  0,  0],\n",
       "       [ 0,  0,  0,  1,  0,  0,  0,  0,  0,  0,  0,  0,  0,  0,  0,  0],\n",
       "       [ 1,  0,  0,  0,  0,  0,  0,  0,  0,  0,  0,  0,  0,  0,  0,  0],\n",
       "       [ 0,  1,  0,  0,  0,  0,  0,  0,  0,  0,  0,  0,  0,  0,  0,  0],\n",
       "       [ 0,  0,  0,  0,  0,  0, -1,  0,  0,  0,  0,  0,  0,  0,  0,  0],\n",
       "       [ 0,  0,  0,  0,  0,  0,  0, -1,  0,  0,  0,  0,  0,  0,  0,  0],\n",
       "       [ 0,  0,  0,  0, -1,  0,  0,  0,  0,  0,  0,  0,  0,  0,  0,  0],\n",
       "       [ 0,  0,  0,  0,  0, -1,  0,  0,  0,  0,  0,  0,  0,  0,  0,  0],\n",
       "       [ 0,  0,  0,  0,  0,  0,  0,  0,  0,  0,  1,  0,  0,  0,  0,  0],\n",
       "       [ 0,  0,  0,  0,  0,  0,  0,  0,  0,  0,  0,  1,  0,  0,  0,  0],\n",
       "       [ 0,  0,  0,  0,  0,  0,  0,  0,  1,  0,  0,  0,  0,  0,  0,  0],\n",
       "       [ 0,  0,  0,  0,  0,  0,  0,  0,  0,  1,  0,  0,  0,  0,  0,  0],\n",
       "       [ 0,  0,  0,  0,  0,  0,  0,  0,  0,  0,  0,  0,  0,  0, -1,  0],\n",
       "       [ 0,  0,  0,  0,  0,  0,  0,  0,  0,  0,  0,  0,  0,  0,  0, -1],\n",
       "       [ 0,  0,  0,  0,  0,  0,  0,  0,  0,  0,  0,  0, -1,  0,  0,  0],\n",
       "       [ 0,  0,  0,  0,  0,  0,  0,  0,  0,  0,  0,  0,  0, -1,  0,  0]],\n",
       "      dtype=int8)"
      ]
     },
     "execution_count": 1,
     "metadata": {},
     "output_type": "execute_result"
    }
   ],
   "source": [
    "from qimax.pc import PauliComposer\n",
    "\n",
    "pc = PauliComposer('IZXI')\n",
    "pc.to_matrix()"
   ]
  },
  {
   "cell_type": "code",
   "execution_count": 2,
   "metadata": {},
   "outputs": [
    {
     "data": {
      "text/plain": [
       "array([ 2,  3,  0,  1,  6,  7,  4,  5, 10, 11,  8,  9, 14, 15, 12, 13])"
      ]
     },
     "execution_count": 2,
     "metadata": {},
     "output_type": "execute_result"
    }
   ],
   "source": [
    "pc.col"
   ]
  },
  {
   "cell_type": "code",
   "execution_count": 3,
   "metadata": {},
   "outputs": [
    {
     "data": {
      "text/plain": [
       "array([ 1,  1,  1,  1, -1, -1, -1, -1,  1,  1,  1,  1, -1, -1, -1, -1],\n",
       "      dtype=int8)"
      ]
     },
     "execution_count": 3,
     "metadata": {},
     "output_type": "execute_result"
    }
   ],
   "source": [
    "pc.mat"
   ]
  },
  {
   "cell_type": "code",
   "execution_count": 5,
   "metadata": {},
   "outputs": [
    {
     "data": {
      "text/plain": [
       "array([[0., 0., 0., 0., 0., 0., 2., 0.],\n",
       "       [0., 0., 0., 0., 0., 0., 0., 2.],\n",
       "       [0., 0., 0., 0., 2., 0., 0., 0.],\n",
       "       [0., 0., 0., 0., 0., 2., 0., 0.],\n",
       "       [0., 0., 2., 0., 0., 0., 0., 0.],\n",
       "       [0., 0., 0., 2., 0., 0., 0., 0.],\n",
       "       [2., 0., 0., 0., 0., 0., 0., 0.],\n",
       "       [0., 2., 0., 0., 0., 0., 0., 0.]])"
      ]
     },
     "execution_count": 5,
     "metadata": {},
     "output_type": "execute_result"
    }
   ],
   "source": [
    "pc2 = PauliComposer('XXI', 2)\n",
    "pc2.to_matrix()"
   ]
  },
  {
   "cell_type": "code",
   "execution_count": 48,
   "metadata": {},
   "outputs": [
    {
     "data": {
      "image/png": "[encoded data removed]",
      "text/plain": [
       "<Figure size 500x150 with 1 Axes>"
      ]
     },
     "metadata": {},
     "output_type": "display_data"
    }
   ],
   "source": [
    "import qiskit\n",
    "import numpy as np\n",
    "num_qubits = 4\n",
    "num_layers = 10\n",
    "orders = [[], [], [], []]\n",
    "from qimax.stabilizer import StabilizerGenerator\n",
    "stb = StabilizerGenerator(num_qubits)\n",
    "\n",
    "\n",
    "for _ in range(num_layers):\n",
    "\tfor i in range(num_qubits - 1):\n",
    "\t\tstb.cx([i, i + 1])\n",
    "\t\tfor ii in range(num_qubits):\n",
    "\t\t\torders[ii].append(len(stb.stabilizers[ii].words.items()))\n",
    "\tstb.cx([num_qubits - 1, 0])\n",
    "\tfor ii in range(num_qubits):\n",
    "\t\torders[ii].append(len(stb.stabilizers[ii].words.items()))\n",
    "\n",
    "\tfor i in range(num_qubits):\n",
    "\t\tstb.rx(np.random.rand(), i)\n",
    "\t\tfor ii in range(num_qubits):\n",
    "\t\t\torders[ii].append(len(stb.stabilizers[ii].words.items()))\n",
    "\n",
    "\t\tstb.ry(np.random.rand(), i)\n",
    "\t\tfor ii in range(num_qubits):\n",
    "\t\t\torders[ii].append(len(stb.stabilizers[ii].words.items()))\n",
    "\t\tstb.rz(np.random.rand(), i)\n",
    "\t\tfor ii in range(num_qubits):\n",
    "\t\t\torders[ii].append(len(stb.stabilizers[ii].words.items()))\n",
    "\n",
    "import matplotlib.pyplot as plt\n",
    "\n",
    "plt.figure(figsize=(5, 1.5))\n",
    "for ii in range(num_qubits):\n",
    "\tplt.plot(orders[ii], color = 'black')\n",
    "plt.axvline(x = 16, color = 'r', label = '#Layers = 1')\n",
    "plt.axvline(x = 32, color = 'g', label = '#Layers = 2')\n",
    "plt.axvline(x = 48, color = 'b', label = '#Layers = 3')\n",
    "plt.xlabel(rf'Number of Gates')\n",
    "plt.ylabel(rf'Order')\n",
    "plt.yticks([1,100, 200, 255])\n",
    "plt.legend()\n",
    "plt.tight_layout()\n",
    "plt.savefig('./images/stabilizer_order.pdf')"
   ]
  },
  {
   "cell_type": "code",
   "execution_count": 10,
   "metadata": {},
   "outputs": [
    {
     "name": "stdout",
     "output_type": "stream",
     "text": [
      "2.607142857142857\n"
     ]
    },
    {
     "data": {
      "image/png": "[encoded data removed]",
      "text/plain": [
       "<Figure size 640x480 with 1 Axes>"
      ]
     },
     "metadata": {},
     "output_type": "display_data"
    }
   ],
   "source": [
    "import numpy as np\n",
    "import matplotlib.pyplot as plt\n",
    "from scipy.stats import linregress\n",
    "\n",
    "# Example: Creating an incrementing array\n",
    "y = np.array([2, 5, 7, 10, 12, 15, 18])  # Example array\n",
    "x = np.arange(len(y))  # X values as indices\n",
    "\n",
    "# Performing Linear Regression\n",
    "slope, intercept, r_value, p_value, std_err = linregress(x, y)\n",
    "\n",
    "# Generating regression line\n",
    "y_pred = slope * x + intercept\n",
    "\n",
    "# Plotting\n",
    "plt.scatter(x, y, color='blue', label=\"Original Data\")  # Scatter plot\n",
    "plt.plot(x, y_pred, color='red', linestyle='--', label=f\"Regression Line: y={slope:.2f}x+{intercept:.2f}\")\n",
    "print(slope)\n",
    "plt.xlabel(\"Index (X)\")\n",
    "plt.ylabel(\"Values (Y)\")\n",
    "plt.title(\"Linear Regression of Incrementing Array\")\n",
    "plt.legend()\n",
    "plt.grid()\n",
    "plt.show()\n"
   ]
  },
  {
   "cell_type": "code",
   "execution_count": 12,
   "metadata": {},
   "outputs": [
    {
     "data": {
      "text/plain": [
       "array([[1, 0, 0, 0, 0, 0, 0, 0],\n",
       "       [0, 1, 0, 0, 0, 0, 0, 0],\n",
       "       [0, 0, 0, 1, 0, 0, 0, 0],\n",
       "       [0, 0, 1, 0, 0, 0, 0, 0],\n",
       "       [0, 0, 0, 0, 1, 0, 0, 0],\n",
       "       [0, 0, 0, 0, 0, 1, 0, 0],\n",
       "       [0, 0, 0, 0, 0, 0, 0, 1],\n",
       "       [0, 0, 0, 0, 0, 0, 1, 0]])"
      ]
     },
     "execution_count": 12,
     "metadata": {},
     "output_type": "execute_result"
    }
   ],
   "source": [
    "import qiskit\n",
    "import numpy as np\n",
    "\n",
    "\n",
    "def cx_gate_matrix(n, control, target):\n",
    "    \"\"\"\n",
    "    Generate the matrix representation of a CX gate for an n-qubit system.\n",
    "\n",
    "    Args:\n",
    "        n (int): Number of qubits.\n",
    "        control (int): Position of the control qubit (0-based index).\n",
    "        target (int): Position of the target qubit (0-based index).\n",
    "\n",
    "    Returns:\n",
    "        np.ndarray: The 2^n x 2^n matrix representation of the CX gate.\n",
    "    \"\"\"\n",
    "    # Size of the matrix\n",
    "    size = 2**n\n",
    "    # Initialize the matrix as a zero matrix\n",
    "    cx_matrix = np.zeros((size, size), dtype=int)\n",
    "\n",
    "    # Iterate over all row indices\n",
    "    for i in range(size):\n",
    "        # Convert row index to binary representation\n",
    "        binary_i = format(i, f'0{n}b')\n",
    "        # Check if the control qubit is |1⟩\n",
    "        if binary_i[control] == '1':\n",
    "            # Flip the target qubit to get the column index\n",
    "            binary_j = binary_i[:target] + ('1' if binary_i[target] == '0' else '0') + binary_i[target+1:]\n",
    "            j = int(binary_j, 2)\n",
    "            # Place a 1 at position (i, j)\n",
    "            cx_matrix[i, j] = 1\n",
    "        else:\n",
    "            # If control qubit is |0⟩, the target qubit remains unchanged\n",
    "            cx_matrix[i, i] = 1\n",
    "\n",
    "    return cx_matrix\n",
    "\n",
    "cx_gate_matrix(3, 1, 2)"
   ]
  },
  {
   "cell_type": "code",
   "execution_count": 10,
   "metadata": {},
   "outputs": [
    {
     "name": "stdout",
     "output_type": "stream",
     "text": [
      "['I' 'M' 'I']\n",
      "['I' 'P' 'X']\n"
     ]
    },
    {
     "data": {
      "text/plain": [
       "array([[1, 0, 0, 0, 0, 0, 0, 0],\n",
       "       [0, 1, 0, 0, 0, 0, 0, 0],\n",
       "       [0, 0, 0, 1, 0, 0, 0, 0],\n",
       "       [0, 0, 1, 0, 0, 0, 0, 0],\n",
       "       [0, 0, 0, 0, 1, 0, 0, 0],\n",
       "       [0, 0, 0, 0, 0, 1, 0, 0],\n",
       "       [0, 0, 0, 0, 0, 0, 0, 1],\n",
       "       [0, 0, 0, 0, 0, 0, 1, 0]])"
      ]
     },
     "execution_count": 10,
     "metadata": {},
     "output_type": "execute_result"
    }
   ],
   "source": [
    "def tp(matrix_a, matrix_b):\n",
    "    \"\"\"\n",
    "    Compute the tensor product (Kronecker product) of two matrices.\n",
    "\n",
    "    Parameters:\n",
    "    - matrix_a: The first matrix (numpy array).\n",
    "    - matrix_b: The second matrix (numpy array).\n",
    "\n",
    "    Returns:\n",
    "    - A numpy array representing the tensor product of the two matrices.\n",
    "    \"\"\"\n",
    "    return np.kron(matrix_a, matrix_b)\n",
    "\n",
    "def cx_matrix_normal(n_qubit, ctrl_pos, target_pos):\n",
    "  M = np.array([[1, 0], [0, 0]])\n",
    "  P = np.array([[0, 0], [0, 1]])\n",
    "  X = np.array([[0, 1], [1, 0]])\n",
    "  I = np.array([[1, 0], [0, 1]])\n",
    "\n",
    "  left_side_gate = np.array([])\n",
    "  right_side_gate = np.array([])\n",
    "\n",
    "  for i in range(n_qubit):\n",
    "    if(i != ctrl_pos):\n",
    "      left_side_gate = np.append(left_side_gate, np.array([\"I\"]))\n",
    "\n",
    "      if(i != target_pos):\n",
    "        right_side_gate = np.append(right_side_gate, np.array([\"I\"]))\n",
    "      else:\n",
    "        right_side_gate = np.append(right_side_gate, np.array([\"X\"]))\n",
    "    else:\n",
    "      left_side_gate = np.append(left_side_gate, np.array([\"M\"]))\n",
    "      right_side_gate = np.append(right_side_gate, np.array([\"P\"]))\n",
    "\n",
    "  print(left_side_gate)\n",
    "  print(right_side_gate)\n",
    "\n",
    "  left_side = np.array([])\n",
    "  right_side = np.array([])\n",
    "\n",
    "  for i in range(n_qubit):\n",
    "    if(i == 0):\n",
    "      if(left_side_gate[i] == \"I\"):\n",
    "        left_side = I\n",
    "      elif (left_side_gate[i] == \"M\"):\n",
    "        left_side = M\n",
    "\n",
    "      if(right_side_gate[i] == \"I\"):\n",
    "        right_side = I\n",
    "      elif (right_side_gate[i] == \"P\"):\n",
    "        right_side = P\n",
    "      elif (right_side_gate[i] == \"X\"):\n",
    "        right_side = X\n",
    "    else:\n",
    "      if(left_side_gate[i] == \"I\"):\n",
    "        left_side = tensor_product(left_side, I)\n",
    "      elif (left_side_gate[i] == \"M\"):\n",
    "        left_side = tensor_product(left_side, M)\n",
    "\n",
    "      if(right_side_gate[i] == \"I\"):\n",
    "        right_side = tensor_product(right_side, I)\n",
    "      elif (right_side_gate[i] == \"P\"):\n",
    "        right_side = tensor_product(right_side, P)\n",
    "      elif (right_side_gate[i] == \"X\"):\n",
    "        right_side = tensor_product(right_side, X)\n",
    "\n",
    "  return left_side + right_side\n",
    "\n",
    "cx_matrix_normal(3, 1, 2)"
   ]
  },
  {
   "cell_type": "code",
   "execution_count": 11,
   "metadata": {},
   "outputs": [
    {
     "data": {
      "text/plain": [
       "array([[1, 0, 0, 0, 0, 0, 0, 0],\n",
       "       [0, 1, 0, 0, 0, 0, 0, 0],\n",
       "       [0, 0, 0, 1, 0, 0, 0, 0],\n",
       "       [0, 0, 1, 0, 0, 0, 0, 0],\n",
       "       [0, 0, 0, 0, 1, 0, 0, 0],\n",
       "       [0, 0, 0, 0, 0, 1, 0, 0],\n",
       "       [0, 0, 0, 0, 0, 0, 0, 1],\n",
       "       [0, 0, 0, 0, 0, 0, 1, 0]])"
      ]
     },
     "execution_count": 11,
     "metadata": {},
     "output_type": "execute_result"
    }
   ],
   "source": [
    "M = np.array([[1, 0], [0, 0]])\n",
    "P = np.array([[0, 0], [0, 1]])\n",
    "X = np.array([[0, 1], [1, 0]])\n",
    "I = np.array([[1, 0], [0, 1]])\n",
    "\n",
    "tp(tp(I, M), I) + tp(tp(I, P), X)"
   ]
  }
 ],
 "metadata": {
  "kernelspec": {
   "display_name": "Python 3",
   "language": "python",
   "name": "python3"
  },
  "language_info": {
   "codemirror_mode": {
    "name": "ipython",
    "version": 3
   },
   "file_extension": ".py",
   "mimetype": "text/x-python",
   "name": "python",
   "nbconvert_exporter": "python",
   "pygments_lexer": "ipython3",
   "version": "3.10.11"
  }
 },
 "nbformat": 4,
 "nbformat_minor": 2
}
