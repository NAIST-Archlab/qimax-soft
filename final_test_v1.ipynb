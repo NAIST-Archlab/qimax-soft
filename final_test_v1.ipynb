{
 "cells": [
  {
   "cell_type": "code",
   "execution_count": 2,
   "metadata": {},
   "outputs": [
    {
     "name": "stdout",
     "output_type": "stream",
     "text": [
      "[-0.183]*yi + [0.9659]*zi + [0.183]*xi\n",
      "[0.5]*iz + [-0.866]*iy\n"
     ]
    }
   ],
   "source": [
    "from qimax.stabilizer import StabilizerGenerator, PauliTerm, PauliWord\n",
    "import numpy as np\n",
    "\n",
    "stb = StabilizerGenerator(2)\n",
    "stb.ry(np.pi/3, 0)\n",
    "stb.rx(np.pi/2, 0)\n",
    "stb.cx([0,1])\n",
    "stb.t(0)\n",
    "stb.cx([0,1])\n",
    "stb.h(0)\n",
    "stb.rz(np.pi/4, 0)\n",
    "stb.rx(np.pi/3, 1)\n",
    "for s in (stb.stabilizers):\n",
    "    print(s)"
   ]
  },
  {
   "cell_type": "markdown",
   "metadata": {},
   "source": [
    "YI => [2, 0], ZI => [3, 0], XI => [1, 0]\n",
    "IZ => [0, 3], IY => [0, 2]\n"
   ]
  },
  {
   "cell_type": "code",
   "execution_count": 9,
   "metadata": {},
   "outputs": [
    {
     "name": "stdout",
     "output_type": "stream",
     "text": [
      "1260\n",
      "1524\n",
      "1119\n",
      "1272\n",
      "462\n",
      "192\n"
     ]
    }
   ],
   "source": [
    "num_qubits = 6\n",
    "num_layers = 2\n",
    "stb = StabilizerGenerator(num_qubits)\n",
    "for k in range(num_layers):\n",
    "\tfor i in range(num_qubits - 1):\n",
    "\t\tstb.map('cx', [i, i + 1])\n",
    "\tstb.map('cx', [num_qubits - 1, 0])\n",
    "\tfor i in range(num_qubits):\n",
    "\t\tstb.map('rx', i, 1)\n",
    "\t\tstb.map('ry', i, 2)\n",
    "\t\tstb.map('rz', i, 3)\n",
    "for stabilizer in stb.stabilizers:\n",
    "\tprint(len(stabilizer.words))"
   ]
  }
 ],
 "metadata": {
  "kernelspec": {
   "display_name": "Python 3",
   "language": "python",
   "name": "python3"
  },
  "language_info": {
   "codemirror_mode": {
    "name": "ipython",
    "version": 3
   },
   "file_extension": ".py",
   "mimetype": "text/x-python",
   "name": "python",
   "nbconvert_exporter": "python",
   "pygments_lexer": "ipython3",
   "version": "3.10.11"
  }
 },
 "nbformat": 4,
 "nbformat_minor": 2
}
