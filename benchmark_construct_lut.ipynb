{
 "cells": [
  {
   "cell_type": "code",
   "execution_count": null,
   "metadata": {},
   "outputs": [],
   "source": [
    "import cupy as cp\n",
    "from math import sqrt\n",
    "\n"
   ]
  },
  {
   "cell_type": "code",
   "execution_count": 44,
   "metadata": {},
   "outputs": [
    {
     "name": "stdout",
     "output_type": "stream",
     "text": [
      "The autoreload extension is already loaded. To reload it, use:\n",
      "  %reload_ext autoreload\n"
     ]
    }
   ],
   "source": [
    "from gqimax.instructor import Instructor\n",
    "from gqimax.instructor import group_instructorss_by_qubits\n",
    "%load_ext autoreload\n",
    "%autoreload 2\n",
    "ins = Instructor(4)\n",
    "for i in range(10000):\n",
    "\tins.append(\"h\", 0)\n",
    "\tins.append(\"rx\", 1, 0.78)\n",
    "\tins.append(\"h\", 2)\n",
    "\tins.append(\"h\", 0)\n",
    "\tins.append(\"cx\", [0, 1])\n",
    "\tins.append(\"h\", 2)\n",
    "\tins.append(\"h\", 2)\n",
    "\tins.append(\"ry\", 0, 0.56)\n",
    "\tins.append(\"cx\", [1, 2])\n",
    "\tins.append(\"h\", 1)\n",
    "\tins.append(\"h\", 3)\n",
    "\tins.append(\"h\", 3)\n",
    "\tins.append(\"h\", 3)\n",
    "\tins.append(\"h\", 3)\n",
    "\tins.append(\"h\", 0)\n",
    "\tins.append(\"h\", 1)\n",
    "\tins.append(\"h\", 2)\n",
    "\tins.append(\"h\", 3)\n",
    "\tins.append(\"h\", 0)\n",
    "\tins.append(\"h\", 2)\n",
    "\tins.append(\"cx\", [1, 3])\n",
    "ins.operatoring()\n"
   ]
  },
  {
   "cell_type": "code",
   "execution_count": 41,
   "metadata": {},
   "outputs": [
    {
     "name": "stdout",
     "output_type": "stream",
     "text": [
      "110011\n"
     ]
    }
   ],
   "source": [
    "print(len(ins.operators)*len(ins.operators[0]))\n",
    "grouped_instructorss = group_instructorss_by_qubits(ins.operators, ins.num_qubits)\n"
   ]
  },
  {
   "cell_type": "code",
   "execution_count": 42,
   "metadata": {},
   "outputs": [],
   "source": [
    "from qimax.instructor import construct_lut_noncx\n",
    "LUT = construct_lut_noncx(grouped_instructorss, ins.num_qubits)"
   ]
  },
  {
   "cell_type": "code",
   "execution_count": 43,
   "metadata": {},
   "outputs": [],
   "source": [
    "from gqimax.instructor import construct_lut_noncx\n",
    "LUT2 = construct_lut_noncx(grouped_instructorss, ins.num_qubits)"
   ]
  },
  {
   "cell_type": "code",
   "execution_count": 39,
   "metadata": {},
   "outputs": [
    {
     "data": {
      "text/plain": [
       "True"
      ]
     },
     "execution_count": 39,
     "metadata": {},
     "output_type": "execute_result"
    }
   ],
   "source": [
    "import numpy as np\n",
    "np.allclose(LUT, LUT2.get())"
   ]
  }
 ],
 "metadata": {
  "kernelspec": {
   "display_name": "Python 3",
   "language": "python",
   "name": "python3"
  },
  "language_info": {
   "codemirror_mode": {
    "name": "ipython",
    "version": 3
   },
   "file_extension": ".py",
   "mimetype": "text/x-python",
   "name": "python",
   "nbconvert_exporter": "python",
   "pygments_lexer": "ipython3",
   "version": "3.10.11"
  }
 },
 "nbformat": 4,
 "nbformat_minor": 2
}
