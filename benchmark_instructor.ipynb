{
 "cells": [
  {
   "cell_type": "code",
   "execution_count": 85,
   "metadata": {},
   "outputs": [
    {
     "name": "stdout",
     "output_type": "stream",
     "text": [
      "The autoreload extension is already loaded. To reload it, use:\n",
      "  %reload_ext autoreload\n"
     ]
    }
   ],
   "source": [
    "\n",
    "%load_ext autoreload\n",
    "%autoreload 2"
   ]
  },
  {
   "cell_type": "code",
   "execution_count": 84,
   "metadata": {},
   "outputs": [],
   "source": [
    "ins = Instructor(4)\n",
    "ins.append(\"h\", 0)\n",
    "ins.append(\"rx\", 1, 0.78)\n",
    "ins.append(\"h\", 2)\n",
    "ins.append(\"h\", 0)\n",
    "ins.append(\"cx\", [0, 1])\n",
    "ins.append(\"h\", 2)\n",
    "ins.append(\"h\", 2)\n",
    "ins.append(\"ry\", 0, 0.56)\n",
    "ins.append(\"cx\", [1, 2])\n",
    "ins.append(\"h\", 1)\n",
    "ins.append(\"h\", 3)\n",
    "ins.append(\"h\", 3)\n",
    "ins.append(\"h\", 3)\n",
    "ins.append(\"h\", 3)\n",
    "ins.append(\"h\", 0)\n",
    "ins.append(\"h\", 1)\n",
    "ins.append(\"h\", 2)\n",
    "ins.append(\"h\", 3)\n",
    "ins.append(\"h\", 0)\n",
    "ins.append(\"h\", 2)\n",
    "ins.append(\"cx\", [1, 3])\n",
    "ins.operatoring()"
   ]
  },
  {
   "cell_type": "code",
   "execution_count": null,
   "metadata": {},
   "outputs": [],
   "source": []
  },
  {
   "cell_type": "code",
   "execution_count": 72,
   "metadata": {},
   "outputs": [
    {
     "data": {
      "text/plain": [
       "(2, 4, 3, 4)"
      ]
     },
     "execution_count": 72,
     "metadata": {},
     "output_type": "execute_result"
    }
   ],
   "source": [
    "from gqimax.instructor import instructor_to_lut\n",
    "lut = instructor_to_lut(ins)\n",
    "lut.shape"
   ]
  },
  {
   "cell_type": "code",
   "execution_count": 75,
   "metadata": {},
   "outputs": [
    {
     "name": "stdout",
     "output_type": "stream",
     "text": [
      "[array([1., 2.]), array([1.]), array([1.]), array([1.])]\n",
      "[array([[3, 0, 0, 0],\n",
      "       [0, 1, 2, 3]]), array([[0, 3, 0, 0]]), array([[0, 0, 3, 0]]), array([[0, 0, 0, 3]])]\n"
     ]
    }
   ],
   "source": [
    "from gqimax.pstabilizers import PStabilizers\n",
    "import cupy as cp\n",
    "stb = PStabilizers(4)\n",
    "stb.lambdass[0] = cp.append(stb.lambdass[0], 2)\n",
    "print(stb.lambdass)\n",
    "stb.indicess[0] = cp.append(stb.indicess[0], cp.expand_dims(cp.array([0, 1, 2, 3]), axis=0), axis=0)\n",
    "print(stb.indicess)"
   ]
  },
  {
   "cell_type": "code",
   "execution_count": 76,
   "metadata": {},
   "outputs": [],
   "source": [
    "lambdass = stb.lambdass\n",
    "indicess = stb.indicess"
   ]
  },
  {
   "cell_type": "code",
   "execution_count": null,
   "metadata": {},
   "outputs": [],
   "source": [
    "import cupy as cp\n",
    "from gqimax.mapper import weightsss_to_lambdas\n",
    "from gqimax.mapper import map_cx\n",
    "def map_noncx(lambdass, indicesss, LUT, k):\n",
    "\t# k is the index of the U operators, from outside, ranged from 0 to K-1/K'-1\n",
    "\tweightsss = []\n",
    "\tfor _, indicess in enumerate(indicesss):\n",
    "\t\t# Indeciess is a k x n-dim list, example: [IXXX, YYYY] => [[0, 1, 1, 1], [2, 2, 2, 2]]\n",
    "\t\tweightss = [] # Index is a n-dim list, example: [IXXX] => [[0, 1, 1, 1]]\n",
    "\t\tfor indices in indicess:\n",
    "\t\t\tweights = []\n",
    "\t\t\tfor j, index in enumerate(indices): # j is the qubit index\n",
    "\t\t\t\tencoded_pauli = index - 1 # 0 is I, 1 is X, 2 is Y, 3 is Z\n",
    "\t\t\t\tif encoded_pauli == -1:\n",
    "\t\t\t\t\tweights.append(cp.array([1,0,0,0]))\n",
    "\t\t\t\telse:\n",
    "\t\t\t\t\tweights.append(LUT[k][j][encoded_pauli])\n",
    "\t\t\tweightss.append(weights)\n",
    "\t\tweightss = cp.array(weightss)\n",
    "\t\tweightsss.append(weightss)\n",
    "\t# Lambdass: n x k_i\n",
    "\t# Indicesss: n x k_i x n\n",
    "\tlambdass, indicesss = weightsss_to_lambdas(weightsss, lambdass)\n",
    "\treturn lambdass, indicesss\n",
    "\n",
    "\n",
    "# lambdass, indicesss = map_noncx(stb.indicess, stb.lambdass, lut, k = 0)"
   ]
  },
  {
   "cell_type": "code",
   "execution_count": 81,
   "metadata": {},
   "outputs": [
    {
     "data": {
      "text/plain": [
       "[('h', 0, 0),\n",
       " ('rx', 1, 0.78),\n",
       " ('h', 2, 0),\n",
       " ('h', 0, 0),\n",
       " ('h', 2, 0),\n",
       " ('h', 2, 0),\n",
       " ('h', 3, 0),\n",
       " ('h', 3, 0),\n",
       " ('h', 3, 0),\n",
       " ('h', 3, 0),\n",
       " ('h', 3, 0)]"
      ]
     },
     "execution_count": 81,
     "metadata": {},
     "output_type": "execute_result"
    }
   ],
   "source": [
    "ins.operators[0]"
   ]
  },
  {
   "cell_type": "code",
   "execution_count": 79,
   "metadata": {},
   "outputs": [
    {
     "data": {
      "text/plain": [
       "[[[0, 1], [1, 2], [1, 3]]]"
      ]
     },
     "execution_count": 79,
     "metadata": {},
     "output_type": "execute_result"
    }
   ],
   "source": [
    "ins.xoperators"
   ]
  },
  {
   "cell_type": "code",
   "execution_count": null,
   "metadata": {},
   "outputs": [
    {
     "data": {
      "text/plain": [
       "array([ 0.,  0.,  0.,  0.,  0.,  0.,  0.,  0.,  0.,  0.,  0.,  0.,  0.,\n",
       "        0.,  0.,  0.,  0.,  0.,  0.,  0.,  0.,  0.,  0.,  0.,  0., -2.,\n",
       "        0.,  0.,  0.,  0.,  0.,  0.,  0.,  0.,  0.,  0.,  0.,  0.,  0.,\n",
       "        0.,  0.,  0.,  0.,  0.,  0.,  0.,  0.,  0.,  0.,  0.,  0.,  0.,\n",
       "        0.,  0.,  0.,  0.,  0.,  0.,  0.,  0.,  0.,  0.,  0.,  0.,  0.,\n",
       "        0.,  0.,  0.,  0.,  0.,  0.,  0.,  0.,  0.,  0.,  0.,  0.,  0.,\n",
       "        0.,  0.,  0.,  0.,  0.,  0.,  0.,  0.,  0.,  0.,  0.,  0.,  0.,\n",
       "        0.,  0.,  0.,  0.,  0.,  0.,  0.,  0.,  0.,  0.,  0.,  0.,  0.,\n",
       "        0.,  0.,  0.,  0.,  0.,  0.,  0.,  0.,  0.,  0.,  0.,  0.,  0.,\n",
       "        0.,  0.,  0.,  0.,  0.,  0.,  0.,  0.,  0.,  0.,  0.,  0.,  0.,\n",
       "        0.,  0.,  0.,  0.,  0.,  0.,  0.,  0.,  0.,  0.,  0.,  0.,  0.,\n",
       "        0.,  0.,  0.,  0.,  0.,  0.,  0.,  0.,  0.,  0.,  0.,  0.,  0.,\n",
       "        0.,  0.,  0.,  0.,  0.,  0.,  0.,  0.,  0.,  0.,  0.,  0.,  0.,\n",
       "        0.,  0.,  0.,  0.,  0.,  0.,  0.,  0.,  0.,  0.,  0.,  0.,  0.,\n",
       "        0.,  0.,  0.,  0.,  0.,  0.,  0.,  0.,  0.,  0.,  1.,  0.,  0.,\n",
       "        0.,  0.,  0.,  0.,  0.,  0.,  0.,  0.,  0.,  0.,  0.,  0.,  0.,\n",
       "        0.,  0.,  0.,  0.,  0.,  0.,  0.,  0.,  0.,  0.,  0.,  0.,  0.,\n",
       "        0.,  0.,  0.,  0.,  0.,  0.,  0.,  0.,  0.,  0.,  0.,  0.,  0.,\n",
       "        0.,  0.,  0.,  0.,  0.,  0.,  0.,  0.,  0.,  0.,  0.,  0.,  0.,\n",
       "        0.,  0.,  0.,  0.,  0.,  0.,  0.,  0.,  0.])"
      ]
     },
     "execution_count": 69,
     "metadata": {},
     "output_type": "execute_result"
    }
   ],
   "source": [
    "for j, order in enumerate(ins.orders):\n",
    "\tk = j // 2\n",
    "\tif order == 0:\n",
    "\t\tlambdass, indicesss = map_noncx(lambdass, indicess, ins.LUT, k)\n",
    "\telse:\n",
    "\t\tfor \n",
    "\t\tlambdass, indicesss = map_cx(lambdass, indicess, ins.xoperators[k])"
   ]
  },
  {
   "cell_type": "code",
   "execution_count": null,
   "metadata": {},
   "outputs": [
    {
     "data": {
      "text/plain": [
       "(array([0, 0, 1, 1, 2, 3], dtype=int64),\n",
       " array([ 25, 192,  32,  48,   4,   1], dtype=int64))"
      ]
     },
     "execution_count": 67,
     "metadata": {},
     "output_type": "execute_result"
    }
   ],
   "source": [
    "cp.nonzero(lambdass)"
   ]
  },
  {
   "cell_type": "code",
   "execution_count": null,
   "metadata": {},
   "outputs": [
    {
     "data": {
      "text/plain": [
       "[array([[[ 0.,  0.,  0.,  1.],\n",
       "         [ 1.,  0.,  0.,  0.],\n",
       "         [ 1.,  0.,  0.,  0.],\n",
       "         [ 1.,  0.,  0.,  0.]],\n",
       " \n",
       "        [[ 1.,  0.,  0.,  0.],\n",
       "         [ 0.,  1.,  0.,  0.],\n",
       "         [ 0.,  0., -1.,  0.],\n",
       "         [ 0.,  1., -0.,  0.]]]),\n",
       " array([[[ 1.        ,  0.        ,  0.        ,  0.        ],\n",
       "         [ 0.        ,  0.        , -0.70327944,  0.7109136 ],\n",
       "         [ 1.        ,  0.        ,  0.        ,  0.        ],\n",
       "         [ 1.        ,  0.        ,  0.        ,  0.        ]]]),\n",
       " array([[[ 1.,  0.,  0.,  0.],\n",
       "         [ 1.,  0.,  0.,  0.],\n",
       "         [ 0.,  1., -0.,  0.],\n",
       "         [ 1.,  0.,  0.,  0.]]]),\n",
       " array([[[ 1.,  0.,  0.,  0.],\n",
       "         [ 1.,  0.,  0.,  0.],\n",
       "         [ 1.,  0.,  0.,  0.],\n",
       "         [ 0.,  1., -0.,  0.]]])]"
      ]
     },
     "execution_count": 52,
     "metadata": {},
     "output_type": "execute_result"
    }
   ],
   "source": [
    "weightsss"
   ]
  }
 ],
 "metadata": {
  "kernelspec": {
   "display_name": "Python 3",
   "language": "python",
   "name": "python3"
  },
  "language_info": {
   "codemirror_mode": {
    "name": "ipython",
    "version": 3
   },
   "file_extension": ".py",
   "mimetype": "text/x-python",
   "name": "python",
   "nbconvert_exporter": "python",
   "pygments_lexer": "ipython3",
   "version": "3.10.11"
  }
 },
 "nbformat": 4,
 "nbformat_minor": 2
}
