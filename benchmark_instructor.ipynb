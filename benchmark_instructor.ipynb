{
 "cells": [
  {
   "cell_type": "code",
   "execution_count": 85,
   "metadata": {},
   "outputs": [
    {
     "name": "stdout",
     "output_type": "stream",
     "text": [
      "The autoreload extension is already loaded. To reload it, use:\n",
      "  %reload_ext autoreload\n"
     ]
    }
   ],
   "source": [
    "\n",
    "%load_ext autoreload\n",
    "%autoreload 2"
   ]
  },
  {
   "cell_type": "code",
   "execution_count": 108,
   "metadata": {},
   "outputs": [
    {
     "name": "stdout",
     "output_type": "stream",
     "text": [
      "0\n",
      "Bruh\n",
      "[[[('rx', 0, 0.5)], [], []]]\n",
      "[]\n",
      "0\n",
      "Bruh\n",
      "[[[('rx', 0, 0.5)], [('rx', 1, 0.5)], []]]\n",
      "[]\n",
      "Bruh\n",
      "[[[('rx', 0, 0.5)], [('rx', 1, 0.5)], []]]\n",
      "[[('cx', [0, 1], 0)]]\n",
      "Bruh\n",
      "[[[('rx', 0, 0.5)], [('rx', 1, 0.5)], []]]\n",
      "[[('cx', [0, 1], 0)], [('cx', [0, 1], 0)]]\n",
      "Bruh\n",
      "[[[('rx', 0, 0.5)], [('rx', 1, 0.5)], []]]\n",
      "[[('cx', [0, 1], 0)], [('cx', [0, 1], 0), ('cx', [1, 2], 0)]]\n",
      "2\n"
     ]
    },
    {
     "ename": "IndexError",
     "evalue": "list index out of range",
     "output_type": "error",
     "traceback": [
      "\u001b[1;31m---------------------------------------------------------------------------\u001b[0m",
      "\u001b[1;31mIndexError\u001b[0m                                Traceback (most recent call last)",
      "Cell \u001b[1;32mIn[108], line 79\u001b[0m\n\u001b[0;32m     77\u001b[0m ins\u001b[38;5;241m.\u001b[39mappend(\u001b[38;5;124m'\u001b[39m\u001b[38;5;124mrx\u001b[39m\u001b[38;5;124m'\u001b[39m, \u001b[38;5;241m0\u001b[39m, \u001b[38;5;241m0.5\u001b[39m)\n\u001b[0;32m     78\u001b[0m ins\u001b[38;5;241m.\u001b[39mappend(\u001b[38;5;124m'\u001b[39m\u001b[38;5;124mcx\u001b[39m\u001b[38;5;124m'\u001b[39m, [\u001b[38;5;241m0\u001b[39m, \u001b[38;5;241m1\u001b[39m])\n\u001b[1;32m---> 79\u001b[0m \u001b[43mins\u001b[49m\u001b[38;5;241;43m.\u001b[39;49m\u001b[43moperatoring\u001b[49m\u001b[43m(\u001b[49m\u001b[43m)\u001b[49m\n",
      "Cell \u001b[1;32mIn[108], line 52\u001b[0m, in \u001b[0;36mInstructor.operatoring\u001b[1;34m(self)\u001b[0m\n\u001b[0;32m     49\u001b[0m     \u001b[38;5;28mself\u001b[39m\u001b[38;5;241m.\u001b[39moperators\u001b[38;5;241m.\u001b[39mappend([[] \u001b[38;5;28;01mfor\u001b[39;00m _ \u001b[38;5;129;01min\u001b[39;00m \u001b[38;5;28mrange\u001b[39m(\u001b[38;5;28mself\u001b[39m\u001b[38;5;241m.\u001b[39mnum_qubits)])\n\u001b[0;32m     50\u001b[0m \u001b[38;5;28mprint\u001b[39m(location)\n\u001b[1;32m---> 52\u001b[0m \u001b[38;5;28;43mself\u001b[39;49m\u001b[38;5;241;43m.\u001b[39;49m\u001b[43moperators\u001b[49m\u001b[43m[\u001b[49m\u001b[43mlocation\u001b[49m\u001b[43m]\u001b[49m[index]\u001b[38;5;241m.\u001b[39mappend((gate, index, param))\n\u001b[0;32m     54\u001b[0m \u001b[38;5;66;03m##############################################################\u001b[39;00m\n\u001b[0;32m     56\u001b[0m \u001b[38;5;28;01mif\u001b[39;00m \u001b[38;5;28mself\u001b[39m\u001b[38;5;241m.\u001b[39mxbarriers[index] \u001b[38;5;241m>\u001b[39m\u001b[38;5;241m=\u001b[39m \u001b[38;5;28mself\u001b[39m\u001b[38;5;241m.\u001b[39mbarriers[index]:\n",
      "\u001b[1;31mIndexError\u001b[0m: list index out of range"
     ]
    }
   ],
   "source": [
    "import numpy as np\n",
    "import matplotlib.pyplot as plt\n",
    "class Instructor:\n",
    "    \"\"\"List of instructors\n",
    "    \"\"\"\n",
    "    def __init__(self, num_qubits):\n",
    "        self.operators = []\n",
    "        self.operator = []\n",
    "        self.xoperator = []\n",
    "        self.xoperators = []\n",
    "        self.instructors = []\n",
    "        self.num_qubits = num_qubits\n",
    "        self.xbarriers = [0] * self.num_qubits\n",
    "        self.barriers = [0] * self.num_qubits\n",
    "        self.is_cx_first = False\n",
    "        self.orders = []\n",
    "\n",
    "\n",
    "    def append(self, gate, index, param=0):\n",
    "        \"\"\"Add an instructor to the list instructors\n",
    "\n",
    "        Args:\n",
    "            gate (_type_): _description_\n",
    "            index (_type_): _description_\n",
    "            param (int, optional): _description_. Defaults to 0.\n",
    "        \"\"\"\n",
    "        self.instructors.append((gate, index, param))\n",
    "    def operatoring(self):\n",
    "        for (gate, index, param) in self.instructors:\n",
    "            if gate == 'cx':\n",
    "                location = max(self.barriers[index[0]], self.barriers[index[1]])\n",
    "                \n",
    "                ###### --- Append to the ragged matrix of xoperators --- #####\n",
    "                if location >= len(self.xoperators):\n",
    "                    self.xoperators.append([(gate, index, param)])\n",
    "                else:\n",
    "                    self.xoperators[location].append((gate, index, param))\n",
    "                ##############################################################\n",
    "                \n",
    "                if self.barriers[index[0]] >= self.xbarriers[index[0]]:\n",
    "                    self.xbarriers[index[0]] += 1\n",
    "                if self.barriers[index[1]] >= self.xbarriers[index[1]]:\n",
    "                    self.xbarriers[index[1]] += 1\n",
    "            else:\n",
    "                location = self.xbarriers[index]\n",
    "                \n",
    "                ###### --- Append to the ragged matrix of operators --- ######\n",
    "                if location >= len(self.operators):\n",
    "                    self.operators.append([[] for _ in range(self.num_qubits)])\n",
    "                print(location)\n",
    "                \n",
    "                self.operators[location][index].append((gate, index, param))\n",
    "\n",
    "                ##############################################################\n",
    "                \n",
    "                if self.xbarriers[index] >= self.barriers[index]:\n",
    "                    self.barriers[index] += 1\n",
    "            print(\"Bruh\")\n",
    "            print(self.operators)\n",
    "            print(self.xoperators)\n",
    "            \n",
    "            \n",
    "            \n",
    "            \n",
    "            \n",
    "            \n",
    "            pass\n",
    "        return\n",
    "\n",
    "\n",
    "ins = Instructor(3)\n",
    "ins.append('rx', 0, 0.5)\n",
    "ins.append('rx', 1, 0.5)\n",
    "ins.append('cx', [0, 1])\n",
    "ins.append('cx', [0, 1])\n",
    "ins.append('cx', [1, 2])\n",
    "ins.append('rx', 0, 0.5)\n",
    "ins.append('cx', [0, 1])\n",
    "ins.operatoring()"
   ]
  },
  {
   "cell_type": "code",
   "execution_count": 104,
   "metadata": {},
   "outputs": [
    {
     "name": "stdout",
     "output_type": "stream",
     "text": [
      "[[[1], [2, 3], [3]], [[1], [2], [3, 4, 5]], [[], [4, 3], [3]]]\n"
     ]
    }
   ],
   "source": [
    "k = [[[1],[2],[3]], [[1],[2],[3,4,5]]]\n",
    "def append(k, i, j, value):\n",
    "    if i >= len(k):  # Nếu i trong phạm vi của danh sách\n",
    "        k.append([[] for _ in range(3)])\n",
    "    k[i][j].append(value)\n",
    "    \n",
    "append(k, 2, 1, 4)\n",
    "append(k, 2, 1, 3)\n",
    "append(k, 0, 1, 3)\n",
    "append(k, 2, 2, 3)\n",
    "print(k)"
   ]
  },
  {
   "cell_type": "code",
   "execution_count": 91,
   "metadata": {},
   "outputs": [
    {
     "name": "stdout",
     "output_type": "stream",
     "text": [
      "[[1, 2, 3], [1, 2, 3], [4]]\n"
     ]
    }
   ],
   "source": [
    "k = [[1,2,3], [1,2,3]]\n",
    "def append(k, i, value):\n",
    "    if i < len(k):  # Nếu i trong phạm vi của danh sách\n",
    "        k[i].append(value)\n",
    "    else:  # Nếu i >= len(k), thêm danh sách mới\n",
    "        k.append([value])\n",
    "\n",
    "append(k, 2, 4)\n",
    "print(k)"
   ]
  },
  {
   "cell_type": "code",
   "execution_count": 84,
   "metadata": {},
   "outputs": [],
   "source": [
    "ins = Instructor(4)\n",
    "ins.append(\"h\", 0)\n",
    "ins.append(\"rx\", 1, 0.78)\n",
    "ins.append(\"h\", 2)\n",
    "ins.append(\"h\", 0)\n",
    "ins.append(\"cx\", [0, 1])\n",
    "ins.append(\"h\", 2)\n",
    "ins.append(\"h\", 2)\n",
    "ins.append(\"ry\", 0, 0.56)\n",
    "ins.append(\"cx\", [1, 2])\n",
    "ins.append(\"h\", 1)\n",
    "ins.append(\"h\", 3)\n",
    "ins.append(\"h\", 3)\n",
    "ins.append(\"h\", 3)\n",
    "ins.append(\"h\", 3)\n",
    "ins.append(\"h\", 0)\n",
    "ins.append(\"h\", 1)\n",
    "ins.append(\"h\", 2)\n",
    "ins.append(\"h\", 3)\n",
    "ins.append(\"h\", 0)\n",
    "ins.append(\"h\", 2)\n",
    "ins.append(\"cx\", [1, 3])\n",
    "ins.operatoring()"
   ]
  },
  {
   "cell_type": "code",
   "execution_count": null,
   "metadata": {},
   "outputs": [],
   "source": []
  },
  {
   "cell_type": "code",
   "execution_count": 72,
   "metadata": {},
   "outputs": [
    {
     "data": {
      "text/plain": [
       "(2, 4, 3, 4)"
      ]
     },
     "execution_count": 72,
     "metadata": {},
     "output_type": "execute_result"
    }
   ],
   "source": [
    "from gqimax.instructor import instructor_to_lut\n",
    "lut = instructor_to_lut(ins)\n",
    "lut.shape"
   ]
  },
  {
   "cell_type": "code",
   "execution_count": 75,
   "metadata": {},
   "outputs": [
    {
     "name": "stdout",
     "output_type": "stream",
     "text": [
      "[array([1., 2.]), array([1.]), array([1.]), array([1.])]\n",
      "[array([[3, 0, 0, 0],\n",
      "       [0, 1, 2, 3]]), array([[0, 3, 0, 0]]), array([[0, 0, 3, 0]]), array([[0, 0, 0, 3]])]\n"
     ]
    }
   ],
   "source": [
    "from gqimax.pstabilizers import PStabilizers\n",
    "import cupy as cp\n",
    "stb = PStabilizers(4)\n",
    "stb.lambdass[0] = cp.append(stb.lambdass[0], 2)\n",
    "print(stb.lambdass)\n",
    "stb.indicess[0] = cp.append(stb.indicess[0], cp.expand_dims(cp.array([0, 1, 2, 3]), axis=0), axis=0)\n",
    "print(stb.indicess)"
   ]
  },
  {
   "cell_type": "code",
   "execution_count": 76,
   "metadata": {},
   "outputs": [],
   "source": [
    "lambdass = stb.lambdass\n",
    "indicess = stb.indicess"
   ]
  },
  {
   "cell_type": "code",
   "execution_count": null,
   "metadata": {},
   "outputs": [],
   "source": [
    "import cupy as cp\n",
    "from gqimax.mapper import weightsss_to_lambdas\n",
    "from gqimax.mapper import map_cx\n",
    "def map_noncx(lambdass, indicesss, LUT, k):\n",
    "\t# k is the index of the U operators, from outside, ranged from 0 to K-1/K'-1\n",
    "\tweightsss = []\n",
    "\tfor _, indicess in enumerate(indicesss):\n",
    "\t\t# Indeciess is a k x n-dim list, example: [IXXX, YYYY] => [[0, 1, 1, 1], [2, 2, 2, 2]]\n",
    "\t\tweightss = [] # Index is a n-dim list, example: [IXXX] => [[0, 1, 1, 1]]\n",
    "\t\tfor indices in indicess:\n",
    "\t\t\tweights = []\n",
    "\t\t\tfor j, index in enumerate(indices): # j is the qubit index\n",
    "\t\t\t\tencoded_pauli = index - 1 # 0 is I, 1 is X, 2 is Y, 3 is Z\n",
    "\t\t\t\tif encoded_pauli == -1:\n",
    "\t\t\t\t\tweights.append(cp.array([1,0,0,0]))\n",
    "\t\t\t\telse:\n",
    "\t\t\t\t\tweights.append(LUT[k][j][encoded_pauli])\n",
    "\t\t\tweightss.append(weights)\n",
    "\t\tweightss = cp.array(weightss)\n",
    "\t\tweightsss.append(weightss)\n",
    "\t# Lambdass: n x k_i\n",
    "\t# Indicesss: n x k_i x n\n",
    "\tlambdass, indicesss = weightsss_to_lambdas(weightsss, lambdass)\n",
    "\treturn lambdass, indicesss\n",
    "\n",
    "\n",
    "# lambdass, indicesss = map_noncx(stb.indicess, stb.lambdass, lut, k = 0)"
   ]
  },
  {
   "cell_type": "code",
   "execution_count": 81,
   "metadata": {},
   "outputs": [
    {
     "data": {
      "text/plain": [
       "[('h', 0, 0),\n",
       " ('rx', 1, 0.78),\n",
       " ('h', 2, 0),\n",
       " ('h', 0, 0),\n",
       " ('h', 2, 0),\n",
       " ('h', 2, 0),\n",
       " ('h', 3, 0),\n",
       " ('h', 3, 0),\n",
       " ('h', 3, 0),\n",
       " ('h', 3, 0),\n",
       " ('h', 3, 0)]"
      ]
     },
     "execution_count": 81,
     "metadata": {},
     "output_type": "execute_result"
    }
   ],
   "source": [
    "ins.operators[0]"
   ]
  },
  {
   "cell_type": "code",
   "execution_count": 79,
   "metadata": {},
   "outputs": [
    {
     "data": {
      "text/plain": [
       "[[[0, 1], [1, 2], [1, 3]]]"
      ]
     },
     "execution_count": 79,
     "metadata": {},
     "output_type": "execute_result"
    }
   ],
   "source": [
    "ins.xoperators"
   ]
  },
  {
   "cell_type": "code",
   "execution_count": null,
   "metadata": {},
   "outputs": [
    {
     "data": {
      "text/plain": [
       "array([ 0.,  0.,  0.,  0.,  0.,  0.,  0.,  0.,  0.,  0.,  0.,  0.,  0.,\n",
       "        0.,  0.,  0.,  0.,  0.,  0.,  0.,  0.,  0.,  0.,  0.,  0., -2.,\n",
       "        0.,  0.,  0.,  0.,  0.,  0.,  0.,  0.,  0.,  0.,  0.,  0.,  0.,\n",
       "        0.,  0.,  0.,  0.,  0.,  0.,  0.,  0.,  0.,  0.,  0.,  0.,  0.,\n",
       "        0.,  0.,  0.,  0.,  0.,  0.,  0.,  0.,  0.,  0.,  0.,  0.,  0.,\n",
       "        0.,  0.,  0.,  0.,  0.,  0.,  0.,  0.,  0.,  0.,  0.,  0.,  0.,\n",
       "        0.,  0.,  0.,  0.,  0.,  0.,  0.,  0.,  0.,  0.,  0.,  0.,  0.,\n",
       "        0.,  0.,  0.,  0.,  0.,  0.,  0.,  0.,  0.,  0.,  0.,  0.,  0.,\n",
       "        0.,  0.,  0.,  0.,  0.,  0.,  0.,  0.,  0.,  0.,  0.,  0.,  0.,\n",
       "        0.,  0.,  0.,  0.,  0.,  0.,  0.,  0.,  0.,  0.,  0.,  0.,  0.,\n",
       "        0.,  0.,  0.,  0.,  0.,  0.,  0.,  0.,  0.,  0.,  0.,  0.,  0.,\n",
       "        0.,  0.,  0.,  0.,  0.,  0.,  0.,  0.,  0.,  0.,  0.,  0.,  0.,\n",
       "        0.,  0.,  0.,  0.,  0.,  0.,  0.,  0.,  0.,  0.,  0.,  0.,  0.,\n",
       "        0.,  0.,  0.,  0.,  0.,  0.,  0.,  0.,  0.,  0.,  0.,  0.,  0.,\n",
       "        0.,  0.,  0.,  0.,  0.,  0.,  0.,  0.,  0.,  0.,  1.,  0.,  0.,\n",
       "        0.,  0.,  0.,  0.,  0.,  0.,  0.,  0.,  0.,  0.,  0.,  0.,  0.,\n",
       "        0.,  0.,  0.,  0.,  0.,  0.,  0.,  0.,  0.,  0.,  0.,  0.,  0.,\n",
       "        0.,  0.,  0.,  0.,  0.,  0.,  0.,  0.,  0.,  0.,  0.,  0.,  0.,\n",
       "        0.,  0.,  0.,  0.,  0.,  0.,  0.,  0.,  0.,  0.,  0.,  0.,  0.,\n",
       "        0.,  0.,  0.,  0.,  0.,  0.,  0.,  0.,  0.])"
      ]
     },
     "execution_count": 69,
     "metadata": {},
     "output_type": "execute_result"
    }
   ],
   "source": [
    "for j, order in enumerate(ins.orders):\n",
    "\tk = j // 2\n",
    "\tif order == 0:\n",
    "\t\tlambdass, indicesss = map_noncx(lambdass, indicess, ins.LUT, k)\n",
    "\telse:\n",
    "\t\tfor \n",
    "\t\tlambdass, indicesss = map_cx(lambdass, indicess, ins.xoperators[k])"
   ]
  },
  {
   "cell_type": "code",
   "execution_count": null,
   "metadata": {},
   "outputs": [
    {
     "data": {
      "text/plain": [
       "(array([0, 0, 1, 1, 2, 3], dtype=int64),\n",
       " array([ 25, 192,  32,  48,   4,   1], dtype=int64))"
      ]
     },
     "execution_count": 67,
     "metadata": {},
     "output_type": "execute_result"
    }
   ],
   "source": [
    "cp.nonzero(lambdass)"
   ]
  },
  {
   "cell_type": "code",
   "execution_count": null,
   "metadata": {},
   "outputs": [
    {
     "data": {
      "text/plain": [
       "[array([[[ 0.,  0.,  0.,  1.],\n",
       "         [ 1.,  0.,  0.,  0.],\n",
       "         [ 1.,  0.,  0.,  0.],\n",
       "         [ 1.,  0.,  0.,  0.]],\n",
       " \n",
       "        [[ 1.,  0.,  0.,  0.],\n",
       "         [ 0.,  1.,  0.,  0.],\n",
       "         [ 0.,  0., -1.,  0.],\n",
       "         [ 0.,  1., -0.,  0.]]]),\n",
       " array([[[ 1.        ,  0.        ,  0.        ,  0.        ],\n",
       "         [ 0.        ,  0.        , -0.70327944,  0.7109136 ],\n",
       "         [ 1.        ,  0.        ,  0.        ,  0.        ],\n",
       "         [ 1.        ,  0.        ,  0.        ,  0.        ]]]),\n",
       " array([[[ 1.,  0.,  0.,  0.],\n",
       "         [ 1.,  0.,  0.,  0.],\n",
       "         [ 0.,  1., -0.,  0.],\n",
       "         [ 1.,  0.,  0.,  0.]]]),\n",
       " array([[[ 1.,  0.,  0.,  0.],\n",
       "         [ 1.,  0.,  0.,  0.],\n",
       "         [ 1.,  0.,  0.,  0.],\n",
       "         [ 0.,  1., -0.,  0.]]])]"
      ]
     },
     "execution_count": 52,
     "metadata": {},
     "output_type": "execute_result"
    }
   ],
   "source": [
    "weightsss"
   ]
  }
 ],
 "metadata": {
  "kernelspec": {
   "display_name": "Python 3",
   "language": "python",
   "name": "python3"
  },
  "language_info": {
   "codemirror_mode": {
    "name": "ipython",
    "version": 3
   },
   "file_extension": ".py",
   "mimetype": "text/x-python",
   "name": "python",
   "nbconvert_exporter": "python",
   "pygments_lexer": "ipython3",
   "version": "3.10.11"
  }
 },
 "nbformat": 4,
 "nbformat_minor": 2
}
