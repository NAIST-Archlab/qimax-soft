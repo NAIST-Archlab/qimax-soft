{
 "cells": [
  {
   "cell_type": "code",
   "execution_count": 3,
   "metadata": {},
   "outputs": [
    {
     "name": "stdout",
     "output_type": "stream",
     "text": [
      "[ 0  1 14 15  5  4 11 10  9 10  7  6 12 13  2  3]\n",
      "[ 1  1  1  1  1  1  1 -1  1  1 -1  1  1  1  1  1]\n"
     ]
    }
   ],
   "source": [
    "import cupy as cp\n",
    "from gqimax.mapper import map_cx_kernel, map_cx_big\n",
    "\n",
    "n = 2\n",
    "control = 0  \n",
    "target = 1 \n",
    "num_words = 4**2 \n",
    "\n",
    "word_int_array = cp.array(range(0, num_words), dtype=cp.int32)\n",
    "\n",
    "# result_array, lambdas_array = map_cx_big(word_int_array, control, target, n)\n",
    "\n",
    "# result_array_cpu = result_array.get()\n",
    "# lambdas_array_cpu = lambdas_array.get()\n",
    "\n",
    "lambdas_array = cp.ones(num_words, dtype=cp.int32)\n",
    "\n",
    "# Gọi kernel\n",
    "block_size = 256\n",
    "grid_size = (num_words + block_size - 1) // block_size\n",
    "map_cx_kernel((grid_size,), (block_size,), (word_int_array, control, target, n, lambdas_array, num_words))\n",
    "\n",
    "print(word_int_array)\n",
    "print(lambdas_array)"
   ]
  }
 ],
 "metadata": {
  "kernelspec": {
   "display_name": "Python 3",
   "language": "python",
   "name": "python3"
  },
  "language_info": {
   "codemirror_mode": {
    "name": "ipython",
    "version": 3
   },
   "file_extension": ".py",
   "mimetype": "text/x-python",
   "name": "python",
   "nbconvert_exporter": "python",
   "pygments_lexer": "ipython3",
   "version": "3.10.11"
  }
 },
 "nbformat": 4,
 "nbformat_minor": 2
}
