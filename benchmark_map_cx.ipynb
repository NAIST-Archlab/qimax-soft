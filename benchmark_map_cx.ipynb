{
 "cells": [
  {
   "cell_type": "code",
   "execution_count": null,
   "metadata": {},
   "outputs": [
    {
     "name": "stdout",
     "output_type": "stream",
     "text": [
      "(-1, 'xxxyy')\n"
     ]
    }
   ],
   "source": [
    "def map_cx(word, control, target):  \n",
    "    word = list(word)\n",
    "    char_control = word[control]\n",
    "    char_target = word[target]\n",
    "    lambdas = 1\n",
    "    if char_control == 'i':\n",
    "        if char_target == 'y':\n",
    "            word[control] = 'z'\n",
    "            word[target] = 'y'\n",
    "        elif char_target == 'z':\n",
    "            word[control] = 'z'\n",
    "            word[target] = 'z'\n",
    "    elif char_control == 'x':\n",
    "        if char_target == 'i':\n",
    "            word[control] = 'x'\n",
    "            word[target] = 'x'\n",
    "        elif char_target == 'x':\n",
    "            word[control] = 'x'\n",
    "            word[target] = 'i'\n",
    "        elif char_target == 'y':\n",
    "            word[control] = 'y'\n",
    "            word[target] = 'z'\n",
    "        elif char_target == 'z':\n",
    "            lambdas = -1\n",
    "            word[control] = 'y'\n",
    "            word[target] = 'y'\n",
    "    elif char_control == 'y':\n",
    "        if char_target == 'i':\n",
    "            word[control] = 'y'\n",
    "            word[target] = 'x'\n",
    "        elif char_target == 'x':\n",
    "            word[control] = 'y'\n",
    "            word[target] = 'y'\n",
    "        elif char_target == 'y':\n",
    "            word[control] = 'x'\n",
    "            word[target] = 'z'\n",
    "            lambdas = -1\n",
    "        elif char_target == 'z':\n",
    "            word[control] = 'x'\n",
    "            word[target] = 'y'\n",
    "    elif char_control == 'z':\n",
    "        if char_target == 'y':\n",
    "            word[control] = 'i'\n",
    "            word[target] = 'y'\n",
    "        elif char_target == 'z':\n",
    "            word[control] = 'i'\n",
    "            word[target] = 'z'\n",
    "    return lambdas, ''.join(word)\n",
    "\n",
    "print(map_cx('xxxxz', 3, 4))"
   ]
  },
  {
   "cell_type": "code",
   "execution_count": 29,
   "metadata": {},
   "outputs": [
    {
     "data": {
      "text/plain": [
       "numpy.int8"
      ]
     },
     "execution_count": 29,
     "metadata": {},
     "output_type": "execute_result"
    }
   ],
   "source": [
    "cp.int8"
   ]
  },
  {
   "cell_type": "code",
   "execution_count": 22,
   "metadata": {},
   "outputs": [
    {
     "name": "stdout",
     "output_type": "stream",
     "text": [
      "Data: [ 1  2  3  4 55  6  7  8  9 44]\n",
      "Indices: [0 3 5]\n"
     ]
    }
   ],
   "source": [
    "import cupy as cp\n",
    "\n",
    "def flatten_ragged_matrix_cupy(ragged_matrix):\n",
    "    lengths = cp.array([len(row) for row in ragged_matrix])\n",
    "    indices = cp.concatenate((cp.array([0]), cp.cumsum(lengths)))\n",
    "    data = cp.concatenate(ragged_matrix)\n",
    "    return data, indices[:-1]\n",
    "\n",
    "ragged_matrix = [\n",
    "    cp.array([1, 2, 3]),\n",
    "    cp.array([4, 55]),\n",
    "    cp.array([6, 7, 8, 9, 44])\n",
    "]\n",
    "\n",
    "data, indices = flatten_ragged_matrix_cupy(ragged_matrix)\n",
    "print(\"Data:\", data)\n",
    "print(\"Indices:\", indices)\n"
   ]
  },
  {
   "cell_type": "code",
   "execution_count": 20,
   "metadata": {},
   "outputs": [
    {
     "ename": "MemoryError",
     "evalue": "Unable to allocate 48.9 KiB for an array with shape (6257,) and data type float64",
     "output_type": "error",
     "traceback": [
      "\u001b[1;31m---------------------------------------------------------------------------\u001b[0m",
      "\u001b[1;31mMemoryError\u001b[0m                               Traceback (most recent call last)",
      "Cell \u001b[1;32mIn[20], line 21\u001b[0m\n\u001b[0;32m     18\u001b[0m num_rows \u001b[38;5;241m=\u001b[39m \u001b[38;5;241m10000\u001b[39m\n\u001b[0;32m     19\u001b[0m max_length \u001b[38;5;241m=\u001b[39m \u001b[38;5;241m10000\u001b[39m\n\u001b[1;32m---> 21\u001b[0m ragged_matrix_np \u001b[38;5;241m=\u001b[39m [np\u001b[38;5;241m.\u001b[39mrandom\u001b[38;5;241m.\u001b[39mrand(np\u001b[38;5;241m.\u001b[39mrandom\u001b[38;5;241m.\u001b[39mrandint(\u001b[38;5;241m1\u001b[39m, max_length)) \u001b[38;5;28;01mfor\u001b[39;00m _ \u001b[38;5;129;01min\u001b[39;00m \u001b[38;5;28mrange\u001b[39m(num_rows)]\n\u001b[0;32m     22\u001b[0m ragged_matrix_cp \u001b[38;5;241m=\u001b[39m [cp\u001b[38;5;241m.\u001b[39marray(row) \u001b[38;5;28;01mfor\u001b[39;00m row \u001b[38;5;129;01min\u001b[39;00m ragged_matrix_np]\n\u001b[0;32m     24\u001b[0m \u001b[38;5;66;03m# Benchmark với NumPy\u001b[39;00m\n",
      "Cell \u001b[1;32mIn[20], line 21\u001b[0m, in \u001b[0;36m<listcomp>\u001b[1;34m(.0)\u001b[0m\n\u001b[0;32m     18\u001b[0m num_rows \u001b[38;5;241m=\u001b[39m \u001b[38;5;241m10000\u001b[39m\n\u001b[0;32m     19\u001b[0m max_length \u001b[38;5;241m=\u001b[39m \u001b[38;5;241m10000\u001b[39m\n\u001b[1;32m---> 21\u001b[0m ragged_matrix_np \u001b[38;5;241m=\u001b[39m [\u001b[43mnp\u001b[49m\u001b[38;5;241;43m.\u001b[39;49m\u001b[43mrandom\u001b[49m\u001b[38;5;241;43m.\u001b[39;49m\u001b[43mrand\u001b[49m\u001b[43m(\u001b[49m\u001b[43mnp\u001b[49m\u001b[38;5;241;43m.\u001b[39;49m\u001b[43mrandom\u001b[49m\u001b[38;5;241;43m.\u001b[39;49m\u001b[43mrandint\u001b[49m\u001b[43m(\u001b[49m\u001b[38;5;241;43m1\u001b[39;49m\u001b[43m,\u001b[49m\u001b[43m \u001b[49m\u001b[43mmax_length\u001b[49m\u001b[43m)\u001b[49m\u001b[43m)\u001b[49m \u001b[38;5;28;01mfor\u001b[39;00m _ \u001b[38;5;129;01min\u001b[39;00m \u001b[38;5;28mrange\u001b[39m(num_rows)]\n\u001b[0;32m     22\u001b[0m ragged_matrix_cp \u001b[38;5;241m=\u001b[39m [cp\u001b[38;5;241m.\u001b[39marray(row) \u001b[38;5;28;01mfor\u001b[39;00m row \u001b[38;5;129;01min\u001b[39;00m ragged_matrix_np]\n\u001b[0;32m     24\u001b[0m \u001b[38;5;66;03m# Benchmark với NumPy\u001b[39;00m\n",
      "File \u001b[1;32mnumpy\\\\random\\\\mtrand.pyx:1219\u001b[0m, in \u001b[0;36mnumpy.random.mtrand.RandomState.rand\u001b[1;34m()\u001b[0m\n",
      "File \u001b[1;32mnumpy\\\\random\\\\mtrand.pyx:437\u001b[0m, in \u001b[0;36mnumpy.random.mtrand.RandomState.random_sample\u001b[1;34m()\u001b[0m\n",
      "File \u001b[1;32m_common.pyx:307\u001b[0m, in \u001b[0;36mnumpy.random._common.double_fill\u001b[1;34m()\u001b[0m\n",
      "\u001b[1;31mMemoryError\u001b[0m: Unable to allocate 48.9 KiB for an array with shape (6257,) and data type float64"
     ]
    }
   ],
   "source": [
    "import cupy as cp\n",
    "import numpy as np\n",
    "import time\n",
    "\n",
    "def flatten_ragged_matrix_cupy(ragged_matrix):\n",
    "    lengths = cp.array([len(row) for row in ragged_matrix])\n",
    "    indices = cp.concatenate((cp.array([0]), cp.cumsum(lengths)))\n",
    "    data = cp.concatenate(ragged_matrix)\n",
    "    return data, indices[:-1]\n",
    "\n",
    "def flatten_ragged_matrix_numpy(ragged_matrix):\n",
    "    lengths = np.array([len(row) for row in ragged_matrix])\n",
    "    indices = np.concatenate(([0], np.cumsum(lengths)))\n",
    "    data = np.concatenate(ragged_matrix)\n",
    "    return data, indices[:-1]\n",
    "\n",
    "# Tạo dữ liệu lớn để benchmark\n",
    "num_rows = 10000\n",
    "max_length = 10000\n",
    "\n",
    "ragged_matrix_np = [np.random.rand(np.random.randint(1, max_length)) for _ in range(num_rows)]\n",
    "ragged_matrix_cp = [cp.array(row) for row in ragged_matrix_np]\n",
    "\n",
    "# Benchmark với NumPy\n",
    "start_time = time.time()\n",
    "data_np, indices_np = flatten_ragged_matrix_numpy(ragged_matrix_np)\n",
    "numpy_time = time.time() - start_time\n",
    "\n",
    "# Benchmark với CuPy\n",
    "start_time = time.time()\n",
    "data_cp, indices_cp = flatten_ragged_matrix_cupy(ragged_matrix_cp)\n",
    "cupy_time = time.time() - start_time\n",
    "\n",
    "print(f\"NumPy time: {numpy_time:.6f} s\")\n",
    "print(f\"CuPy time: {cupy_time:.6f} s\")"
   ]
  }
 ],
 "metadata": {
  "kernelspec": {
   "display_name": "Python 3",
   "language": "python",
   "name": "python3"
  },
  "language_info": {
   "codemirror_mode": {
    "name": "ipython",
    "version": 3
   },
   "file_extension": ".py",
   "mimetype": "text/x-python",
   "name": "python",
   "nbconvert_exporter": "python",
   "pygments_lexer": "ipython3",
   "version": "3.10.11"
  }
 },
 "nbformat": 4,
 "nbformat_minor": 2
}
