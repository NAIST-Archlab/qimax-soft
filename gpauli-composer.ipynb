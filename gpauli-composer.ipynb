{
 "cells": [
  {
   "cell_type": "code",
   "execution_count": 27,
   "metadata": {},
   "outputs": [
    {
     "name": "stdout",
     "output_type": "stream",
     "text": [
      "The autoreload extension is already loaded. To reload it, use:\n",
      "  %reload_ext autoreload\n",
      "1\n"
     ]
    }
   ],
   "source": [
    "from gqimax import pc\n",
    "%load_ext autoreload\n",
    "%autoreload 2\n",
    "\n",
    "gpc = pc.PauliComposer('X'*10)\n",
    "gpc.to_matrix()\n",
    "print(1)"
   ]
  },
  {
   "cell_type": "code",
   "execution_count": 36,
   "metadata": {},
   "outputs": [
    {
     "name": "stdout",
     "output_type": "stream",
     "text": [
      "{'zi': [1]}\n",
      "{'iz': [1]}\n"
     ]
    }
   ],
   "source": [
    "from qimax.instructor import Instructor\n",
    "from qimax.stabilizer import StabilizerGenerator\n",
    "import numpy as np\n",
    "\n",
    "stb = StabilizerGenerator(2)\n",
    "stb.h(0)\n",
    "stb.cx([0, 1])"
   ]
  },
  {
   "cell_type": "code",
   "execution_count": null,
   "metadata": {},
   "outputs": [
    {
     "name": "stdout",
     "output_type": "stream",
     "text": [
      "1 * zii + ... + 1 * zii\n"
     ]
    }
   ],
   "source": [
    "from qimax.pstabilizer import PStabilizer\n",
    "\n",
    "num_qubits = 3\n",
    "ps = PStabilizer(0, num_qubits)\n",
    "ps.map()"
   ]
  },
  {
   "cell_type": "code",
   "execution_count": null,
   "metadata": {},
   "outputs": [
    {
     "name": "stdout",
     "output_type": "stream",
     "text": [
      "[[0.5 0.  0.  0.5]\n",
      " [0.  0.  0.  0. ]\n",
      " [0.  0.  0.  0. ]\n",
      " [0.5 0.  0.  0.5]]\n"
     ]
    }
   ],
   "source": [
    "from qimax.pc import PauliComposer\n",
    "\n",
    "xx = PauliComposer('XX').to_matrix()\n",
    "ii = PauliComposer('II').to_matrix()\n",
    "yy = PauliComposer('YY').to_matrix()\n",
    "\n",
    "print((ii+xx) @ (ii-yy)/4)"
   ]
  }
 ],
 "metadata": {
  "kernelspec": {
   "display_name": "Python 3",
   "language": "python",
   "name": "python3"
  },
  "language_info": {
   "codemirror_mode": {
    "name": "ipython",
    "version": 3
   },
   "file_extension": ".py",
   "mimetype": "text/x-python",
   "name": "python",
   "nbconvert_exporter": "python",
   "pygments_lexer": "ipython3",
   "version": "3.10.11"
  }
 },
 "nbformat": 4,
 "nbformat_minor": 2
}
