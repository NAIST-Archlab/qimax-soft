{
 "cells": [
  {
   "cell_type": "code",
   "execution_count": null,
   "metadata": {},
   "outputs": [],
   "source": [
    "from gqimax.mapper import map_cx, map_noncx\n",
    "from gqimax.sample import sample2, sample3\n",
    "from gqimax.mapper import weightss_to_lambdas, map_indices_to_indicess, map_noncx\n",
    "import cupy as cp\n",
    "import time\n",
    "\n",
    "import cupy as cp\n",
    "\n",
    "\n",
    "num_qubits = 6\n",
    "num_layers = 2\n",
    "num_repeats = 1000\n",
    "ins = sample3(num_qubits, num_layers, num_repeats)\n",
    "ins.operatoring()\n",
    "from gqimax.pstabilizers import PStabilizers\n",
    "stb = PStabilizers(num_qubits)\n",
    "lambdass = stb.lambdass\n",
    "indicesss = stb.indicess\n",
    "\n",
    "for j, order in enumerate(ins.orders):\n",
    "    k = j // 2\n",
    "    if order == 0:\n",
    "        lambdass, indicesss = map_noncx(lambdass, indicesss, ins.lut[k])\n",
    "\n",
    "    else:\n",
    "        for _, indices, _ in ins.xoperators[k]:\n",
    "            lambdass, indicesss = map_cx(lambdass, indicesss, indices[0], indices[1])\n",
    "\n",
    "# print(lambdass[0])\n",
    "# print(indicesss[0])"
   ]
  },
  {
   "cell_type": "code",
   "execution_count": 9,
   "metadata": {},
   "outputs": [
    {
     "data": {
      "text/plain": [
       "1260"
      ]
     },
     "execution_count": 9,
     "metadata": {},
     "output_type": "execute_result"
    }
   ],
   "source": [
    "len(lambdass[0])"
   ]
  }
 ],
 "metadata": {
  "kernelspec": {
   "display_name": "Python 3",
   "language": "python",
   "name": "python3"
  },
  "language_info": {
   "codemirror_mode": {
    "name": "ipython",
    "version": 3
   },
   "file_extension": ".py",
   "mimetype": "text/x-python",
   "name": "python",
   "nbconvert_exporter": "python",
   "pygments_lexer": "ipython3",
   "version": "3.10.11"
  }
 },
 "nbformat": 4,
 "nbformat_minor": 2
}
