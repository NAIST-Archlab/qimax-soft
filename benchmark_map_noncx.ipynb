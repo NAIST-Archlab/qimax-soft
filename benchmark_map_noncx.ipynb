{
 "cells": [
  {
   "cell_type": "code",
   "execution_count": 6,
   "metadata": {},
   "outputs": [],
   "source": [
    "from gqimax.mapper import map_cx, map_noncx\n",
    "from gqimax.sample import sample3\n",
    "from gqimax.mapper import weightss_to_lambdas, map_indices_to_indicess, map_noncx\n",
    "import cupy as cp\n",
    "import time\n",
    "\n",
    "import cupy as cp\n",
    "\n",
    "# def weightsss_to_lambdass(lambdass: list, weightsss: list) -> cp.ndarray:\n",
    "#     n = len(weightsss)\n",
    "#     streams = [cp.cuda.Stream() for _ in range(n)]\n",
    "#     mapped_lambdass = [None] * n\n",
    "#     non_zeros_indicess = [None] * n\n",
    "#     for i in range(n):\n",
    "#         with streams[i]:\n",
    "#             new_lambdas, non_zeros_indices = weightss_to_lambdas(\n",
    "#                 lambdass[i], weightsss[i]\n",
    "#             )\n",
    "#             mapped_lambdass[i] = new_lambdas\n",
    "#             non_zeros_indicess[i] = non_zeros_indices\n",
    "#     for stream in streams:\n",
    "#         stream.synchronize()\n",
    "    \n",
    "#     return mapped_lambdass, map_indices_to_indicess(non_zeros_indicess)\n",
    "\n",
    "num_qubits = 4\n",
    "ins = sample3(num_qubits, 5)\n",
    "ins.operatoring()\n",
    "from gqimax.pstabilizers import PStabilizers\n",
    "stb = PStabilizers(num_qubits)\n",
    "lambdass = stb.lambdass\n",
    "indicesss = stb.indicess\n",
    "\n",
    "for j, order in enumerate(ins.orders):\n",
    "    k = j // 2\n",
    "    if order == 0:\n",
    "        lambdass, indicesss = map_noncx(lambdass, indicesss, ins.lut[k])\n",
    "\n",
    "    else:\n",
    "        for _, indices, _ in ins.xoperators[k]:\n",
    "            lambdass, indicesss = map_cx(lambdass, indicesss, indices[0], indices[1])\n",
    "\n"
   ]
  }
 ],
 "metadata": {
  "kernelspec": {
   "display_name": "Python 3",
   "language": "python",
   "name": "python3"
  },
  "language_info": {
   "codemirror_mode": {
    "name": "ipython",
    "version": 3
   },
   "file_extension": ".py",
   "mimetype": "text/x-python",
   "name": "python",
   "nbconvert_exporter": "python",
   "pygments_lexer": "ipython3",
   "version": "3.10.11"
  }
 },
 "nbformat": 4,
 "nbformat_minor": 2
}
