{
 "cells": [
  {
   "cell_type": "code",
   "execution_count": null,
   "metadata": {},
   "outputs": [],
   "source": [
    "import cupy as cp\n",
    "\n",
    "def map_noncx(indicess: cp.ndarray, lambdas: cp.ndarray, LUT):\n",
    "\n",
    "\tweightsss = []\n",
    "\tfor k, indices in enumerate(indicess):\n",
    "\t\tweightss = [] # Index is a n-dim list, example: IXXX => [0, 1, 1, 1]\n",
    "\t\tfor index in indices:\n",
    "\t\t\tweights = []\n",
    "\t\t\tfor j, char in enumerate(index):\n",
    "\t\t\t\ti_in_lut = char - 1\n",
    "\t\t\t\tif i_in_lut == -1:\n",
    "\t\t\t\t\tweights.append([1,0,0,0])\n",
    "\t\t\t\telse: \n",
    "\t\t\t\t\tweights.append(LUT[k][j][i_in_lut])\n",
    "\t\t\tweightss.append(weights)\n",
    "\t\tweightsss.append(cp.array(weightss))   \n",
    "  \n",
    "  \n",
    "\n",
    "\treturn weightsss"
   ]
  }
 ],
 "metadata": {
  "language_info": {
   "name": "python"
  }
 },
 "nbformat": 4,
 "nbformat_minor": 2
}
