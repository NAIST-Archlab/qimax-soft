{
 "cells": [
  {
   "cell_type": "code",
   "execution_count": null,
   "id": "951f046e",
   "metadata": {},
   "outputs": [],
   "source": [
    "from __future__ import annotations\n",
    "\n",
    "import networkx as nx\n",
    "from qiskit import QuantumCircuit, QuantumRegister\n",
    "from qiskit.circuit.library import GraphState\n",
    "import qiskit\n",
    "\n",
    "def create_circuit(num_qubits: int, degree: int = 2) -> QuantumCircuit:\n",
    "    \"\"\"Returns a quantum circuit implementing a graph state.\n",
    "\n",
    "    Arguments:\n",
    "        num_qubits: number of qubits of the returned quantum circuit\n",
    "        degree: number of edges per node\n",
    "    \"\"\"\n",
    "    q = QuantumRegister(num_qubits, \"q\")\n",
    "    qc = QuantumCircuit(q, name=\"graphstate\")\n",
    "\n",
    "    g = nx.random_regular_graph(degree, num_qubits)\n",
    "    a = nx.convert_matrix.to_numpy_array(g)\n",
    "    qc.compose(GraphState(a), inplace=True)\n",
    "    return qc.decompose(gates_to_decompose=\"graph_state\")\n",
    "\n",
    "\n",
    "\n"
   ]
  },
  {
   "cell_type": "code",
   "execution_count": 13,
   "id": "3e240f81",
   "metadata": {},
   "outputs": [],
   "source": [
    "from qimax.stabilizer import StabilizerGenerator, PauliTerm, PauliWord\n",
    "import numpy as np\n",
    "\n",
    "stb = StabilizerGenerator(num_qubits)\n",
    "for gate in gate_list:\n",
    "    if gate[0] in ['h', 's', 'cx']:\n",
    "        if len(gate[1]) == 2:\n",
    "            stb.map(gate[0], gate[1])\n",
    "        else:\n",
    "            stb.map(gate[0], gate[1][0])\n",
    "    else:\n",
    "        stb.map(gate[0], gate[1], gate[2])"
   ]
  },
  {
   "cell_type": "code",
   "execution_count": null,
   "id": "274e93fc",
   "metadata": {},
   "outputs": [],
   "source": [
    "import time\n",
    "\n",
    "times = []\n",
    "for num_qubits in range(2, 1000):\n",
    "\tqc = create_circuit(num_qubits)\n",
    "\tqc_trans = qiskit.transpile(qc, basis_gates = ['h', 's', 'cx', 'rx', 'ry', 'rz'], optimization_level=3)\n",
    "\tgate_list = []\n",
    "\tfor instruction in qc_trans.data:\n",
    "\t\tgate = instruction.operation.name\n",
    "\t\twires = [qubit._index for qubit in instruction.qubits]\n",
    "\t\tparams = instruction.operation.params\n",
    "\t\tgate_list.append((gate, wires, params))\n",
    "\tstart = time.time()\n",
    "\tstb = StabilizerGenerator(num_qubits)\n",
    "\tfor gate in gate_list:\n",
    "\t\tif gate[0] in ['h', 's', 'cx']:\n",
    "\t\t\tif len(gate[1]) == 2:\n",
    "\t\t\t\tstb.map(gate[0], gate[1])\n",
    "\t\t\telse:\n",
    "\t\t\t\tstb.map(gate[0], gate[1][0])\n",
    "\t\telse:\n",
    "\t\t\tstb.map(gate[0], gate[1], gate[2])\n",
    "\tend = time.time()\n",
    "\tprint(f\"Num qubits: {num_qubits}, Time taken: {end - start:.4f} seconds\")\n",
    "\ttimes.append(end - start)\n",
    "\n",
    "np.savetxt(\"graph_times_qimaxv1.txt\", times)"
   ]
  }
 ],
 "metadata": {
  "kernelspec": {
   "display_name": "Python 3",
   "language": "python",
   "name": "python3"
  },
  "language_info": {
   "codemirror_mode": {
    "name": "ipython",
    "version": 3
   },
   "file_extension": ".py",
   "mimetype": "text/x-python",
   "name": "python",
   "nbconvert_exporter": "python",
   "pygments_lexer": "ipython3",
   "version": "3.10.11"
  }
 },
 "nbformat": 4,
 "nbformat_minor": 5
}
