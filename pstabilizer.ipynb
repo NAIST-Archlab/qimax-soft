{
 "cells": [
  {
   "cell_type": "code",
   "execution_count": 1,
   "metadata": {},
   "outputs": [],
   "source": [
    "from jax.experimental import sparse\n",
    "import jax.numpy as jnp\n",
    "import numpy as np"
   ]
  },
  {
   "cell_type": "code",
   "execution_count": null,
   "metadata": {},
   "outputs": [],
   "source": [
    "def char_to_weight(character):\n",
    "    if character == \"x\":\n",
    "        return np.array([0, 1, 0, 0])\n",
    "    if character == \"y\":\n",
    "        return np.array([0, 0, 1, 0])\n",
    "    if character == \"z\":\n",
    "        return np.array([0, 0, 0, 1])\n",
    "    if character == \"i\":\n",
    "        return np.array([1, 0, 0, 0])\n",
    "def mapping_single_pauliword_one_gate(character, instructors):\n",
    "    # Map a single Pauliword to list\n",
    "    # Example: xyy -> [0, 1, 0, 0][0,0,1,0][0,0,1,0] -- h --> [0, 0, 0, 1][0,0,-1,0][0,0,-1,0] = z(-y)(-y)\n",
    "    from numpy import sin, cos, sqrt\n",
    "    weights = char_to_weight(character)\n",
    "\n",
    "    for gate, index, param in instructors:\n",
    "        I, A, B, C = weights\n",
    "        if gate == \"h\":\n",
    "            weights = np.array([I, 0, 0, 1])\n",
    "        if gate == \"s\":\n",
    "            weights = np.array([I, 0, 1, 0])\n",
    "        if gate == \"t\":\n",
    "            weights = np.array([I, 1 / sqrt(2), 1 / sqrt(2), 0])\n",
    "        if gate == \"rx\":\n",
    "            weights = np.array([I, A, B * cos(param) - C * sin(param), B * sin(param) + C * cos(param)])\n",
    "        if gate == \"ry\":\n",
    "            weights = np.array([I, A * cos(param) + C * sin(param), B, C * cos(param) - A * sin(param)])\n",
    "        if gate == \"rz\":\n",
    "            weights = np.array([I, A * cos(param) - B * sin(param), B * cos(param) + A * sin(param), C])\n",
    "    return weights\n"
   ]
  },
  {
   "cell_type": "code",
   "execution_count": null,
   "metadata": {},
   "outputs": [],
   "source": [
    "class Instructor:\n",
    "    def __init__(self, num_qubits):\n",
    "        self.clusters = []\n",
    "        self.cluster = []\n",
    "        self.cluster_temp = []\n",
    "        self.xcluster = []\n",
    "        self.xclusters = []\n",
    "        self.instructors = []\n",
    "        self.num_qubits = num_qubits\n",
    "        self.barriers = [0] * num_qubits\n",
    "\n",
    "    def append(self, gate, index, param=0):\n",
    "        self.instructors.append([gate, index, param])\n",
    "\n",
    "    def clustering(self):\n",
    "        while len(self.instructors) > 0:\n",
    "            gate, index, _ = self.instructors[0]\n",
    "            sum_barrier = sum(self.barriers)\n",
    "            if sum_barrier == self.num_qubits:\n",
    "                self.clusters.append(self.cluster)\n",
    "                self.cluster = []\n",
    "                self.instructors = self.cluster_temp + self.instructors\n",
    "                self.cluster_temp = []\n",
    "                gate, index, _ = self.instructors[0]\n",
    "                self.barriers = [0] * self.num_qubits\n",
    "\n",
    "            if gate == \"cx\":\n",
    "                self.barriers[index[0]] = 1\n",
    "                self.barriers[index[1]] = 1\n",
    "                self.xcluster.append(self.instructors[0])\n",
    "                if sum(self.barriers) == self.num_qubits:\n",
    "                    self.xclusters.append(self.xcluster[:-1])\n",
    "                    self.xcluster = [self.xcluster[-1]]\n",
    "                self.instructors.pop(0)\n",
    "            else:\n",
    "                if self.barriers[index] == 0:\n",
    "                    self.cluster.append(self.instructors[0])\n",
    "                    self.instructors.pop(0)\n",
    "                else:\n",
    "                    self.cluster_temp.append(self.instructors.pop(0))\n",
    "        if len(self.cluster) > 0:\n",
    "            self.clusters.append(self.cluster)\n",
    "        if len(self.cluster_temp) > 0:\n",
    "            self.clusters.append(self.cluster_temp)\n",
    "        if len(self.xcluster) > 0:\n",
    "            self.xclusters.append(self.xcluster)\n",
    "\n",
    "\n",
    "ins = Instructor(4)\n",
    "ins.append(\"h\", 0)\n",
    "ins.append(\"h\", 1)\n",
    "ins.append(\"h\", 2)\n",
    "ins.append(\"h\", 0)\n",
    "ins.append(\"cx\", [0, 1])\n",
    "ins.append(\"h\", 2)\n",
    "ins.append(\"h\", 2)\n",
    "ins.append(\"h\", 0)\n",
    "ins.append(\"cx\", [1, 2])\n",
    "ins.append(\"h\", 1)\n",
    "ins.append(\"h\", 3)\n",
    "ins.append(\"h\", 3)\n",
    "ins.append(\"h\", 3)\n",
    "ins.append(\"h\", 3)\n",
    "ins.append(\"h\", 0)\n",
    "ins.append(\"h\", 1)\n",
    "ins.append(\"h\", 2)\n",
    "ins.append(\"h\", 3)\n",
    "ins.append(\"h\", 0)\n",
    "ins.append(\"h\", 2)\n",
    "ins.append(\"cx\", [1, 3])\n",
    "ins.clustering()"
   ]
  },
  {
   "cell_type": "code",
   "execution_count": 82,
   "metadata": {},
   "outputs": [
    {
     "data": {
      "text/plain": [
       "[[['h', 0, 0],\n",
       "  ['h', 1, 0],\n",
       "  ['h', 2, 0],\n",
       "  ['h', 0, 0],\n",
       "  ['h', 2, 0],\n",
       "  ['h', 2, 0],\n",
       "  ['h', 3, 0],\n",
       "  ['h', 3, 0],\n",
       "  ['h', 3, 0],\n",
       "  ['h', 3, 0],\n",
       "  ['h', 3, 0]],\n",
       " [['h', 0, 0],\n",
       "  ['h', 1, 0],\n",
       "  ['h', 0, 0],\n",
       "  ['h', 1, 0],\n",
       "  ['h', 2, 0],\n",
       "  ['h', 0, 0],\n",
       "  ['h', 2, 0]]]"
      ]
     },
     "execution_count": 82,
     "metadata": {},
     "output_type": "execute_result"
    }
   ],
   "source": [
    "ins.clusters"
   ]
  },
  {
   "cell_type": "code",
   "execution_count": 83,
   "metadata": {},
   "outputs": [
    {
     "data": {
      "text/plain": [
       "[[['cx', [0, 1], 0], ['cx', [1, 2], 0]], [['cx', [1, 3], 0]]]"
      ]
     },
     "execution_count": 83,
     "metadata": {},
     "output_type": "execute_result"
    }
   ],
   "source": [
    "ins.xclusters"
   ]
  }
 ],
 "metadata": {
  "kernelspec": {
   "display_name": "Python 3",
   "language": "python",
   "name": "python3"
  },
  "language_info": {
   "codemirror_mode": {
    "name": "ipython",
    "version": 3
   },
   "file_extension": ".py",
   "mimetype": "text/x-python",
   "name": "python",
   "nbconvert_exporter": "python",
   "pygments_lexer": "ipython3",
   "version": "3.10.11"
  }
 },
 "nbformat": 4,
 "nbformat_minor": 2
}
