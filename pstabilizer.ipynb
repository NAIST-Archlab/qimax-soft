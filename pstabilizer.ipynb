{
 "cells": [
  {
   "cell_type": "code",
   "execution_count": 92,
   "metadata": {},
   "outputs": [
    {
     "name": "stdout",
     "output_type": "stream",
     "text": [
      "The autoreload extension is already loaded. To reload it, use:\n",
      "  %reload_ext autoreload\n"
     ]
    }
   ],
   "source": [
    "from jax.experimental import sparse\n",
    "import jax.numpy as jnp\n",
    "import numpy as np\n",
    "from sojo.pstabilizer import group_instructorss_by_qubits, char_to_index, Instructor\n",
    "from sojo.pstabilizer import weightss_to_lambda, word_to_index, generate_pauli_combination, instructor_to_lut\n",
    "%load_ext autoreload\n",
    "%autoreload 2"
   ]
  },
  {
   "cell_type": "code",
   "execution_count": 74,
   "metadata": {},
   "outputs": [],
   "source": [
    "ins = Instructor(4)\n",
    "ins.append(\"h\", 0)\n",
    "ins.append(\"rx\", 1, 0.78)\n",
    "ins.append(\"h\", 2)\n",
    "ins.append(\"h\", 0)\n",
    "ins.append(\"cx\", [0, 1])\n",
    "ins.append(\"h\", 2)\n",
    "ins.append(\"h\", 2)\n",
    "ins.append(\"ry\", 0, 0.56)\n",
    "ins.append(\"cx\", [1, 2])\n",
    "ins.append(\"h\", 1)\n",
    "ins.append(\"h\", 3)\n",
    "ins.append(\"h\", 3)\n",
    "ins.append(\"h\", 3)\n",
    "ins.append(\"h\", 3)\n",
    "ins.append(\"h\", 0)\n",
    "ins.append(\"h\", 1)\n",
    "ins.append(\"h\", 2)\n",
    "ins.append(\"h\", 3)\n",
    "ins.append(\"h\", 0)\n",
    "ins.append(\"h\", 2)\n",
    "ins.append(\"cx\", [1, 3])\n",
    "ins.clustering()"
   ]
  },
  {
   "cell_type": "code",
   "execution_count": 93,
   "metadata": {},
   "outputs": [],
   "source": [
    "num_qubits = 3\n",
    "ins = Instructor(num_qubits)\n",
    "for k in range(5):\n",
    "\tfor i in range(num_qubits - 1):\n",
    "\t\tins.append('cx', [i, i + 1])\n",
    "\tins.append('cx', [num_qubits - 1, 0])\n",
    "\tfor i in range(num_qubits):\n",
    "\t\tins.append('rx', i, np.random.rand())\n",
    "\t\tins.append('ry', i, np.random.rand())\n",
    "\t\tins.append('rz', i, np.random.rand())\n",
    "\n",
    "ins.clustering()"
   ]
  },
  {
   "cell_type": "code",
   "execution_count": 94,
   "metadata": {},
   "outputs": [
    {
     "name": "stdout",
     "output_type": "stream",
     "text": [
      "(5, 3, 4, 4)\n"
     ]
    }
   ],
   "source": [
    "LUT = instructor_to_lut(ins)"
   ]
  },
  {
   "cell_type": "code",
   "execution_count": 88,
   "metadata": {},
   "outputs": [],
   "source": [
    "num_qubits = 3\n",
    "term = generate_pauli_combination(num_qubits)\n",
    "\n",
    "k = 0\n",
    "# Init\n",
    "# 2**n is th\n",
    "lambdas = np.ones(4**num_qubits)\n",
    "\n",
    "weightss = []\n",
    "for w, word in enumerate(term):\n",
    "    weights = []\n",
    "    for j, char in enumerate(word):\n",
    "        index = char_to_index(char)\n",
    "        weights.append(LUT[k][j][index])\n",
    "    weightss.append(weights)\n",
    "weightss = np.array(weightss)\n",
    "lambdas = weightss_to_lambda(weightss, lambdas)"
   ]
  },
  {
   "cell_type": "code",
   "execution_count": null,
   "metadata": {},
   "outputs": [
    {
     "name": "stdout",
     "output_type": "stream",
     "text": [
      "[ 1.00000000e+00  1.26372584e-01  1.72296422e+00  1.24194415e-01\n",
      "  7.72793255e-01  9.76598807e-02  1.33149513e+00  9.59766059e-02\n",
      "  1.53982223e+00  1.94591314e-01  2.65305861e+00  1.91237320e-01\n",
      " -1.78151899e-01 -2.25135158e-02 -3.06949348e-01 -2.21254708e-02\n",
      "  1.49805481e+00  1.89313058e-01  2.58109484e+00  1.86050040e-01\n",
      "  1.15768665e+00  1.46299854e-01  1.99465269e+00  1.43778216e-01\n",
      "  2.30673809e+00  2.91508454e-01  3.97442721e+00  2.86483987e-01\n",
      " -2.66881309e-01 -3.37264807e-02 -4.59826947e-01 -3.31451679e-02\n",
      "  8.69150135e-01  1.09836749e-01  1.49751459e+00  1.07943592e-01\n",
      "  6.71673362e-01  8.48810985e-02  1.15726917e+00  8.34180800e-02\n",
      "  1.33833670e+00  1.69129067e-01  2.30590625e+00  1.66213942e-01\n",
      " -1.54840747e-01 -1.95676253e-02 -2.66785067e-01 -1.92303559e-02\n",
      "  2.02442085e-02  2.55831294e-03  3.48800470e-02  2.51421762e-03\n",
      "  1.56445878e-02  1.97704699e-03  2.69550651e-02  1.94297042e-03\n",
      "  3.11724822e-02  3.93934713e-03  5.37090716e-02  3.87144818e-03\n",
      " -3.60654418e-03 -4.55768309e-04 -6.21394660e-03 -4.47912644e-04]\n",
      "(array([ 0,  1,  2,  3,  4,  5,  6,  7,  8,  9, 10, 11, 12, 13, 14, 15, 16,\n",
      "       17, 18, 19, 20, 21, 22, 23, 24, 25, 26, 27, 28, 29, 30, 31, 32, 33,\n",
      "       34, 35, 36, 37, 38, 39, 40, 41, 42, 43, 44, 45, 46, 47, 48, 49, 50,\n",
      "       51, 52, 53, 54, 55, 56, 57, 58, 59, 60, 61, 62, 63], dtype=int64),)\n",
      "[ 1.00000000e+00  1.26372584e-01  1.72296422e+00  1.24194415e-01\n",
      "  7.72793255e-01  9.76598807e-02  1.33149513e+00  9.59766059e-02\n",
      "  1.53982223e+00  1.94591314e-01  2.65305861e+00  1.91237320e-01\n",
      " -1.78151899e-01 -2.25135158e-02 -3.06949348e-01 -2.21254708e-02\n",
      "  1.49805481e+00  1.89313058e-01  2.58109484e+00  1.86050040e-01\n",
      "  1.15768665e+00  1.46299854e-01  1.99465269e+00  1.43778216e-01\n",
      "  2.30673809e+00  2.91508454e-01  3.97442721e+00  2.86483987e-01\n",
      " -2.66881309e-01 -3.37264807e-02 -4.59826947e-01 -3.31451679e-02\n",
      "  8.69150135e-01  1.09836749e-01  1.49751459e+00  1.07943592e-01\n",
      "  6.71673362e-01  8.48810985e-02  1.15726917e+00  8.34180800e-02\n",
      "  1.33833670e+00  1.69129067e-01  2.30590625e+00  1.66213942e-01\n",
      " -1.54840747e-01 -1.95676253e-02 -2.66785067e-01 -1.92303559e-02\n",
      "  2.02442085e-02  2.55831294e-03  3.48800470e-02  2.51421762e-03\n",
      "  1.56445878e-02  1.97704699e-03  2.69550651e-02  1.94297042e-03\n",
      "  3.11724822e-02  3.93934713e-03  5.37090716e-02  3.87144818e-03\n",
      " -3.60654418e-03 -4.55768309e-04 -6.21394660e-03 -4.47912644e-04]\n"
     ]
    }
   ],
   "source": [
    "non_zero_indices = np.nonzero(lambdas)\n",
    "non_zero_values = np.array(lambdas)[non_zero_indices]\n",
    "non_zero_indices, non_zero_values\n",
    "print(non_zero_indices)\n",
    "print(non_zero_values)"
   ]
  },
  {
   "cell_type": "code",
   "execution_count": null,
   "metadata": {},
   "outputs": [],
   "source": []
  }
 ],
 "metadata": {
  "kernelspec": {
   "display_name": "Python 3",
   "language": "python",
   "name": "python3"
  },
  "language_info": {
   "codemirror_mode": {
    "name": "ipython",
    "version": 3
   },
   "file_extension": ".py",
   "mimetype": "text/x-python",
   "name": "python",
   "nbconvert_exporter": "python",
   "pygments_lexer": "ipython3",
   "version": "3.10.11"
  }
 },
 "nbformat": 4,
 "nbformat_minor": 2
}
