{
 "cells": [
  {
   "cell_type": "code",
   "execution_count": 25,
   "metadata": {},
   "outputs": [],
   "source": [
    "from jax.experimental import sparse\n",
    "import jax.numpy as jnp\n",
    "import numpy as np"
   ]
  },
  {
   "cell_type": "code",
   "execution_count": 134,
   "metadata": {},
   "outputs": [],
   "source": [
    "def char_to_weight(character):\n",
    "    if character == \"x\":\n",
    "        return np.array([0, 1, 0, 0])\n",
    "    if character == \"y\":\n",
    "        return np.array([0, 0, 1, 0])\n",
    "    if character == \"z\":\n",
    "        return np.array([0, 0, 0, 1])\n",
    "    if character == \"i\":\n",
    "        return np.array([1, 0, 0, 0])\n",
    "def char_to_index(character):\n",
    "    if character == \"x\":\n",
    "        return 1\n",
    "    if character == \"y\":\n",
    "        return 2\n",
    "    if character == \"z\":\n",
    "        return 3\n",
    "    if character == \"i\":\n",
    "        return 0\n",
    "    \n",
    "def group_instructorss_by_qubits(nested_list, n):\n",
    "    grouped_data = []\n",
    "    for sublist in nested_list:\n",
    "        groups = {i: [] for i in range(n)}  # Create empty groups for all indices 0 to n\n",
    "        for item in sublist:\n",
    "            key = item[1]  # Second value in the tuple\n",
    "            groups[key].append(item)\n",
    "        grouped_data.append([groups[i] for i in range(n)])  # Append the lists in order\n",
    "    return grouped_data\n",
    "\n",
    "def mapper_noncx(character, instructors):\n",
    "    # Map a single Pauliword to list\n",
    "    # Example: xyy -> [0, 1, 0, 0][0,0,1,0][0,0,1,0] -- h --> [0, 0, 0, 1][0,0,-1,0][0,0,-1,0] = z(-y)(-y)\n",
    "    from numpy import sin, cos, sqrt\n",
    "    weights = char_to_weight(character)\n",
    "    for gate, index, param in instructors:\n",
    "        I, A, B, C = weights\n",
    "        if gate == \"h\":\n",
    "            weights = np.array([I, 0, 0, 1])\n",
    "        if gate == \"s\":\n",
    "            weights = np.array([I, 0, 1, 0])\n",
    "        if gate == \"t\":\n",
    "            weights = np.array([I, 1 / sqrt(2), 1 / sqrt(2), 0])\n",
    "        if gate == \"rx\":\n",
    "            weights = np.array([I, A, B * cos(param) - C * sin(param), B * sin(param) + C * cos(param)])\n",
    "        if gate == \"ry\":\n",
    "            weights = np.array([I, A * cos(param) + C * sin(param), B, C * cos(param) - A * sin(param)])\n",
    "        if gate == \"rz\":\n",
    "            weights = np.array([I, A * cos(param) - B * sin(param), B * cos(param) + A * sin(param), C])\n",
    "    return weights\n",
    "\n",
    "def construct_LUT_noncx(instructorsss, num_qubits):\n",
    "    # instructorss has size k x n x [?], with k is number of non-cx layer, n is number of qubits, \n",
    "    # ? is the number of instructor.\n",
    "    # lut has size k x n x 4 x 4, with 4 is the number of Pauliword, 4 for weights\n",
    "    k = len(instructorsss)\n",
    "    lut = np.zeros((k, num_qubits, 4, 4))\n",
    "    print(lut.shape)\n",
    "    characters = [\"i\", \"x\", \"y\", \"z\"]\n",
    "    for k in range(k):\n",
    "        for j in range(num_qubits):\n",
    "            for i in range(4):\n",
    "                lut[k][j][i] = mapper_noncx(characters[i], instructorsss[k][j])\n",
    "    return lut\n",
    "\n",
    "class Instructor:\n",
    "    def __init__(self, num_qubits):\n",
    "        self.clusters = []\n",
    "        self.cluster = []\n",
    "        self.cluster_temp = []\n",
    "        self.xcluster = []\n",
    "        self.xcluster_temp = []\n",
    "        self.xclusters = []\n",
    "        self.instructors = []\n",
    "        self.num_qubits = num_qubits\n",
    "        self.barriers = [0] * self.num_qubits\n",
    "        self.is_cx_first = False\n",
    "    def append(self, gate, index, param=0):\n",
    "        self.instructors.append((gate, index, param))\n",
    "\n",
    "    def clustering(self):\n",
    "        if self.instructors[0][0] == \"cx\":\n",
    "            self.is_cx_first = True\n",
    "        self.barriers = [0] * self.num_qubits\n",
    "        while len(self.instructors) > 0:\n",
    "            gate, index, _ = self.instructors[0]\n",
    "            \n",
    "            is_break = False\n",
    "            if gate == \"cx\":\n",
    "                self.barriers[index[0]] += 1\n",
    "                self.barriers[index[1]] += 1\n",
    "                if sum(self.barriers) >= self.num_qubits and np.all(self.barriers):\n",
    "                    if len(self.instructors) > 1:\n",
    "                        if self.instructors[1][0] != \"cx\":\n",
    "                            is_break = True\n",
    "\n",
    "                self.xcluster.append(self.instructors.pop(0))\n",
    "            else:\n",
    "                if self.barriers[index] == 0:\n",
    "                    self.cluster.append(self.instructors.pop(0))\n",
    "                else:\n",
    "                    self.cluster_temp.append(self.instructors.pop(0))\n",
    "            if is_break:\n",
    "                if len(self.cluster) > 0:\n",
    "                    self.clusters.append(self.cluster)\n",
    "                self.instructors =  self.cluster_temp + self.instructors\n",
    "                if len(self.xcluster) > 0:\n",
    "                    self.xclusters.append(self.xcluster)\n",
    "                self.cluster = []\n",
    "                self.cluster_temp = []\n",
    "                self.xcluster = []\n",
    "                self.barriers = [0] * self.num_qubits\n",
    "                is_break = False\n",
    "        if len(self.cluster) > 0:\n",
    "            self.clusters.append(self.cluster)\n",
    "        if len(self.cluster_temp) > 0:\n",
    "            self.clusters.append(self.cluster_temp)\n",
    "        if len(self.xcluster) > 0:\n",
    "            self.xclusters.append(self.xcluster)\n",
    "        return \n"
   ]
  },
  {
   "cell_type": "code",
   "execution_count": 135,
   "metadata": {},
   "outputs": [
    {
     "name": "stdout",
     "output_type": "stream",
     "text": [
      "2\n",
      "4\n",
      "(2, 4, 4, 4)\n"
     ]
    }
   ],
   "source": [
    "grouped_instructorss = group_instructorss_by_qubits(ins.clusters, ins.num_qubits)\n",
    "print(len(grouped_instructorss))\n",
    "print(len(grouped_instructorss[0]))\n",
    "LUT = construct_LUT_noncx(grouped_instructorss, ins.num_qubits)"
   ]
  },
  {
   "cell_type": "code",
   "execution_count": 136,
   "metadata": {},
   "outputs": [
    {
     "data": {
      "text/plain": [
       "array([[[[ 1.        ,  0.        ,  0.        ,  1.        ],\n",
       "         [ 0.        ,  0.        ,  0.        ,  1.        ],\n",
       "         [ 0.        ,  0.        ,  0.        ,  1.        ],\n",
       "         [ 0.        ,  0.        ,  0.        ,  1.        ]],\n",
       "\n",
       "        [[ 1.        ,  0.        ,  0.        ,  0.        ],\n",
       "         [ 0.        ,  1.        ,  0.        ,  0.        ],\n",
       "         [ 0.        ,  0.        ,  0.71091354,  0.70327942],\n",
       "         [ 0.        ,  0.        , -0.70327942,  0.71091354]],\n",
       "\n",
       "        [[ 1.        ,  0.        ,  0.        ,  1.        ],\n",
       "         [ 0.        ,  0.        ,  0.        ,  1.        ],\n",
       "         [ 0.        ,  0.        ,  0.        ,  1.        ],\n",
       "         [ 0.        ,  0.        ,  0.        ,  1.        ]],\n",
       "\n",
       "        [[ 1.        ,  0.        ,  0.        ,  1.        ],\n",
       "         [ 0.        ,  0.        ,  0.        ,  1.        ],\n",
       "         [ 0.        ,  0.        ,  0.        ,  1.        ],\n",
       "         [ 0.        ,  0.        ,  0.        ,  1.        ]]],\n",
       "\n",
       "\n",
       "       [[[ 1.        ,  0.        ,  0.        ,  1.        ],\n",
       "         [ 0.        ,  0.        ,  0.        ,  1.        ],\n",
       "         [ 0.        ,  0.        ,  0.        ,  1.        ],\n",
       "         [ 0.        ,  0.        ,  0.        ,  1.        ]],\n",
       "\n",
       "        [[ 1.        ,  0.        ,  0.        ,  1.        ],\n",
       "         [ 0.        ,  0.        ,  0.        ,  1.        ],\n",
       "         [ 0.        ,  0.        ,  0.        ,  1.        ],\n",
       "         [ 0.        ,  0.        ,  0.        ,  1.        ]],\n",
       "\n",
       "        [[ 1.        ,  0.        ,  0.        ,  1.        ],\n",
       "         [ 0.        ,  0.        ,  0.        ,  1.        ],\n",
       "         [ 0.        ,  0.        ,  0.        ,  1.        ],\n",
       "         [ 0.        ,  0.        ,  0.        ,  1.        ]],\n",
       "\n",
       "        [[ 1.        ,  0.        ,  0.        ,  0.        ],\n",
       "         [ 0.        ,  1.        ,  0.        ,  0.        ],\n",
       "         [ 0.        ,  0.        ,  1.        ,  0.        ],\n",
       "         [ 0.        ,  0.        ,  0.        ,  1.        ]]]])"
      ]
     },
     "execution_count": 136,
     "metadata": {},
     "output_type": "execute_result"
    }
   ],
   "source": [
    "LUT"
   ]
  },
  {
   "cell_type": "code",
   "execution_count": null,
   "metadata": {},
   "outputs": [],
   "source": []
  },
  {
   "cell_type": "code",
   "execution_count": 128,
   "metadata": {},
   "outputs": [],
   "source": [
    "\n",
    "ins = Instructor(4)\n",
    "ins.append(\"h\", 0)\n",
    "ins.append(\"rx\", 1, 0.78)\n",
    "ins.append(\"h\", 2)\n",
    "ins.append(\"h\", 0)\n",
    "ins.append(\"cx\", [0, 1])\n",
    "ins.append(\"h\", 2)\n",
    "ins.append(\"h\", 2)\n",
    "ins.append(\"ry\", 0, 0.56)\n",
    "ins.append(\"cx\", [1, 2])\n",
    "ins.append(\"h\", 1)\n",
    "ins.append(\"h\", 3)\n",
    "ins.append(\"h\", 3)\n",
    "ins.append(\"h\", 3)\n",
    "ins.append(\"h\", 3)\n",
    "ins.append(\"h\", 0)\n",
    "ins.append(\"h\", 1)\n",
    "ins.append(\"h\", 2)\n",
    "ins.append(\"h\", 3)\n",
    "ins.append(\"h\", 0)\n",
    "ins.append(\"h\", 2)\n",
    "ins.append(\"cx\", [1, 3])\n",
    "ins.clustering()"
   ]
  },
  {
   "cell_type": "code",
   "execution_count": 91,
   "metadata": {},
   "outputs": [
    {
     "data": {
      "text/plain": [
       "[[('h', 0, 0),\n",
       "  ('h', 1, 0),\n",
       "  ('h', 2, 0),\n",
       "  ('h', 0, 0),\n",
       "  ('h', 2, 0),\n",
       "  ('h', 2, 0),\n",
       "  ('h', 3, 0),\n",
       "  ('h', 3, 0),\n",
       "  ('h', 3, 0),\n",
       "  ('h', 3, 0),\n",
       "  ('h', 3, 0)],\n",
       " [('h', 0, 0),\n",
       "  ('h', 1, 0),\n",
       "  ('h', 0, 0),\n",
       "  ('h', 1, 0),\n",
       "  ('h', 2, 0),\n",
       "  ('h', 0, 0),\n",
       "  ('h', 2, 0)]]"
      ]
     },
     "execution_count": 91,
     "metadata": {},
     "output_type": "execute_result"
    }
   ],
   "source": [
    "ins.clusters"
   ]
  },
  {
   "cell_type": "code",
   "execution_count": 69,
   "metadata": {},
   "outputs": [
    {
     "data": {
      "text/plain": [
       "[[['cx', [0, 1], 0], ['cx', [1, 2], 0], ['cx', [1, 3], 0]]]"
      ]
     },
     "execution_count": 69,
     "metadata": {},
     "output_type": "execute_result"
    }
   ],
   "source": [
    "ins.xclusters"
   ]
  },
  {
   "cell_type": "code",
   "execution_count": 80,
   "metadata": {},
   "outputs": [],
   "source": [
    "num_qubits = 3\n",
    "ins = Instructor(num_qubits)\n",
    "for i in range(num_qubits - 1):\n",
    "    ins.append('cx', [i, i + 1])\n",
    "ins.append('cx', [num_qubits - 1, 0])\n",
    "for i in range(num_qubits):\n",
    "    ins.append('h', i)\n",
    "for i in range(num_qubits - 1):\n",
    "    ins.append('cx', [i, i + 1])\n",
    "ins.append('cx', [num_qubits - 1, 0])\n",
    "for i in range(num_qubits):\n",
    "    ins.append('h', i)\n",
    "ins.clustering()"
   ]
  },
  {
   "cell_type": "code",
   "execution_count": 81,
   "metadata": {},
   "outputs": [
    {
     "data": {
      "text/plain": [
       "[[['h', 0, 0], ['h', 1, 0], ['h', 2, 0]],\n",
       " [['h', 0, 0], ['h', 1, 0], ['h', 2, 0]]]"
      ]
     },
     "execution_count": 81,
     "metadata": {},
     "output_type": "execute_result"
    }
   ],
   "source": [
    "ins.clusters"
   ]
  },
  {
   "cell_type": "code",
   "execution_count": 72,
   "metadata": {},
   "outputs": [
    {
     "data": {
      "text/plain": [
       "[[['cx', [0, 1], 0], ['cx', [1, 2], 0], ['cx', [2, 0], 0]],\n",
       " [['cx', [0, 1], 0], ['cx', [1, 2], 0], ['cx', [2, 0], 0]]]"
      ]
     },
     "execution_count": 72,
     "metadata": {},
     "output_type": "execute_result"
    }
   ],
   "source": [
    "ins.xclusters"
   ]
  }
 ],
 "metadata": {
  "kernelspec": {
   "display_name": "Python 3",
   "language": "python",
   "name": "python3"
  },
  "language_info": {
   "codemirror_mode": {
    "name": "ipython",
    "version": 3
   },
   "file_extension": ".py",
   "mimetype": "text/x-python",
   "name": "python",
   "nbconvert_exporter": "python",
   "pygments_lexer": "ipython3",
   "version": "3.11.5"
  }
 },
 "nbformat": 4,
 "nbformat_minor": 2
}
