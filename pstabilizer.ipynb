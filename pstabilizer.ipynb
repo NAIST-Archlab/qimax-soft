{
 "cells": [
  {
   "cell_type": "code",
   "execution_count": 106,
   "metadata": {},
   "outputs": [
    {
     "name": "stdout",
     "output_type": "stream",
     "text": [
      "The autoreload extension is already loaded. To reload it, use:\n",
      "  %reload_ext autoreload\n"
     ]
    }
   ],
   "source": [
    "from jax.experimental import sparse\n",
    "import jax.numpy as jnp\n",
    "import numpy as np\n",
    "from sojo.pstabilizer import group_instructorss_by_qubits, Instructor\n",
    "from sojo.pstabilizer import weightss_to_lambda, instructor_to_lut\n",
    "from sojo.utils import word_to_index, char_to_index, index_to_word, create_word_zj\n",
    "%load_ext autoreload\n",
    "%autoreload 2"
   ]
  },
  {
   "cell_type": "code",
   "execution_count": 112,
   "metadata": {},
   "outputs": [],
   "source": [
    "def map_noncx(indices: np.ndarray, lambdas: np.ndarray, num_qubits: int, k: int):\n",
    "\t\"\"\"Given a list of indices and lambdas, return the indices and lambdas of the non-cx gates.\n",
    "\tExample:\n",
    "\t\tInitial: 1*IZ => indices = [3], lambdas = [1]\n",
    "\t\tAnother: 2*XZ + 3*YY => indices = [7, 10], lambdas = [2, 3]\n",
    "\tArgs:\n",
    "\t\tindices (np.ndarray)\n",
    "\t\tlambdas (np.ndarray)\n",
    "\t\tnum_qubits (int)\n",
    "\t\tk: index of the operator\n",
    "\tReturns:\n",
    "\t\tnp.ndarray, np.ndarray: mapped indices and lambdas\n",
    "\t\"\"\"\n",
    "\tweightss = []\n",
    "\tfor index in indices:\n",
    "\t\tweights = []\n",
    "\t\tword = index_to_word(index, num_qubits)\n",
    "\t\tfor j, char in enumerate(word):\n",
    "\t\t\ti_in_lut = char_to_index(char) - 1\n",
    "\t\t\tif i_in_lut == -1:\n",
    "\t\t\t\tweights.append([1,0,0,0])\n",
    "\t\t\telse: \n",
    "\t\t\t\tweights.append(LUT[k][j][i_in_lut])\n",
    "\t\tweightss.append(weights)\n",
    "\t# Weightss's now a 4-d tensor\n",
    "\tweightss = np.array(weightss)\n",
    "\t# Flattening the weightss into new lambdas, => Can be process effeciently on hardware\n",
    "\tlambdas = weightss_to_lambda(weightss, lambdas)\n",
    "\t# For most of the cases, lambdas will be sparse\n",
    "\t# In the worst case, it will be full dense,\n",
    "\t# and the below lines would be useless.\n",
    "\tindices = np.nonzero(lambdas)[0]\n",
    "\tlambdas = np.array(lambdas)[indices]\n",
    "\treturn indices, lambdas\n",
    "\n",
    "def map_cx(indices: np.ndarray, lambdas: np.ndarray, cxs: np.ndarray, num_qubits: int):\n",
    "\t\"\"\"Mapping multple CX gates on a given indices and lambdas\n",
    "\n",
    "\tArgs:\n",
    "\t\tindices (np.ndarray): Words after converting to integers\n",
    "\t\tlambdas (np.ndarray): Corresponding lambdas\n",
    "\t\tcxs (np.ndarray): List of [control, target] pairs from k^th CX-operator\n",
    "\t\tnum_qubits (int)\n",
    "\n",
    "\tReturns:\n",
    "\t\tindices, lambdas\n",
    "\t\"\"\"\n",
    "\tfor control, target in cxs:\n",
    "\t\tdf = pl.read_csv(f'./sojo/db/{num_qubits}_{control}_{target}_cx.csv')\n",
    "\t\tselected_rows = df[indices]['out'].to_numpy()\n",
    "\t\tindices = np.abs(selected_rows)\n",
    "\t\tlambdas[np.where(selected_rows < 0)[0]] *= -1\n",
    "\treturn indices, lambdas"
   ]
  },
  {
   "cell_type": "code",
   "execution_count": 159,
   "metadata": {},
   "outputs": [],
   "source": [
    "ins = Instructor(4)\n",
    "ins.append(\"h\", 0)\n",
    "ins.append(\"rx\", 1, 0.78)\n",
    "ins.append(\"h\", 2)\n",
    "ins.append(\"h\", 0)\n",
    "ins.append(\"cx\", [0, 1])\n",
    "ins.append(\"h\", 2)\n",
    "ins.append(\"h\", 2)\n",
    "ins.append(\"ry\", 0, 0.56)\n",
    "ins.append(\"cx\", [1, 2])\n",
    "ins.append(\"h\", 1)\n",
    "ins.append(\"h\", 3)\n",
    "ins.append(\"h\", 3)\n",
    "ins.append(\"h\", 3)\n",
    "ins.append(\"h\", 3)\n",
    "ins.append(\"h\", 0)\n",
    "ins.append(\"h\", 1)\n",
    "ins.append(\"h\", 2)\n",
    "ins.append(\"h\", 3)\n",
    "ins.append(\"h\", 0)\n",
    "ins.append(\"h\", 2)\n",
    "ins.append(\"cx\", [1, 3])\n",
    "ins.operatoring()"
   ]
  },
  {
   "cell_type": "code",
   "execution_count": 157,
   "metadata": {},
   "outputs": [],
   "source": [
    "num_qubits = 3\n",
    "ins = Instructor(num_qubits)\n",
    "for k in range(5):\n",
    "\tfor i in range(num_qubits - 1):\n",
    "\t\tins.append('cx', [i, i + 1])\n",
    "\tins.append('cx', [num_qubits - 1, 0])\n",
    "\tfor i in range(num_qubits):\n",
    "\t\tins.append('rx', i, np.random.rand())\n",
    "\t\tins.append('ry', i, np.random.rand())\n",
    "\t\tins.append('rz', i, np.random.rand())\n",
    "\n",
    "ins.operatoring()"
   ]
  },
  {
   "cell_type": "code",
   "execution_count": 160,
   "metadata": {},
   "outputs": [
    {
     "data": {
      "text/plain": [
       "[0, 1, 0]"
      ]
     },
     "execution_count": 160,
     "metadata": {},
     "output_type": "execute_result"
    }
   ],
   "source": [
    "ins.orders"
   ]
  },
  {
   "cell_type": "code",
   "execution_count": 161,
   "metadata": {},
   "outputs": [
    {
     "name": "stdout",
     "output_type": "stream",
     "text": [
      "(2, 4, 3, 4)\n"
     ]
    },
    {
     "data": {
      "text/plain": [
       "array([[[ 0.        ,  1.        ,  0.        ,  0.        ],\n",
       "        [ 0.        ,  0.        ,  1.        ,  0.        ],\n",
       "        [ 0.        ,  0.        ,  0.        ,  1.        ]],\n",
       "\n",
       "       [[ 0.        ,  1.        ,  0.        ,  0.        ],\n",
       "        [ 0.        ,  0.        ,  0.71091354,  0.70327942],\n",
       "        [ 0.        ,  0.        , -0.70327942,  0.71091354]],\n",
       "\n",
       "       [[ 0.        ,  0.        ,  0.        ,  1.        ],\n",
       "        [ 0.        ,  0.        , -1.        ,  0.        ],\n",
       "        [ 0.        ,  1.        ,  0.        ,  0.        ]],\n",
       "\n",
       "       [[ 0.        ,  0.        ,  0.        ,  1.        ],\n",
       "        [ 0.        ,  0.        , -1.        ,  0.        ],\n",
       "        [ 0.        ,  1.        ,  0.        ,  0.        ]]])"
      ]
     },
     "execution_count": 161,
     "metadata": {},
     "output_type": "execute_result"
    }
   ],
   "source": [
    "LUT = instructor_to_lut(ins)\n",
    "LUT[0]"
   ]
  },
  {
   "cell_type": "code",
   "execution_count": null,
   "metadata": {},
   "outputs": [
    {
     "name": "stdout",
     "output_type": "stream",
     "text": [
      "False\n"
     ]
    },
    {
     "ename": "IndexError",
     "evalue": "list index out of range",
     "output_type": "error",
     "traceback": [
      "\u001b[1;31m---------------------------------------------------------------------------\u001b[0m",
      "\u001b[1;31mIndexError\u001b[0m                                Traceback (most recent call last)",
      "Cell \u001b[1;32mIn[128], line 12\u001b[0m\n\u001b[0;32m     10\u001b[0m     \u001b[38;5;28;01mfor\u001b[39;00m k_index \u001b[38;5;129;01min\u001b[39;00m \u001b[38;5;28mrange\u001b[39m(k):\n\u001b[0;32m     11\u001b[0m         indices, lambdas \u001b[38;5;241m=\u001b[39m map_noncx(indices, lambdas, num_qubits, k_index)\n\u001b[1;32m---> 12\u001b[0m         indices, lambdas \u001b[38;5;241m=\u001b[39m map_cx(indices, lambdas, \u001b[43mins\u001b[49m\u001b[38;5;241;43m.\u001b[39;49m\u001b[43mxoperators\u001b[49m\u001b[43m[\u001b[49m\u001b[43mk_index\u001b[49m\u001b[43m]\u001b[49m, num_qubits)\n\u001b[0;32m     13\u001b[0m \u001b[38;5;28mprint\u001b[39m(indices, lambdas)\n",
      "\u001b[1;31mIndexError\u001b[0m: list index out of range"
     ]
    }
   ],
   "source": [
    "\n",
    "num_qubits = 4\n",
    "lambdas = np.array([1])\n",
    "indices = np.array([word_to_index(create_word_zj(0, num_qubits))])\n",
    "print(ins.is_cx_first)\n",
    "for order in ins.orders:\n",
    "\tif order == 0:\n",
    "\t\tindices, lambdas = map_cx(indices, lambdas, ins.xoperators[k_index], num_qubits)\n",
    "\telse:\n",
    "     \tindices, lambdas = map_noncx(indices, lambdas, num_qubits, k_index)\n"
   ]
  },
  {
   "cell_type": "code",
   "execution_count": 149,
   "metadata": {},
   "outputs": [
    {
     "name": "stdout",
     "output_type": "stream",
     "text": [
      "[0, 1, 0, 1, 0, 1, 0, 1, 0]\n"
     ]
    }
   ],
   "source": [
    "\n",
    "\n",
    "# Example usage:\n",
    "n = 5\n",
    "m = 4\n",
    "is_0_first = True\n",
    "print(create_alternating_array(n, m, is_0_first))  # Output: [0, 1, 0, 1, 0, 1, 0, 1]\n"
   ]
  },
  {
   "cell_type": "code",
   "execution_count": 102,
   "metadata": {},
   "outputs": [
    {
     "name": "stdout",
     "output_type": "stream",
     "text": [
      "[4, 13]\n",
      "[1, 1]\n"
     ]
    }
   ],
   "source": [
    "print(indices)\n",
    "print(lambdas)"
   ]
  },
  {
   "cell_type": "code",
   "execution_count": 103,
   "metadata": {},
   "outputs": [
    {
     "data": {
      "text/plain": [
       "(array([63,  1, 54, 21], dtype=int64), array([1, 2, 3, 4]))"
      ]
     },
     "execution_count": 103,
     "metadata": {},
     "output_type": "execute_result"
    }
   ],
   "source": [
    "import polars as pl\n",
    "\n",
    "\n",
    "\n",
    "map_cx(np.array([3, 1, 27, 5]), np.array([1,2,3,4]), [[0, 2], [1, 0]], 3)"
   ]
  },
  {
   "cell_type": "code",
   "execution_count": null,
   "metadata": {},
   "outputs": [],
   "source": []
  }
 ],
 "metadata": {
  "kernelspec": {
   "display_name": "Python 3",
   "language": "python",
   "name": "python3"
  },
  "language_info": {
   "codemirror_mode": {
    "name": "ipython",
    "version": 3
   },
   "file_extension": ".py",
   "mimetype": "text/x-python",
   "name": "python",
   "nbconvert_exporter": "python",
   "pygments_lexer": "ipython3",
   "version": "3.10.11"
  }
 },
 "nbformat": 4,
 "nbformat_minor": 2
}
