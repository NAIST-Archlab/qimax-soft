{
 "cells": [
  {
   "cell_type": "code",
   "execution_count": 1,
   "metadata": {},
   "outputs": [],
   "source": [
    "from jax.experimental import sparse\n",
    "import jax.numpy as jnp\n",
    "import numpy as np\n",
    "from sojo.pstabilizer import group_instructorss_by_qubits, char_to_index, Instructor\n",
    "from sojo.pstabilizer import weightss_to_lambda, word_to_index, generate_pauli_combination, instructor_to_lut, index_to_word\n",
    "%load_ext autoreload\n",
    "%autoreload 2"
   ]
  },
  {
   "cell_type": "code",
   "execution_count": 2,
   "metadata": {},
   "outputs": [],
   "source": [
    "ins = Instructor(4)\n",
    "ins.append(\"h\", 0)\n",
    "ins.append(\"rx\", 1, 0.78)\n",
    "ins.append(\"h\", 2)\n",
    "ins.append(\"h\", 0)\n",
    "ins.append(\"cx\", [0, 1])\n",
    "ins.append(\"h\", 2)\n",
    "ins.append(\"h\", 2)\n",
    "ins.append(\"ry\", 0, 0.56)\n",
    "ins.append(\"cx\", [1, 2])\n",
    "ins.append(\"h\", 1)\n",
    "ins.append(\"h\", 3)\n",
    "ins.append(\"h\", 3)\n",
    "ins.append(\"h\", 3)\n",
    "ins.append(\"h\", 3)\n",
    "ins.append(\"h\", 0)\n",
    "ins.append(\"h\", 1)\n",
    "ins.append(\"h\", 2)\n",
    "ins.append(\"h\", 3)\n",
    "ins.append(\"h\", 0)\n",
    "ins.append(\"h\", 2)\n",
    "ins.append(\"cx\", [1, 3])\n",
    "ins.clustering()"
   ]
  },
  {
   "cell_type": "code",
   "execution_count": 3,
   "metadata": {},
   "outputs": [],
   "source": [
    "num_qubits = 3\n",
    "ins = Instructor(num_qubits)\n",
    "for k in range(5):\n",
    "\tfor i in range(num_qubits - 1):\n",
    "\t\tins.append('cx', [i, i + 1])\n",
    "\tins.append('cx', [num_qubits - 1, 0])\n",
    "\tfor i in range(num_qubits):\n",
    "\t\tins.append('rx', i, np.random.rand())\n",
    "\t\tins.append('ry', i, np.random.rand())\n",
    "\t\tins.append('rz', i, np.random.rand())\n",
    "\n",
    "ins.clustering()"
   ]
  },
  {
   "cell_type": "code",
   "execution_count": 4,
   "metadata": {},
   "outputs": [
    {
     "name": "stdout",
     "output_type": "stream",
     "text": [
      "(5, 3, 4, 4)\n"
     ]
    }
   ],
   "source": [
    "LUT = instructor_to_lut(ins)"
   ]
  },
  {
   "cell_type": "code",
   "execution_count": 5,
   "metadata": {},
   "outputs": [],
   "source": [
    "num_qubits = 3\n",
    "term = ['zii']\n",
    "k = 0\n",
    "# Init\n",
    "# 2**n is th\n",
    "lambdas = np.ones(4**num_qubits)\n",
    "\n",
    "weightss = []\n",
    "for w, word in enumerate(term):\n",
    "    weights = []\n",
    "    for j, char in enumerate(word):\n",
    "        index = char_to_index(char)\n",
    "        weights.append(LUT[k][j][index])\n",
    "    weightss.append(weights)\n",
    "weightss = np.array(weightss)\n",
    "lambdas = weightss_to_lambda(weightss, lambdas)"
   ]
  },
  {
   "cell_type": "code",
   "execution_count": 6,
   "metadata": {},
   "outputs": [
    {
     "name": "stdout",
     "output_type": "stream",
     "text": [
      "(array([ 4,  8, 12], dtype=int64),)\n",
      "[0.33449906 0.08756264 0.93831933]\n"
     ]
    }
   ],
   "source": [
    "non_zero_indices = np.nonzero(lambdas)\n",
    "non_zero_values = np.array(lambdas)[non_zero_indices]\n",
    "non_zero_indices, non_zero_values\n",
    "print(non_zero_indices)\n",
    "print(non_zero_values)"
   ]
  },
  {
   "cell_type": "code",
   "execution_count": 18,
   "metadata": {},
   "outputs": [],
   "source": [
    "import pandas as pd\n",
    "\n",
    "\n",
    "def map_cx(index, control, target, num_qubits):  \n",
    "    word = list(index_to_word(index, num_qubits))\n",
    "    char_control = word[control]\n",
    "    char_target = word[target]\n",
    "    lambdas = 1\n",
    "    if char_control == 'i':\n",
    "        if char_target == 'y':\n",
    "            word[control] = 'z'\n",
    "            word[target] = 'y'\n",
    "        elif char_target == 'z':\n",
    "            word[control] = 'z'\n",
    "            word[target] = 'z'\n",
    "    elif char_control == 'x':\n",
    "        if char_target == 'i':\n",
    "            word[control] = 'x'\n",
    "            word[target] = 'x'\n",
    "        elif char_target == 'x':\n",
    "            word[control] = 'x'\n",
    "            word[target] = 'i'\n",
    "        elif char_target == 'y':\n",
    "            word[control] = 'y'\n",
    "            word[target] = 'z'\n",
    "        elif char_target == 'z':\n",
    "            lambdas = -1\n",
    "            word[control] = 'y'\n",
    "            word[target] = 'y'\n",
    "    elif char_control == 'y':\n",
    "        if char_target == 'i':\n",
    "            word[control] = 'y'\n",
    "            word[target] = 'x'\n",
    "        elif char_target == 'x':\n",
    "            word[control] = 'y'\n",
    "            word[target] = 'y'\n",
    "        elif char_target == 'y':\n",
    "            word[control] = 'x'\n",
    "            word[target] = 'z'\n",
    "            lambdas = -1\n",
    "        elif char_target == 'z':\n",
    "            word[control] = 'x'\n",
    "            word[target] = 'y'\n",
    "    elif char_control == 'z':\n",
    "        if char_target == 'y':\n",
    "            word[control] = 'i'\n",
    "            word[target] = 'y'\n",
    "        elif char_target == 'z':\n",
    "            word[control] = 'i'\n",
    "            word[target] = 'z'\n",
    "    return word_to_index(word)*lambdas\n",
    "import pandas as pd\n",
    "num_qubits = 9\n",
    "\n",
    "for control in range(num_qubits):\n",
    "    for target in range(num_qubits):\n",
    "        if control == target:\n",
    "            continue\n",
    "        else:\n",
    "            ins, outs = [], []\n",
    "            for index in range(4**num_qubits):\n",
    "                ins.append(index)\n",
    "                outs.append(map_cx(index, control, target, num_qubits))\n",
    "            df = pd.DataFrame({'in': ins, 'out': outs})\n",
    "            df.to_csv(f'./sojo/db/{num_qubits}_{control}_{target}_cx.csv', index=False)"
   ]
  },
  {
   "cell_type": "code",
   "execution_count": 8,
   "metadata": {},
   "outputs": [
    {
     "name": "stdout",
     "output_type": "stream",
     "text": [
      "[[0, 1], [0, 2], [0, 3], [1, 0], [1, 2], [1, 3], [2, 0], [2, 1], [2, 3], [3, 0], [3, 1], [3, 2]]\n"
     ]
    }
   ],
   "source": [
    "\n",
    "num_qubits = 4\n",
    "indices = []\n",
    "for control in range(num_qubits):\n",
    "    for target in range(num_qubits):\n",
    "        if control == target:\n",
    "            continue\n",
    "        else:\n",
    "            indices.append([control, target])\n",
    "print(indices)"
   ]
  }
 ],
 "metadata": {
  "kernelspec": {
   "display_name": "Python 3",
   "language": "python",
   "name": "python3"
  },
  "language_info": {
   "codemirror_mode": {
    "name": "ipython",
    "version": 3
   },
   "file_extension": ".py",
   "mimetype": "text/x-python",
   "name": "python",
   "nbconvert_exporter": "python",
   "pygments_lexer": "ipython3",
   "version": "3.10.11"
  }
 },
 "nbformat": 4,
 "nbformat_minor": 2
}
