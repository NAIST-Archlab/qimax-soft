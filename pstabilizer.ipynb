{
 "cells": [
  {
   "cell_type": "code",
   "execution_count": 75,
   "metadata": {},
   "outputs": [
    {
     "name": "stdout",
     "output_type": "stream",
     "text": [
      "The autoreload extension is already loaded. To reload it, use:\n",
      "  %reload_ext autoreload\n"
     ]
    }
   ],
   "source": [
    "from jax.experimental import sparse\n",
    "import jax.numpy as jnp\n",
    "import numpy as np\n",
    "from sojo.pstabilizer import group_instructorss_by_qubits, Instructor\n",
    "from sojo.pstabilizer import weightss_to_lambda, instructor_to_lut\n",
    "from sojo.utils import word_to_index, char_to_index, index_to_word\n",
    "%load_ext autoreload\n",
    "%autoreload 2"
   ]
  },
  {
   "cell_type": "code",
   "execution_count": 76,
   "metadata": {},
   "outputs": [],
   "source": [
    "ins = Instructor(4)\n",
    "ins.append(\"h\", 0)\n",
    "ins.append(\"rx\", 1, 0.78)\n",
    "ins.append(\"h\", 2)\n",
    "ins.append(\"h\", 0)\n",
    "ins.append(\"cx\", [0, 1])\n",
    "ins.append(\"h\", 2)\n",
    "ins.append(\"h\", 2)\n",
    "ins.append(\"ry\", 0, 0.56)\n",
    "ins.append(\"cx\", [1, 2])\n",
    "ins.append(\"h\", 1)\n",
    "ins.append(\"h\", 3)\n",
    "ins.append(\"h\", 3)\n",
    "ins.append(\"h\", 3)\n",
    "ins.append(\"h\", 3)\n",
    "ins.append(\"h\", 0)\n",
    "ins.append(\"h\", 1)\n",
    "ins.append(\"h\", 2)\n",
    "ins.append(\"h\", 3)\n",
    "ins.append(\"h\", 0)\n",
    "ins.append(\"h\", 2)\n",
    "ins.append(\"cx\", [1, 3])\n",
    "ins.clustering()"
   ]
  },
  {
   "cell_type": "code",
   "execution_count": 83,
   "metadata": {},
   "outputs": [],
   "source": [
    "num_qubits = 3\n",
    "ins = Instructor(num_qubits)\n",
    "for k in range(5):\n",
    "\tfor i in range(num_qubits - 1):\n",
    "\t\tins.append('cx', [i, i + 1])\n",
    "\tins.append('cx', [num_qubits - 1, 0])\n",
    "\tfor i in range(num_qubits):\n",
    "\t\tins.append('rx', i, np.random.rand())\n",
    "\t\tins.append('ry', i, np.random.rand())\n",
    "\t\tins.append('rz', i, np.random.rand())\n",
    "\n",
    "ins.clustering()"
   ]
  },
  {
   "cell_type": "code",
   "execution_count": 78,
   "metadata": {},
   "outputs": [
    {
     "data": {
      "text/plain": [
       "[[[0, 1], [1, 2], [2, 0]],\n",
       " [[0, 1], [1, 2], [2, 0]],\n",
       " [[0, 1], [1, 2], [2, 0]],\n",
       " [[0, 1], [1, 2], [2, 0]],\n",
       " [[0, 1], [1, 2], [2, 0]]]"
      ]
     },
     "execution_count": 78,
     "metadata": {},
     "output_type": "execute_result"
    }
   ],
   "source": [
    "(ins.xclusters)"
   ]
  },
  {
   "cell_type": "code",
   "execution_count": 84,
   "metadata": {},
   "outputs": [
    {
     "name": "stdout",
     "output_type": "stream",
     "text": [
      "(5, 3, 3, 4)\n"
     ]
    }
   ],
   "source": [
    "LUT = instructor_to_lut(ins)"
   ]
  },
  {
   "cell_type": "code",
   "execution_count": 92,
   "metadata": {},
   "outputs": [
    {
     "name": "stdout",
     "output_type": "stream",
     "text": [
      "[ 0.          0.62021043  0.09762136 -0.77833739  0.          0.\n",
      "  0.          0.          0.          0.          0.          0.\n",
      "  0.          0.          0.          0.          0.82559634  0.\n",
      "  0.          0.          0.          0.          0.          0.\n",
      "  0.          0.          0.          0.          0.          0.\n",
      "  0.          0.         -0.06766809  0.          0.          0.\n",
      "  0.          0.          0.          0.          0.          0.\n",
      "  0.          0.          0.          0.          0.          0.\n",
      "  0.56018899  0.          0.          0.          0.          0.\n",
      "  0.          0.          0.          0.          0.          0.\n",
      "  0.          0.          0.          0.        ]\n"
     ]
    }
   ],
   "source": [
    "num_qubits = 3\n",
    "term = ['zii', 'ixx']\n",
    "k = 0\n",
    "# Init\n",
    "# 2**n is th\n",
    "\n",
    "lambdas = [1, 1]\n",
    "indices = [4, 3]\n",
    "weightss = []\n",
    "for index in indices:\n",
    "    weights = []\n",
    "    word = index_to_word(index, num_qubits)\n",
    "    for j, char in enumerate(word):\n",
    "        i_in_lut = char_to_index(char) - 1\n",
    "        if i_in_lut == -1:\n",
    "            weights.append([1,0,0,0])\n",
    "        else: \n",
    "            weights.append(LUT[k][j][i_in_lut])\n",
    "    weightss.append(weights)\n",
    "weightss = np.array(weightss)\n",
    "np.save('./test_weight_to_lambdas/weight_1.npy', weightss)\n",
    "np.save('./test_weight_to_lambdas/lambdas_1.npy', lambdas)\n",
    "lambdas = weightss_to_lambda(weightss, lambdas)\n",
    "np.save('./test_weight_to_lambdas/output_1.npy', lambdas)\n",
    "print(lambdas)\n",
    "indices = np.nonzero(lambdas)[0]\n",
    "lambdas = np.array(lambdas)[indices]"
   ]
  },
  {
   "cell_type": "code",
   "execution_count": 81,
   "metadata": {},
   "outputs": [
    {
     "name": "stdout",
     "output_type": "stream",
     "text": [
      "[21 22 23 25 26 27 29 30 31 37 38 39 41 42 43 45 46 47 53 54 55 57 58 59\n",
      " 61 62 63]\n",
      "[ 0.15878178 -1.10006246 -0.35056599  0.04976422  1.13451404  0.67093598\n",
      " -0.04101927  0.58196531  0.24773958 -0.09730854 -0.32850662 -0.31439582\n",
      " -0.1288524   0.4929354   0.073476    0.00533981  0.20481789  0.11584584\n",
      "  0.40673739 -0.03582383  0.5704583   0.40038045 -0.39074691  0.37390906\n",
      " -0.05014041 -0.06714194 -0.10809335]\n"
     ]
    }
   ],
   "source": [
    "print(indices)\n",
    "print(lambdas)"
   ]
  },
  {
   "cell_type": "code",
   "execution_count": 82,
   "metadata": {},
   "outputs": [
    {
     "data": {
      "text/plain": [
       "(array([63,  1, 54, 21], dtype=int64), array([1, 2, 3, 4]))"
      ]
     },
     "execution_count": 82,
     "metadata": {},
     "output_type": "execute_result"
    }
   ],
   "source": [
    "import polars as pl\n",
    "\n",
    "def map_cx(indices: np.ndarray, lambdas: np.ndarray, cxs: np.ndarray, num_qubits: int):\n",
    "\t\"\"\"Mapping multple CX gates on a given indices and lambdas\n",
    "\n",
    "\tArgs:\n",
    "\t\tindices (np.ndarray): Words after converting to integers\n",
    "\t\tlambdas (np.ndarray): Corresponding lambdas\n",
    "\t\tcxs (np.ndarray): List of [control, target] pairs\n",
    "\t\tnum_qubits (int)\n",
    "\n",
    "\tReturns:\n",
    "\t\tindices, lambdas\n",
    "\t\"\"\"\n",
    "\tfor control, target in cxs:\n",
    "\t\tdf = pl.read_csv(f'./sojo/db/{num_qubits}_{control}_{target}_cx.csv')\n",
    "\t\tselected_rows = df[indices]['out'].to_numpy()\n",
    "\t\tindices = np.abs(selected_rows)\n",
    "\t\tlambdas[np.where(selected_rows < 0)[0]] *= -1\n",
    "\treturn indices, lambdas\n",
    "\n",
    "map_cx(np.array([3, 1, 27, 5]), np.array([1,2,3,4]), [[0, 2], [1, 0]], 3)"
   ]
  },
  {
   "cell_type": "code",
   "execution_count": null,
   "metadata": {},
   "outputs": [],
   "source": []
  }
 ],
 "metadata": {
  "kernelspec": {
   "display_name": "Python 3",
   "language": "python",
   "name": "python3"
  },
  "language_info": {
   "codemirror_mode": {
    "name": "ipython",
    "version": 3
   },
   "file_extension": ".py",
   "mimetype": "text/x-python",
   "name": "python",
   "nbconvert_exporter": "python",
   "pygments_lexer": "ipython3",
   "version": "3.10.11"
  }
 },
 "nbformat": 4,
 "nbformat_minor": 2
}
