{
 "cells": [
  {
   "cell_type": "code",
   "execution_count": 3,
   "metadata": {},
   "outputs": [
    {
     "name": "stdout",
     "output_type": "stream",
     "text": [
      "[-0.183]*yi + [0.9659]*zi + [0.183]*xi\n",
      "[0.5]*iz + [-0.866]*iy\n",
      "[[ 0.74+0.j    0.  +0.43j  0.07+0.07j -0.04+0.04j]\n",
      " [ 0.  -0.43j  0.25+0.j    0.04-0.04j  0.02+0.02j]\n",
      " [ 0.07-0.07j  0.04+0.04j  0.01+0.j    0.  +0.01j]\n",
      " [-0.04-0.04j  0.02-0.02j  0.  -0.01j  0.  +0.j  ]]\n"
     ]
    }
   ],
   "source": [
    "from sojo.stabilizer import StabilizerGenerator, PauliTerm, PauliWord\n",
    "import numpy as np\n",
    "\n",
    "# Same as qiskit\n",
    "stb = StabilizerGenerator(2)\n",
    "stb.ry(np.pi/3, 0)\n",
    "stb.rx(np.pi/2, 0)\n",
    "stb.cx([0,1])\n",
    "stb.t(0)\n",
    "stb.cx([0,1])\n",
    "stb.h(0)\n",
    "stb.rz(np.pi/4, 0)\n",
    "stb.rx(np.pi/3, 1)\n",
    "for s in (stb.stabilizers):\n",
    "    print(s)\n",
    "# stb.generate_p()\n",
    "# for p in (stb.ps):\n",
    "#     print(p)\n",
    "stb_density_matrix = stb.generate_density_matrix_by_generator_naive()\n",
    "print(np.round(stb_density_matrix,2))"
   ]
  },
  {
   "cell_type": "code",
   "execution_count": 6,
   "metadata": {},
   "outputs": [
    {
     "ename": "TypeError",
     "evalue": "Cannot interpret value of type <class 'sojo.stabilizer.PauliTerm'> as an abstract array; it does not have a dtype attribute",
     "output_type": "error",
     "traceback": [
      "\u001b[0;31m---------------------------------------------------------------------------\u001b[0m",
      "\u001b[0;31mTypeError\u001b[0m                                 Traceback (most recent call last)",
      "Cell \u001b[0;32mIn[6], line 1\u001b[0m\n\u001b[0;32m----> 1\u001b[0m stb_density_matrix \u001b[38;5;241m=\u001b[39m \u001b[43mstb\u001b[49m\u001b[38;5;241;43m.\u001b[39;49m\u001b[43mgenerate_density_matrix_by_generator_jax\u001b[49m\u001b[43m(\u001b[49m\u001b[43m)\u001b[49m\n\u001b[1;32m      2\u001b[0m \u001b[38;5;28mprint\u001b[39m(np\u001b[38;5;241m.\u001b[39mround(stb_density_matrix,\u001b[38;5;241m2\u001b[39m))\n",
      "File \u001b[0;32m~/Documents/GitHub/Quojo/sojo/stabilizer.py:330\u001b[0m, in \u001b[0;36mStabilizerGenerator.generate_density_matrix_by_generator_jax\u001b[0;34m(self)\u001b[0m\n\u001b[1;32m    329\u001b[0m \u001b[38;5;28;01mdef\u001b[39;00m \u001b[38;5;21mgenerate_density_matrix_by_generator_jax\u001b[39m(\u001b[38;5;28mself\u001b[39m):\n\u001b[0;32m--> 330\u001b[0m     density_matrix \u001b[38;5;241m=\u001b[39m \u001b[38;5;28;43mself\u001b[39;49m\u001b[38;5;241;43m.\u001b[39;49m\u001b[43mstabilizers\u001b[49m\u001b[43m[\u001b[49m\u001b[38;5;241;43m0\u001b[39;49m\u001b[43m]\u001b[49m\u001b[38;5;241;43m.\u001b[39;49m\u001b[43mto_matrix_with_i_jax\u001b[49m\u001b[43m(\u001b[49m\u001b[43m)\u001b[49m\n\u001b[1;32m    331\u001b[0m     \u001b[38;5;28;01mfor\u001b[39;00m j \u001b[38;5;129;01min\u001b[39;00m \u001b[38;5;28mrange\u001b[39m(\u001b[38;5;241m1\u001b[39m, \u001b[38;5;28mself\u001b[39m\u001b[38;5;241m.\u001b[39mnum_qubits):\n\u001b[1;32m    332\u001b[0m         density_matrix \u001b[38;5;241m=\u001b[39m density_matrix \u001b[38;5;241m@\u001b[39m \u001b[38;5;28mself\u001b[39m\u001b[38;5;241m.\u001b[39mstabilizers[j]\u001b[38;5;241m.\u001b[39mto_matrix_with_i_jax()\n",
      "    \u001b[0;31m[... skipping hidden 6 frame]\u001b[0m\n",
      "File \u001b[0;32m/Library/Frameworks/Python.framework/Versions/3.11/lib/python3.11/site-packages/jax/_src/api_util.py:596\u001b[0m, in \u001b[0;36m_shaped_abstractify_slow\u001b[0;34m(x)\u001b[0m\n\u001b[1;32m    594\u001b[0m   dtype \u001b[38;5;241m=\u001b[39m dtypes\u001b[38;5;241m.\u001b[39mcanonicalize_dtype(x\u001b[38;5;241m.\u001b[39mdtype, allow_extended_dtype\u001b[38;5;241m=\u001b[39m\u001b[38;5;28;01mTrue\u001b[39;00m)\n\u001b[1;32m    595\u001b[0m \u001b[38;5;28;01melse\u001b[39;00m:\n\u001b[0;32m--> 596\u001b[0m   \u001b[38;5;28;01mraise\u001b[39;00m \u001b[38;5;167;01mTypeError\u001b[39;00m(\n\u001b[1;32m    597\u001b[0m       \u001b[38;5;124mf\u001b[39m\u001b[38;5;124m\"\u001b[39m\u001b[38;5;124mCannot interpret value of type \u001b[39m\u001b[38;5;132;01m{\u001b[39;00m\u001b[38;5;28mtype\u001b[39m(x)\u001b[38;5;132;01m}\u001b[39;00m\u001b[38;5;124m as an abstract array; it \u001b[39m\u001b[38;5;124m\"\u001b[39m\n\u001b[1;32m    598\u001b[0m       \u001b[38;5;124m\"\u001b[39m\u001b[38;5;124mdoes not have a dtype attribute\u001b[39m\u001b[38;5;124m\"\u001b[39m)\n\u001b[1;32m    599\u001b[0m \u001b[38;5;28;01mreturn\u001b[39;00m core\u001b[38;5;241m.\u001b[39mShapedArray(np\u001b[38;5;241m.\u001b[39mshape(x), dtype, weak_type\u001b[38;5;241m=\u001b[39mweak_type)\n",
      "\u001b[0;31mTypeError\u001b[0m: Cannot interpret value of type <class 'sojo.stabilizer.PauliTerm'> as an abstract array; it does not have a dtype attribute"
     ]
    }
   ],
   "source": [
    "stb_density_matrix = stb.generate_density_matrix_by_generator_jax()\n",
    "print(np.round(stb_density_matrix,2))"
   ]
  },
  {
   "cell_type": "code",
   "execution_count": 5,
   "metadata": {},
   "outputs": [
    {
     "name": "stdout",
     "output_type": "stream",
     "text": [
      "[[ 0.74-0.j    0.  +0.43j  0.07+0.07j -0.04+0.04j]\n",
      " [ 0.  -0.43j  0.25+0.j    0.04-0.04j  0.02+0.02j]\n",
      " [ 0.07-0.07j  0.04+0.04j  0.01-0.j    0.  +0.01j]\n",
      " [-0.04-0.04j  0.02-0.02j  0.  -0.01j  0.  +0.j  ]]\n"
     ]
    }
   ],
   "source": [
    "import qiskit\n",
    "from qiskit.visualization import plot_histogram\n",
    "from qiskit.primitives import Sampler\n",
    "import qiskit.quantum_info\n",
    "\n",
    "qc = qiskit.QuantumCircuit(2)\n",
    "qc.ry(np.pi/3, 1)\n",
    "qc.rx(np.pi/2, 1)\n",
    "qc.cx(1,0)\n",
    "qc.t(1)\n",
    "qc.cx(1,0)\n",
    "qc.h(1)\n",
    "qc.rz(np.pi/4, 1)\n",
    "qc.rx(np.pi/3, 0)\n",
    "\n",
    "state = qiskit.quantum_info.Statevector(qc).data\n",
    "dm = np.outer(state, state.conj())\n",
    "print(np.round(dm,2))"
   ]
  }
 ],
 "metadata": {
  "kernelspec": {
   "display_name": "Python 3",
   "language": "python",
   "name": "python3"
  },
  "language_info": {
   "codemirror_mode": {
    "name": "ipython",
    "version": 3
   },
   "file_extension": ".py",
   "mimetype": "text/x-python",
   "name": "python",
   "nbconvert_exporter": "python",
   "pygments_lexer": "ipython3",
   "version": "3.11.5"
  }
 },
 "nbformat": 4,
 "nbformat_minor": 2
}
