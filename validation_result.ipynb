{
 "cells": [
  {
   "cell_type": "code",
   "execution_count": 8,
   "metadata": {},
   "outputs": [
    {
     "name": "stdout",
     "output_type": "stream",
     "text": [
      "0.9659258262890682*zi + -0.18301270189221927*yi + 0.18301270189221924*xi\n",
      "0.5000000000000001*iz + -0.8660254037844386*iy\n",
      "[[ 0.74+0.j    0.  +0.43j  0.07+0.07j -0.04+0.04j]\n",
      " [ 0.  -0.43j  0.25+0.j    0.04-0.04j  0.02+0.02j]\n",
      " [ 0.07-0.07j  0.04+0.04j  0.01+0.j    0.  +0.01j]\n",
      " [-0.04-0.04j  0.02-0.02j  0.  -0.01j  0.  +0.j  ]]\n"
     ]
    }
   ],
   "source": [
    "from sojo.stabilizer import StabilizerGenerator, PauliTerm, PauliWord\n",
    "import numpy as np\n",
    "\n",
    "# Same as qiskit\n",
    "stb = StabilizerGenerator(2)\n",
    "stb.ry(np.pi/3, 0)\n",
    "stb.rx(np.pi/2, 0)\n",
    "stb.cx([0,1])\n",
    "stb.t(0)\n",
    "stb.cx([0,1])\n",
    "stb.h(0)\n",
    "stb.rz(np.pi/4, 0)\n",
    "stb.rx(np.pi/3, 1)\n",
    "for s in (stb.stabilizers):\n",
    "    print(s)\n",
    "# stb.generate_p()\n",
    "# for p in (stb.ps):\n",
    "#     print(p)\n",
    "stb_density_matrix = stb.generate_density_matrix()\n",
    "print(np.round(stb_density_matrix,2))"
   ]
  },
  {
   "cell_type": "code",
   "execution_count": 18,
   "metadata": {},
   "outputs": [
    {
     "name": "stdout",
     "output_type": "stream",
     "text": [
      "[[0.66+0.j   0.  +0.j   0.09+0.46j 0.  +0.j  ]\n",
      " [0.  +0.j   0.  +0.j   0.  +0.j   0.  +0.j  ]\n",
      " [0.09-0.46j 0.  +0.j   0.34+0.j   0.  +0.j  ]\n",
      " [0.  +0.j   0.  +0.j   0.  +0.j   0.  +0.j  ]]\n"
     ]
    }
   ],
   "source": [
    "stb_density_matrix = stb.generate_density_matrix_by_generator_naive()\n",
    "print(np.round(stb_density_matrix,2))"
   ]
  },
  {
   "cell_type": "code",
   "execution_count": 19,
   "metadata": {},
   "outputs": [
    {
     "name": "stdout",
     "output_type": "stream",
     "text": [
      "[[0.66+0.j   0.  +0.j   0.09+0.46j 0.  +0.j  ]\n",
      " [0.  +0.j   0.  +0.j   0.  +0.j   0.  +0.j  ]\n",
      " [0.09-0.46j 0.  +0.j   0.34+0.j   0.  +0.j  ]\n",
      " [0.  +0.j   0.  +0.j   0.  +0.j   0.  +0.j  ]]\n"
     ]
    }
   ],
   "source": [
    "stb_density_matrix = stb.generate_density_matrix_by_generator()\n",
    "print(np.round(stb_density_matrix.toarray(),2))"
   ]
  },
  {
   "cell_type": "code",
   "execution_count": 20,
   "metadata": {},
   "outputs": [
    {
     "name": "stdout",
     "output_type": "stream",
     "text": [
      "[[ 0.66+0.j    0.  -0.j    0.09+0.46j  0.  -0.j  ]\n",
      " [ 0.  +0.j    0.  +0.j   -0.  +0.j    0.  +0.j  ]\n",
      " [ 0.09-0.46j -0.  +0.j    0.34+0.j   -0.  +0.j  ]\n",
      " [ 0.  +0.j    0.  +0.j   -0.  +0.j    0.  +0.j  ]]\n"
     ]
    }
   ],
   "source": [
    "import qiskit\n",
    "from qiskit.visualization import plot_histogram\n",
    "from qiskit.primitives import Sampler\n",
    "import qiskit.quantum_info\n",
    "\n",
    "qc = qiskit.QuantumCircuit(2)\n",
    "qc.ry(np.pi/3, 1)\n",
    "qc.rx(np.pi/2, 1)\n",
    "qc.cx(1,0)\n",
    "qc.t(1)\n",
    "qc.cx(1,0)\n",
    "qc.h(1)\n",
    "qc.rz(np.pi/4, 1)\n",
    "qc.rx(np.pi/3, 1)\n",
    "\n",
    "state = qiskit.quantum_info.Statevector(qc).data\n",
    "dm = np.outer(state, state.conj())\n",
    "print(np.round(dm,2))"
   ]
  }
 ],
 "metadata": {
  "kernelspec": {
   "display_name": "Python 3",
   "language": "python",
   "name": "python3"
  },
  "language_info": {
   "codemirror_mode": {
    "name": "ipython",
    "version": 3
   },
   "file_extension": ".py",
   "mimetype": "text/x-python",
   "name": "python",
   "nbconvert_exporter": "python",
   "pygments_lexer": "ipython3",
   "version": "3.11.5"
  }
 },
 "nbformat": 4,
 "nbformat_minor": 2
}
