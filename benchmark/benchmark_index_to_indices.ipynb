{
 "cells": [
  {
   "cell_type": "code",
   "execution_count": 4,
   "metadata": {},
   "outputs": [
    {
     "name": "stdout",
     "output_type": "stream",
     "text": [
      "The autoreload extension is already loaded. To reload it, use:\n",
      "  %reload_ext autoreload\n",
      "(2, 3, 4) (2,)\n",
      "(4, 3, 4) (4,)\n",
      "(2, 3, 4) (2,)\n",
      "[10 11 14 15 26 27 30 31 36 37 39 40 41 43 52 53 55 56 57 59]\n"
     ]
    }
   ],
   "source": [
    "from gqimax.mapper import weightsss_to_lambdas\n",
    "import cupy as cp\n",
    "import numpy as np\n",
    "%load_ext autoreload\n",
    "%autoreload 2\n",
    "num_qubits = 3  # 4^10 = 1,048,576 phần tử\n",
    "num_terms = 5\n",
    "ks = [np.random.randint(1, num_terms) for _ in range(num_qubits)]\n",
    "\n",
    "weightsss_np = [cp.random.rand(ks[i], num_qubits, 4) * (cp.random.rand(ks[i], num_qubits, 4) > 0.5) for i in range(num_qubits)]\n",
    "lambdass_np = [cp.random.rand(ks[i]) for i in range(num_qubits)]\n",
    "for i in range(num_qubits):\n",
    "\tprint(weightsss_np[i].shape, lambdass_np[i].shape)\n",
    "mapped_lambdass, non_zeros_indicess = weightsss_to_lambdas(weightsss_np, lambdass_np)"
   ]
  },
  {
   "cell_type": "code",
   "execution_count": 13,
   "metadata": {},
   "outputs": [],
   "source": [
    "from gqimax.mapper import map_indices_to_indicess"
   ]
  },
  {
   "cell_type": "code",
   "execution_count": 14,
   "metadata": {},
   "outputs": [],
   "source": [
    "ragged_tensor = map_indices_to_indicess(non_zeros_indicess)"
   ]
  },
  {
   "cell_type": "code",
   "execution_count": 5,
   "metadata": {},
   "outputs": [
    {
     "data": {
      "text/plain": [
       "array([[0, 2, 2],\n",
       "       [0, 2, 3],\n",
       "       [0, 3, 2],\n",
       "       [0, 3, 3],\n",
       "       [1, 2, 2],\n",
       "       [1, 2, 3],\n",
       "       [1, 3, 2],\n",
       "       [1, 3, 3],\n",
       "       [2, 1, 0],\n",
       "       [2, 1, 1],\n",
       "       [2, 1, 3],\n",
       "       [2, 2, 0],\n",
       "       [2, 2, 1],\n",
       "       [2, 2, 3],\n",
       "       [3, 1, 0],\n",
       "       [3, 1, 1],\n",
       "       [3, 1, 3],\n",
       "       [3, 2, 0],\n",
       "       [3, 2, 1],\n",
       "       [3, 2, 3]])"
      ]
     },
     "execution_count": 5,
     "metadata": {},
     "output_type": "execute_result"
    }
   ],
   "source": [
    "non_zeros_indicess[0]"
   ]
  },
  {
   "cell_type": "code",
   "execution_count": 11,
   "metadata": {},
   "outputs": [
    {
     "data": {
      "text/plain": [
       "array([[0, 0, 0],\n",
       "       [0, 0, 0],\n",
       "       [0, 0, 1],\n",
       "       [0, 0, 0],\n",
       "       [0, 0, 0],\n",
       "       [0, 0, 0]], dtype=int8)"
      ]
     },
     "execution_count": 11,
     "metadata": {},
     "output_type": "execute_result"
    }
   ],
   "source": [
    "ragged_tensor[0]"
   ]
  },
  {
   "cell_type": "code",
   "execution_count": 5,
   "metadata": {},
   "outputs": [
    {
     "name": "stdout",
     "output_type": "stream",
     "text": [
      "(10, 3)\n",
      "(6, 3)\n",
      "(27, 3)\n"
     ]
    }
   ],
   "source": [
    "for i in range(3):\n",
    "\tprint(ragged_tensor[i].shape)"
   ]
  }
 ],
 "metadata": {
  "kernelspec": {
   "display_name": "Python 3",
   "language": "python",
   "name": "python3"
  },
  "language_info": {
   "codemirror_mode": {
    "name": "ipython",
    "version": 3
   },
   "file_extension": ".py",
   "mimetype": "text/x-python",
   "name": "python",
   "nbconvert_exporter": "python",
   "pygments_lexer": "ipython3",
   "version": "3.10.11"
  }
 },
 "nbformat": 4,
 "nbformat_minor": 2
}
