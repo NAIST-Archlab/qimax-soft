{
 "cells": [
  {
   "cell_type": "code",
   "execution_count": null,
   "metadata": {},
   "outputs": [],
   "source": []
  },
  {
   "cell_type": "code",
   "execution_count": 1,
   "metadata": {},
   "outputs": [],
   "source": [
    "from gqimax.instructor import Instructor\n",
    "\n",
    "%load_ext autoreload\n",
    "%autoreload 2\n",
    "ins = Instructor(4)\n",
    "ins.append(\"h\", 0)\n",
    "ins.append(\"rx\", 1, 0.78)\n",
    "ins.append(\"h\", 2)\n",
    "ins.append(\"h\", 0)\n",
    "ins.append(\"cx\", [0, 1])\n",
    "ins.append(\"h\", 2)\n",
    "ins.append(\"h\", 2)\n",
    "ins.append(\"ry\", 0, 0.56)\n",
    "ins.append(\"cx\", [1, 2])\n",
    "ins.append(\"h\", 1)\n",
    "ins.append(\"h\", 3)\n",
    "ins.append(\"h\", 3)\n",
    "ins.append(\"h\", 3)\n",
    "ins.append(\"h\", 3)\n",
    "ins.append(\"h\", 0)\n",
    "ins.append(\"h\", 1)\n",
    "ins.append(\"h\", 2)\n",
    "ins.append(\"h\", 3)\n",
    "ins.append(\"h\", 0)\n",
    "ins.append(\"h\", 2)\n",
    "ins.append(\"cx\", [1, 3])\n",
    "ins.operatoring()"
   ]
  },
  {
   "cell_type": "code",
   "execution_count": 2,
   "metadata": {},
   "outputs": [],
   "source": [
    "ins.to_lut()"
   ]
  },
  {
   "cell_type": "code",
   "execution_count": 3,
   "metadata": {},
   "outputs": [
    {
     "name": "stdout",
     "output_type": "stream",
     "text": [
      "[array([1., 2.]), array([1.]), array([1.]), array([1.])]\n",
      "[array([[3, 0, 0, 0],\n",
      "       [0, 1, 2, 3]]), array([[0, 3, 0, 0]]), array([[0, 0, 3, 0]]), array([[0, 0, 0, 3]])]\n"
     ]
    }
   ],
   "source": [
    "from gqimax.pstabilizers import PStabilizers\n",
    "import cupy as cp\n",
    "stb = PStabilizers(4)\n",
    "stb.lambdass[0] = cp.append(stb.lambdass[0], 2)\n",
    "print(stb.lambdass)\n",
    "stb.indicess[0] = cp.append(stb.indicess[0], cp.expand_dims(cp.array([0, 1, 2, 3]), axis=0), axis=0)\n",
    "print(stb.indicess)"
   ]
  },
  {
   "cell_type": "code",
   "execution_count": 4,
   "metadata": {},
   "outputs": [],
   "source": [
    "lambdass = stb.lambdass\n",
    "indicess = stb.indicess"
   ]
  },
  {
   "cell_type": "code",
   "execution_count": 5,
   "metadata": {},
   "outputs": [],
   "source": [
    "\n",
    "\n",
    "# lambdass, indicesss = map_noncx(stb.indicess, stb.lambdass, lut, k = 0)"
   ]
  },
  {
   "cell_type": "code",
   "execution_count": 6,
   "metadata": {},
   "outputs": [
    {
     "data": {
      "text/plain": [
       "[[('h', 0, 0), ('h', 0, 0)],\n",
       " [('rx', 1, 0.78)],\n",
       " [('h', 2, 0), ('h', 2, 0), ('h', 2, 0)],\n",
       " [('h', 3, 0), ('h', 3, 0), ('h', 3, 0), ('h', 3, 0), ('h', 3, 0)]]"
      ]
     },
     "execution_count": 6,
     "metadata": {},
     "output_type": "execute_result"
    }
   ],
   "source": [
    "ins.operators[0]"
   ]
  },
  {
   "cell_type": "code",
   "execution_count": 7,
   "metadata": {},
   "outputs": [
    {
     "data": {
      "text/plain": [
       "[('cx', [0, 1], 0), ('cx', [1, 2], 0)]"
      ]
     },
     "execution_count": 7,
     "metadata": {},
     "output_type": "execute_result"
    }
   ],
   "source": [
    "ins.xoperators[0]"
   ]
  },
  {
   "cell_type": "code",
   "execution_count": 8,
   "metadata": {},
   "outputs": [
    {
     "data": {
      "text/plain": [
       "[0, 1, 0, 1]"
      ]
     },
     "execution_count": 8,
     "metadata": {},
     "output_type": "execute_result"
    }
   ],
   "source": [
    "ins.orders"
   ]
  },
  {
   "cell_type": "code",
   "execution_count": null,
   "metadata": {},
   "outputs": [
    {
     "name": "stdout",
     "output_type": "stream",
     "text": [
      "Processing:  0\n",
      "Processing:  1\n",
      "0 1\n",
      "mapped_flatten_indicess [[3 0 0 0]\n",
      " [0 1 2 3]\n",
      " [3 3 0 0]\n",
      " [0 0 3 0]\n",
      " [0 0 0 3]]\n",
      "flatten_lambdas_sign [1 1 1 1 1]\n",
      "1 2\n",
      "mapped_flatten_indicess [[3 0 0 0]\n",
      " [0 2 3 3]\n",
      " [0 3 0 0]\n",
      " [0 3 3 0]\n",
      " [0 0 0 3]]\n",
      "flatten_lambdas_sign [1 1 1 1 1]\n",
      "Processing:  0\n",
      "Processing:  1\n",
      "1 3\n",
      "mapped_flatten_indicess [[3 0 0 0]\n",
      " [0 2 2 2]\n",
      " [0 3 0 0]\n",
      " [0 0 3 0]\n",
      " [0 3 0 3]]\n",
      "flatten_lambdas_sign [ 1 -1  1  1  1]\n"
     ]
    },
    {
     "ename": "ValueError",
     "evalue": "operands could not be broadcast together with shapes (3,) (2,)",
     "output_type": "error",
     "traceback": [
      "\u001b[1;31m---------------------------------------------------------------------------\u001b[0m",
      "\u001b[1;31mValueError\u001b[0m                                Traceback (most recent call last)",
      "Cell \u001b[1;32mIn[9], line 10\u001b[0m\n\u001b[0;32m      8\u001b[0m \u001b[38;5;28;01mfor\u001b[39;00m _, indices, _ \u001b[38;5;129;01min\u001b[39;00m ins\u001b[38;5;241m.\u001b[39mxoperators[k]:\n\u001b[0;32m      9\u001b[0m     \u001b[38;5;28mprint\u001b[39m(indices[\u001b[38;5;241m0\u001b[39m], indices[\u001b[38;5;241m1\u001b[39m])\n\u001b[1;32m---> 10\u001b[0m     lambdass, indicesss \u001b[38;5;241m=\u001b[39m \u001b[43mmap_cx\u001b[49m\u001b[43m(\u001b[49m\u001b[43mlambdass\u001b[49m\u001b[43m,\u001b[49m\u001b[43m \u001b[49m\u001b[43mindicess\u001b[49m\u001b[43m,\u001b[49m\u001b[43m \u001b[49m\u001b[43mindices\u001b[49m\u001b[43m[\u001b[49m\u001b[38;5;241;43m0\u001b[39;49m\u001b[43m]\u001b[49m\u001b[43m,\u001b[49m\u001b[43m \u001b[49m\u001b[43mindices\u001b[49m\u001b[43m[\u001b[49m\u001b[38;5;241;43m1\u001b[39;49m\u001b[43m]\u001b[49m\u001b[43m)\u001b[49m\n",
      "File \u001b[1;32mc:\\Users\\Public\\Documents\\Github\\qimax\\gqimax\\mapper.py:340\u001b[0m, in \u001b[0;36mmap_cx\u001b[1;34m(lambdass, indicess, control, target)\u001b[0m\n\u001b[0;32m    336\u001b[0m     ragged_lambdas_sign \u001b[38;5;241m=\u001b[39m cp\u001b[38;5;241m.\u001b[39msplit(flatten_lambdas_sign, starts)\n\u001b[0;32m    337\u001b[0m \t\u001b[38;5;66;03m# OP: lambdas_sign * ragged_lambdas\u001b[39;00m\n\u001b[0;32m    338\u001b[0m     \u001b[38;5;66;03m# This operator can be implemented in CUDA kernel (in file notebook)\u001b[39;00m\n\u001b[0;32m    339\u001b[0m     \u001b[38;5;66;03m# But I see there is no different between two methods\u001b[39;00m\n\u001b[1;32m--> 340\u001b[0m     \u001b[38;5;28;01mreturn\u001b[39;00m [cp\u001b[38;5;241m.\u001b[39mmultiply(m1, m2) \u001b[38;5;28;01mfor\u001b[39;00m m1, m2 \u001b[38;5;129;01min\u001b[39;00m \u001b[38;5;28mzip\u001b[39m(lambdass, ragged_lambdas_sign)], ragged_indicess\n",
      "File \u001b[1;32mc:\\Users\\Public\\Documents\\Github\\qimax\\gqimax\\mapper.py:340\u001b[0m, in \u001b[0;36m<listcomp>\u001b[1;34m(.0)\u001b[0m\n\u001b[0;32m    336\u001b[0m     ragged_lambdas_sign \u001b[38;5;241m=\u001b[39m cp\u001b[38;5;241m.\u001b[39msplit(flatten_lambdas_sign, starts)\n\u001b[0;32m    337\u001b[0m \t\u001b[38;5;66;03m# OP: lambdas_sign * ragged_lambdas\u001b[39;00m\n\u001b[0;32m    338\u001b[0m     \u001b[38;5;66;03m# This operator can be implemented in CUDA kernel (in file notebook)\u001b[39;00m\n\u001b[0;32m    339\u001b[0m     \u001b[38;5;66;03m# But I see there is no different between two methods\u001b[39;00m\n\u001b[1;32m--> 340\u001b[0m     \u001b[38;5;28;01mreturn\u001b[39;00m [\u001b[43mcp\u001b[49m\u001b[38;5;241;43m.\u001b[39;49m\u001b[43mmultiply\u001b[49m\u001b[43m(\u001b[49m\u001b[43mm1\u001b[49m\u001b[43m,\u001b[49m\u001b[43m \u001b[49m\u001b[43mm2\u001b[49m\u001b[43m)\u001b[49m \u001b[38;5;28;01mfor\u001b[39;00m m1, m2 \u001b[38;5;129;01min\u001b[39;00m \u001b[38;5;28mzip\u001b[39m(lambdass, ragged_lambdas_sign)], ragged_indicess\n",
      "File \u001b[1;32mcupy\\\\_core\\\\_kernel.pyx:1314\u001b[0m, in \u001b[0;36mcupy._core._kernel.ufunc.__call__\u001b[1;34m()\u001b[0m\n",
      "File \u001b[1;32mcupy\\\\_core\\\\internal.pyx:381\u001b[0m, in \u001b[0;36mcupy._core.internal._broadcast_core\u001b[1;34m()\u001b[0m\n",
      "\u001b[1;31mValueError\u001b[0m: operands could not be broadcast together with shapes (3,) (2,)"
     ]
    },
    {
     "ename": "",
     "evalue": "",
     "output_type": "error",
     "traceback": [
      "\u001b[1;31mThe Kernel crashed while executing code in the current cell or a previous cell. \n",
      "\u001b[1;31mPlease review the code in the cell(s) to identify a possible cause of the failure. \n",
      "\u001b[1;31mClick <a href='https://aka.ms/vscodeJupyterKernelCrash'>here</a> for more info. \n",
      "\u001b[1;31mView Jupyter <a href='command:jupyter.viewOutput'>log</a> for further details."
     ]
    }
   ],
   "source": [
    "from gqimax.mapper import map_noncx, map_cx\n",
    "for j, order in enumerate(ins.orders):\n",
    "    k = j // 2\n",
    "    print(\"Processing: \", order)\n",
    "    if order == 0:\n",
    "        lambdass, indicesss = map_noncx(lambdass, indicess, ins.lut[k])\n",
    "    else:\n",
    "        for _, indices, _ in ins.xoperators[k]:\n",
    "            print(indices[0], indices[1])\n",
    "            lambdass, indicesss = map_cx(lambdass, indicess, indices[0], indices[1])"
   ]
  },
  {
   "cell_type": "code",
   "execution_count": null,
   "metadata": {},
   "outputs": [
    {
     "data": {
      "text/plain": [
       "(array([0, 0, 1, 1, 2, 3], dtype=int64),\n",
       " array([ 25, 192,  32,  48,   4,   1], dtype=int64))"
      ]
     },
     "execution_count": 67,
     "metadata": {},
     "output_type": "execute_result"
    }
   ],
   "source": [
    "cp.nonzero(lambdass)"
   ]
  },
  {
   "cell_type": "code",
   "execution_count": null,
   "metadata": {},
   "outputs": [
    {
     "data": {
      "text/plain": [
       "[array([[[ 0.,  0.,  0.,  1.],\n",
       "         [ 1.,  0.,  0.,  0.],\n",
       "         [ 1.,  0.,  0.,  0.],\n",
       "         [ 1.,  0.,  0.,  0.]],\n",
       " \n",
       "        [[ 1.,  0.,  0.,  0.],\n",
       "         [ 0.,  1.,  0.,  0.],\n",
       "         [ 0.,  0., -1.,  0.],\n",
       "         [ 0.,  1., -0.,  0.]]]),\n",
       " array([[[ 1.        ,  0.        ,  0.        ,  0.        ],\n",
       "         [ 0.        ,  0.        , -0.70327944,  0.7109136 ],\n",
       "         [ 1.        ,  0.        ,  0.        ,  0.        ],\n",
       "         [ 1.        ,  0.        ,  0.        ,  0.        ]]]),\n",
       " array([[[ 1.,  0.,  0.,  0.],\n",
       "         [ 1.,  0.,  0.,  0.],\n",
       "         [ 0.,  1., -0.,  0.],\n",
       "         [ 1.,  0.,  0.,  0.]]]),\n",
       " array([[[ 1.,  0.,  0.,  0.],\n",
       "         [ 1.,  0.,  0.,  0.],\n",
       "         [ 1.,  0.,  0.,  0.],\n",
       "         [ 0.,  1., -0.,  0.]]])]"
      ]
     },
     "execution_count": 52,
     "metadata": {},
     "output_type": "execute_result"
    }
   ],
   "source": [
    "weightsss"
   ]
  }
 ],
 "metadata": {
  "kernelspec": {
   "display_name": "Python 3",
   "language": "python",
   "name": "python3"
  },
  "language_info": {
   "codemirror_mode": {
    "name": "ipython",
    "version": 3
   },
   "file_extension": ".py",
   "mimetype": "text/x-python",
   "name": "python",
   "nbconvert_exporter": "python",
   "pygments_lexer": "ipython3",
   "version": "3.10.11"
  }
 },
 "nbformat": 4,
 "nbformat_minor": 2
}
