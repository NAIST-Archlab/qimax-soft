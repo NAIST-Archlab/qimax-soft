{
 "cells": [
  {
   "cell_type": "code",
   "execution_count": 7,
   "metadata": {},
   "outputs": [
    {
     "name": "stdout",
     "output_type": "stream",
     "text": [
      "The autoreload extension is already loaded. To reload it, use:\n",
      "  %reload_ext autoreload\n"
     ]
    }
   ],
   "source": [
    "from gqimax2.mapper import map_cx\n",
    "from gqimax2.sample import sample1, sample2, sample3\n",
    "from gqimax2.mapper import map_indices_to_indicess\n",
    "import cupy as cp\n",
    "import time\n",
    "%load_ext autoreload\n",
    "%autoreload 2\n"
   ]
  },
  {
   "cell_type": "code",
   "execution_count": 8,
   "metadata": {},
   "outputs": [
    {
     "data": {
      "text/plain": [
       "array([3, 0, 0, 0])"
      ]
     },
     "execution_count": 8,
     "metadata": {},
     "output_type": "execute_result"
    }
   ],
   "source": [
    "def create_word_zj(num_qubits, j):\n",
    "\tlst = cp.zeros(num_qubits, dtype=cp.int32)\n",
    "\tlst[j] = 3\n",
    "\treturn lst\n",
    "def create_word_ii(num_qubits):\n",
    "\tlst = [cp.array([0], dtype=cp.int32) for _ in range(num_qubits)]\n",
    "\treturn lst\n",
    "create_word_zj(4,0)"
   ]
  },
  {
   "cell_type": "code",
   "execution_count": 25,
   "metadata": {},
   "outputs": [
    {
     "ename": "IndexError",
     "evalue": "Index 2 is out of bounds for axis 0 with size 2",
     "output_type": "error",
     "traceback": [
      "\u001b[1;31m---------------------------------------------------------------------------\u001b[0m",
      "\u001b[1;31mIndexError\u001b[0m                                Traceback (most recent call last)",
      "Cell \u001b[1;32mIn[25], line 103\u001b[0m\n\u001b[0;32m    100\u001b[0m k \u001b[38;5;241m=\u001b[39m j \u001b[38;5;241m/\u001b[39m\u001b[38;5;241m/\u001b[39m \u001b[38;5;241m2\u001b[39m\n\u001b[0;32m    101\u001b[0m \u001b[38;5;28;01mif\u001b[39;00m order \u001b[38;5;241m==\u001b[39m \u001b[38;5;241m0\u001b[39m:\n\u001b[1;32m--> 103\u001b[0m     lambdass, indicesss \u001b[38;5;241m=\u001b[39m \u001b[43mmap_noncx\u001b[49m\u001b[43m(\u001b[49m\u001b[43mlambdass\u001b[49m\u001b[43m,\u001b[49m\u001b[43m \u001b[49m\u001b[43mindicesss\u001b[49m\u001b[43m,\u001b[49m\u001b[43m \u001b[49m\u001b[43mins\u001b[49m\u001b[38;5;241;43m.\u001b[39;49m\u001b[43mlut\u001b[49m\u001b[43m[\u001b[49m\u001b[43mk\u001b[49m\u001b[43m]\u001b[49m\u001b[43m,\u001b[49m\u001b[43m \u001b[49m\u001b[43mins\u001b[49m\u001b[38;5;241;43m.\u001b[39;49m\u001b[43mindicesss\u001b[49m\u001b[43m[\u001b[49m\u001b[43mk\u001b[49m\u001b[43m]\u001b[49m\u001b[43m)\u001b[49m\n\u001b[0;32m    104\u001b[0m \u001b[38;5;28;01melse\u001b[39;00m:\n\u001b[0;32m    105\u001b[0m     \u001b[38;5;28;01mfor\u001b[39;00m _, cnot_indices, _ \u001b[38;5;129;01min\u001b[39;00m ins\u001b[38;5;241m.\u001b[39mxoperators[k]:\n",
      "Cell \u001b[1;32mIn[25], line 77\u001b[0m, in \u001b[0;36mmap_noncx\u001b[1;34m(lambdass, indicesss, lut_at_k, indicesss_at_k)\u001b[0m\n\u001b[0;32m     75\u001b[0m     \u001b[38;5;28;01melse\u001b[39;00m:\n\u001b[0;32m     76\u001b[0m         weights\u001b[38;5;241m.\u001b[39mappend(lut_at_k[qubit][\u001b[38;5;28mint\u001b[39m(index) \u001b[38;5;241m-\u001b[39m \u001b[38;5;241m1\u001b[39m])\n\u001b[1;32m---> 77\u001b[0m         indices_out\u001b[38;5;241m.\u001b[39mappend(\u001b[43mindicesss_at_k\u001b[49m\u001b[43m[\u001b[49m\u001b[43mqubit\u001b[49m\u001b[43m]\u001b[49m\u001b[43m[\u001b[49m\u001b[38;5;28;43mint\u001b[39;49m\u001b[43m(\u001b[49m\u001b[43mindex\u001b[49m\u001b[43m)\u001b[49m\u001b[43m \u001b[49m\u001b[38;5;241;43m-\u001b[39;49m\u001b[43m \u001b[49m\u001b[38;5;241;43m1\u001b[39;49m\u001b[43m]\u001b[49m)\n\u001b[0;32m     78\u001b[0m weightss\u001b[38;5;241m.\u001b[39mappend(weights)\n\u001b[0;32m     79\u001b[0m indicess_out\u001b[38;5;241m.\u001b[39mappend(indices_out)\n",
      "File \u001b[1;32mcupy\\\\_core\\\\core.pyx:1574\u001b[0m, in \u001b[0;36mcupy._core.core._ndarray_base.__getitem__\u001b[1;34m()\u001b[0m\n",
      "File \u001b[1;32mcupy\\\\_core\\\\_routines_indexing.pyx:33\u001b[0m, in \u001b[0;36mcupy._core._routines_indexing._ndarray_getitem\u001b[1;34m()\u001b[0m\n",
      "File \u001b[1;32mcupy\\\\_core\\\\_routines_indexing.pyx:410\u001b[0m, in \u001b[0;36mcupy._core._routines_indexing._view_getitem\u001b[1;34m()\u001b[0m\n",
      "\u001b[1;31mIndexError\u001b[0m: Index 2 is out of bounds for axis 0 with size 2"
     ]
    }
   ],
   "source": [
    "from gqimax2.mapper import broadcasted_multiplies, broadcasted_base4, sum_distributions\n",
    "def create_word_zj(num_qubits, j):\n",
    "\tlst = cp.zeros(num_qubits, dtype=cp.int8)\n",
    "\tlst[j] = 3\n",
    "\treturn lst\n",
    "def create_word_ii(num_qubits):\n",
    "\tlst = [cp.array([0], dtype=cp.int8) for _ in range(num_qubits)]\n",
    "\treturn lst\n",
    "\n",
    "num_qubits = 2\n",
    "ins = sample3()\n",
    "# ins = sample2(num_qubits, 3)\n",
    "ins.operatoring()\n",
    "\n",
    "\n",
    "def weightsss_to_lambdass(lambdass, weightsss, indicesss):\n",
    "    num_qubits = len(weightsss)\n",
    "    lambdass_res = [None] * num_qubits\n",
    "    indicess_res = [None] * num_qubits\n",
    "    # print('lambda: ', lambdass)\n",
    "    # print('index: ', indicesss)\n",
    "    # print('weight: ', weightsss)\n",
    "    for i in range(num_qubits):\n",
    "        print(f'Flattening at {i} ...')\n",
    "        print('(Input) weightsss[i]: ', weightsss[i])\n",
    "        print('(Input) lambdass[i]: ', lambdass[i])\n",
    "        print('(Input) indicesss[i]: ', indicesss[i])\n",
    "        a = broadcasted_multiplies(lambdass[i], weightsss[i])\n",
    "        b = broadcasted_base4(indicesss[i])\n",
    "        print('(Output) weights: ', a)\n",
    "        print('(Output) Index:', b)\n",
    "        lambdass_res[i], indicess_res[i] = sum_distributions(\n",
    "            a,b \n",
    "            )\n",
    "        print(f\"lambdass_res[{i}]: {lambdass_res[i]}\")\n",
    "        print(f\"indicess_res[{i}]: {indicess_res[i]}\")\n",
    "    return lambdass_res, indicess_res\n",
    "\n",
    "def map_noncx(lambdass, indicesss, lut_at_k, indicesss_at_k):\n",
    "\n",
    "    r'''\n",
    "    indicesss = \n",
    "    \n",
    "    [\n",
    "\t\tstb_0: [] (term 0) + [] (term-1) + ... + [] (term-k0),\n",
    "\t\t\t\n",
    "   \t\t\tEach term [] lambda x [CCC...C] (n char)\n",
    "\t\t\n",
    "  \t\tstb_1: [] (term 0) + [] (term-1) + ... + [] (term-k1),\n",
    "\t\t\n",
    "  \t\t...\n",
    "\t\t\n",
    "  \t\tstb_n-1: [] (term 0) + [] (term-1) + ... + [] (term-k0)\n",
    "\t]\n",
    "    \n",
    "    '''\n",
    "    weightsss = []\n",
    "    indicesss_out = []\n",
    "    for j, indicess in enumerate(indicesss):  # stabilizer\n",
    "        r'''Dealing with stabilizer j [] (term 0) + [] (term-1) + ... + [] (term-k0),\n",
    "\t\t\t# Each term [] = lambda x [CCC...C]\n",
    "\t\t\tAfter mapping, \n",
    "   \t\t\tlambda x [CCC...C] => lambda [Ax + By + Cz] x [Ax + By + Cz] x ... x [Ax + By + Cz] (n times)\n",
    "\t\t\t=> indiess = [array([x,y,z]) x n]\n",
    "        '''\n",
    "        weightss = []\n",
    "        indicess_out = []\n",
    "        for k, indices in enumerate(indicess): # term k_th\n",
    "            weights = []\n",
    "            indices_out = []  \n",
    "            for qubit, index in enumerate(indices): # qubit j_th\n",
    "                if index == 0:\n",
    "                    weights.append(cp.array([1], dtype=cp.float32))\n",
    "                    indices_out.append(cp.array([0], dtype=cp.int8))\n",
    "                else:\n",
    "                    weights.append(lut_at_k[qubit][int(index) - 1])\n",
    "                    indices_out.append(indicesss_at_k[qubit][int(index) - 1])\n",
    "            weightss.append(weights)\n",
    "            indicess_out.append(indices_out)\n",
    "        weightsss.append(weightss)\n",
    "        indicesss_out.append(indicess_out)\n",
    "        print(f'stabilizer: {j}, term: {k}')\n",
    "        print(f\"weightsss: {weightss}\")\n",
    "        print(f\"indicesss_out: {indicess_out}\")\n",
    "    return weightsss_to_lambdass(lambdass, weightsss, indicesss_out)\n",
    "\n",
    "\n",
    "lambdass = [\n",
    "    cp.array([1], dtype=cp.float32) \n",
    "    for _ in range(num_qubits)\n",
    "]\n",
    "\n",
    "indicesss = [\n",
    "\tcp.array([create_word_zj(num_qubits,j)])\n",
    " \tfor j in range(num_qubits)\n",
    "]\n",
    "\n",
    "\n",
    "for j, order in enumerate(ins.orders):\n",
    "    k = j // 2\n",
    "    if order == 0:\n",
    "       \n",
    "        lambdass, indicesss = map_noncx(lambdass, indicesss, ins.lut[k], ins.indicesss[k])\n",
    "    else:\n",
    "        for _, cnot_indices, _ in ins.xoperators[k]:\n",
    "\n",
    "            lambdass, indicesss = map_cx(lambdass, indicesss, cnot_indices[0], cnot_indices[1])\n",
    "    # print('lambdass: ', lambdass)\n",
    "    # print('indicesss: ', indicesss)\n",
    "print(\"Final\")\n",
    "print('lambdass: ', lambdass[0][:10])\n",
    "print('indicesss: ', indicesss[0][:10])"
   ]
  },
  {
   "cell_type": "code",
   "execution_count": 24,
   "metadata": {},
   "outputs": [
    {
     "data": {
      "text/plain": [
       "[[array([ 0.41198224, -0.05872664, -0.90929747], dtype=float32),\n",
       "  array([-0.8337377 , -0.42691758, -0.35017547], dtype=float32),\n",
       "  array([-0.36763045,  0.9023816 , -0.22484507], dtype=float32)],\n",
       " [array([ 0.41198224, -0.05872664, -0.90929747], dtype=float32),\n",
       "  array([-0.8337377 , -0.42691758, -0.35017547], dtype=float32),\n",
       "  array([-0.36763045,  0.9023816 , -0.22484507], dtype=float32)],\n",
       " [array([ 0.41198224, -0.05872664, -0.90929747], dtype=float32),\n",
       "  array([-0.8337377 , -0.42691758, -0.35017547], dtype=float32),\n",
       "  array([-0.36763045,  0.9023816 , -0.22484507], dtype=float32)],\n",
       " [array([ 0.41198224, -0.05872664, -0.90929747], dtype=float32),\n",
       "  array([-0.8337377 , -0.42691758, -0.35017547], dtype=float32),\n",
       "  array([-0.36763045,  0.9023816 , -0.22484507], dtype=float32)]]"
      ]
     },
     "execution_count": 24,
     "metadata": {},
     "output_type": "execute_result"
    }
   ],
   "source": [
    "ins.lut[0]"
   ]
  }
 ],
 "metadata": {
  "kernelspec": {
   "display_name": "Python 3",
   "language": "python",
   "name": "python3"
  },
  "language_info": {
   "codemirror_mode": {
    "name": "ipython",
    "version": 3
   },
   "file_extension": ".py",
   "mimetype": "text/x-python",
   "name": "python",
   "nbconvert_exporter": "python",
   "pygments_lexer": "ipython3",
   "version": "3.10.11"
  }
 },
 "nbformat": 4,
 "nbformat_minor": 2
}
