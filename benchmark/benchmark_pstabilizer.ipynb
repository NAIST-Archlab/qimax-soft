{
 "cells": [
  {
   "cell_type": "code",
   "execution_count": null,
   "metadata": {},
   "outputs": [],
   "source": [
    "import cupy as cp\n",
    "import polars as pl\n",
    "from gqimax.mapper import weightss_to_lambda\n",
    "from gqimax.instructor import Instructor\n",
    "from gqimax.utils import word_to_index, pauli_to_index, index_to_word, create_word_zj\n",
    "\n",
    "class PStabilizers:\n",
    "    def __init__(self, num_qubits: int):\n",
    "        \"\"\"PStabilizer is a Pauli term\n",
    "        I encode it as two lists: indices (encoded Pauli words) and lambdas\n",
    "\n",
    "        Args:\n",
    "            j (int): index of stabilizer in the stabilizer group (generator)\n",
    "            num_qubits (int)\n",
    "        \"\"\"\n",
    "        # Init n stabilizer \n",
    "        # Each stabilizer is Z_j = I \\otimes ... \\otimes I \\otimes Z (j^th) \\otimes I \\otimes ... \\\n",
    "        self.num_qubits = num_qubits\n",
    "        # Lambdas for all stabilizers\n",
    "        # It has the size n x 4^n\n",
    "        self.lambdass = cp.ones(num_qubits)\n",
    "        # Max size of indices is n x 4^n x n x 4\n",
    "        self.indicess = cp.array([word_to_index(create_word_zj(j, num_qubits)) for j in range(num_qubits)])\n",
    "        return\n",
    "    def at(self, i: int, j: int | str):\n",
    "        if type(j) == str:\n",
    "            j = word_to_index(j)\n",
    "        return self.lambdas[i][cp.where(self.indices == j)[0]]\n",
    "    def map(self, ins: Instructor):\n",
    "        for j, order in enumerate(ins.orders):\n",
    "            k = j // 2\n",
    "            if order == 0:\n",
    "                self.indicess, self.lambdass = map_noncx(self.indicess, self.lambdass, ins.LUT, k, self.num_qubits)\n",
    "            else:\n",
    "                self.indicess, self.lambdass = map_cx(self.indicess, self.lambdass, ins.xoperators[k], self.num_qubits)\n",
    "        return\n",
    "    def __str__(self) -> str:\n",
    "        text = \"\"\n",
    "        lambdas_cp = self.lambdas.get()[:3]\n",
    "        indices_cp = self.indices.get()[:3]\n",
    "        for i, index in enumerate(indices_cp):\n",
    "            text += (f\"{cp.round(lambdas_cp[i], 2)} * {index_to_word(index, self.num_qubits)} + \")\n",
    "        text += (f\"... + {cp.round(self.lambdas.get()[-1], 2)} * {index_to_word(self.indices.get()[-1], self.num_qubits)}\")\n",
    "        return text\n",
    "    \n"
   ]
  },
  {
   "cell_type": "code",
   "execution_count": 4,
   "metadata": {},
   "outputs": [
    {
     "data": {
      "text/plain": [
       "array([192])"
      ]
     },
     "execution_count": 4,
     "metadata": {},
     "output_type": "execute_result"
    }
   ],
   "source": [
    "cp.array([word_to_index(create_word_zj(0, 4))])"
   ]
  }
 ],
 "metadata": {
  "kernelspec": {
   "display_name": "Python 3",
   "language": "python",
   "name": "python3"
  },
  "language_info": {
   "codemirror_mode": {
    "name": "ipython",
    "version": 3
   },
   "file_extension": ".py",
   "mimetype": "text/x-python",
   "name": "python",
   "nbconvert_exporter": "python",
   "pygments_lexer": "ipython3",
   "version": "3.10.11"
  }
 },
 "nbformat": 4,
 "nbformat_minor": 2
}
