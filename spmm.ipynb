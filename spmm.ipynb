{
 "cells": [
  {
   "cell_type": "code",
   "execution_count": 33,
   "metadata": {},
   "outputs": [
    {
     "name": "stdout",
     "output_type": "stream",
     "text": [
      "[(0, 0), (1, 1), (2, 2), (3, 3), (0, 1)]\n",
      "[4, 4, 2, 1, 2]\n",
      "4\n",
      "4\n",
      "2\n",
      "1\n",
      "2\n",
      "[(0, 0), (1, 1), (2, 2), (3, 3), (0, 1)]\n"
     ]
    }
   ],
   "source": [
    "def spma(spms, n):\n",
    "    results = {}\n",
    "    for i in range(n):\n",
    "        results[(i,i)] = 1\n",
    "    spmss = spms[0]\n",
    "    for spm in spms[1:]:\n",
    "        spmss += spm\n",
    "    for i,j, value in spmss:\n",
    "        if (i,j) in results:\n",
    "            results[(i,j)] += value\n",
    "        else:\n",
    "            results[(i,j)] = value\n",
    "    return results\n",
    "def spmm(spm1, spm2):\n",
    "    \n",
    "    \n",
    "    \n",
    "    return\n",
    "    \n",
    "    \n",
    "    \n",
    "spm1 = [(0,0,1), (0,1,2)]\n",
    "spm2 = [(0,0,3), (1,1,3)]\n",
    "spm3 = [(0,0,-1), (2,2,1)]\n",
    "out = (spma([spm1, spm2, spm3], 4))\n",
    "print(list(out.keys()))\n",
    "print(list(out.values()))\n",
    "for key, val in out.items():\n",
    "    print(val)\n",
    "print(list(out))"
   ]
  },
  {
   "cell_type": "code",
   "execution_count": 54,
   "metadata": {},
   "outputs": [
    {
     "name": "stdout",
     "output_type": "stream",
     "text": [
      "bruh\n"
     ]
    }
   ],
   "source": [
    "s = 'zzziiyi'\n",
    "ch = list(set(s))\n",
    "if 'x' in ch or 'y' in ch:\n",
    "    print('bruh')"
   ]
  },
  {
   "cell_type": "code",
   "execution_count": 8,
   "metadata": {},
   "outputs": [
    {
     "name": "stdout",
     "output_type": "stream",
     "text": [
      "[[ 6.77898152+0.j          4.32275512-4.40642003j  3.14198337-1.70405136j\n",
      "  -3.02204846-4.04083947j]\n",
      " [ 4.32275512+4.40642003j -2.31211275+0.j          3.24438896-0.76416508j\n",
      "  -3.06192005+1.53688099j]\n",
      " [ 3.14198337+1.70405136j  3.24438896+0.76416508j -1.79291419+0.j\n",
      "   1.30289517+0.6639736j ]\n",
      " [-3.02204846+4.04083947j -3.06192005-1.53688099j  1.30289517-0.6639736j\n",
      "  -2.473913  +0.j        ]]\n"
     ]
    }
   ],
   "source": [
    "from sojo.pc import PauliComposer\n",
    "import numpy as np\n",
    "result = None\n",
    "arr = np.random.uniform(0, np.pi, (16,))\n",
    "j = 0\n",
    "for s in ['II', 'IX', 'IY', 'IZ', 'XI', 'XX', 'XY', 'XZ', 'YI', 'YX', 'YY', 'YZ', 'ZI', 'ZX', 'ZY', 'ZZ']:\n",
    "    pc = PauliComposer(s, arr[j])\n",
    "    sp = pc.to_csr()\n",
    "    if result is None:\n",
    "        result = sp\n",
    "    else:\n",
    "        result = result + sp\n",
    "    j += 1\n",
    "print(result.toarray())\n",
    "\n"
   ]
  },
  {
   "cell_type": "code",
   "execution_count": null,
   "metadata": {},
   "outputs": [],
   "source": []
  }
 ],
 "metadata": {
  "kernelspec": {
   "display_name": "Python 3",
   "language": "python",
   "name": "python3"
  },
  "language_info": {
   "codemirror_mode": {
    "name": "ipython",
    "version": 3
   },
   "file_extension": ".py",
   "mimetype": "text/x-python",
   "name": "python",
   "nbconvert_exporter": "python",
   "pygments_lexer": "ipython3",
   "version": "3.11.5"
  }
 },
 "nbformat": 4,
 "nbformat_minor": 2
}
