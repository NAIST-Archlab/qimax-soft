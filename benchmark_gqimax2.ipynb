{
 "cells": [
  {
   "cell_type": "code",
   "execution_count": 1,
   "metadata": {},
   "outputs": [],
   "source": [
    "from gqimax2.mapper import map_cx, map_noncx\n",
    "from gqimax2.sample import sample1, sample2\n",
    "from gqimax2.mapper import map_indices_to_indicess, map_noncx\n",
    "import cupy as cp\n",
    "import time\n",
    "%load_ext autoreload\n",
    "%autoreload 2\n",
    "num_qubits = 4\n",
    "ins = sample1(num_qubits)\n",
    "ins.operatoring()\n",
    "from gqimax2.pstabilizers import PStabilizers\n",
    "stb = PStabilizers(num_qubits)\n",
    "lambdass = stb.lambdass\n",
    "indicesss = stb.indicess"
   ]
  },
  {
   "cell_type": "code",
   "execution_count": 2,
   "metadata": {},
   "outputs": [
    {
     "data": {
      "text/plain": [
       "[array([1.]), array([1.]), array([1.]), array([1.])]"
      ]
     },
     "execution_count": 2,
     "metadata": {},
     "output_type": "execute_result"
    }
   ],
   "source": [
    "lambdass"
   ]
  },
  {
   "cell_type": "code",
   "execution_count": 3,
   "metadata": {},
   "outputs": [
    {
     "name": "stderr",
     "output_type": "stream",
     "text": [
      "C:\\Users\\haime\\AppData\\Local\\Temp\\ipykernel_10648\\3766601348.py:24: DeprecationWarning: Conversion of an array with ndim > 0 to a scalar is deprecated, and will error in future. Ensure you extract a single element from your array before performing this operation. (Deprecated NumPy 1.25.)\n",
      "  weights.append(lut_at_k[qubit][int(index) - 1])\n"
     ]
    },
    {
     "name": "stdout",
     "output_type": "stream",
     "text": [
      "[1.]\n",
      "[[array([3]), array([0]), array([0]), array([0])]]\n",
      "[1.]\n",
      "[[array([0]), array([3]), array([0]), array([0])]]\n",
      "[1.]\n",
      "[[array([0]), array([0]), array([3]), array([0])]]\n",
      "[1.]\n",
      "[[array([0]), array([0]), array([0]), array([3])]]\n"
     ]
    },
    {
     "ename": "TypeError",
     "evalue": "Unsupported type <class 'list'>",
     "output_type": "error",
     "traceback": [
      "\u001b[1;31m---------------------------------------------------------------------------\u001b[0m",
      "\u001b[1;31mTypeError\u001b[0m                                 Traceback (most recent call last)",
      "Cell \u001b[1;32mIn[3], line 36\u001b[0m\n\u001b[0;32m     34\u001b[0m \u001b[38;5;28;01melse\u001b[39;00m:\n\u001b[0;32m     35\u001b[0m     \u001b[38;5;28;01mfor\u001b[39;00m _, indices, _ \u001b[38;5;129;01min\u001b[39;00m ins\u001b[38;5;241m.\u001b[39mxoperators[k]:\n\u001b[1;32m---> 36\u001b[0m         lambdass, indicesss \u001b[38;5;241m=\u001b[39m \u001b[43mmap_cx\u001b[49m\u001b[43m(\u001b[49m\u001b[43mlambdass\u001b[49m\u001b[43m,\u001b[49m\u001b[43m \u001b[49m\u001b[43mindicesss\u001b[49m\u001b[43m,\u001b[49m\u001b[43m \u001b[49m\u001b[43mindices\u001b[49m\u001b[43m[\u001b[49m\u001b[38;5;241;43m0\u001b[39;49m\u001b[43m]\u001b[49m\u001b[43m,\u001b[49m\u001b[43m \u001b[49m\u001b[43mindices\u001b[49m\u001b[43m[\u001b[49m\u001b[38;5;241;43m1\u001b[39;49m\u001b[43m]\u001b[49m\u001b[43m)\u001b[49m\n",
      "File \u001b[1;32mc:\\Users\\Public\\Documents\\Github\\qimax\\gqimax2\\mapper.py:239\u001b[0m, in \u001b[0;36mmap_cx\u001b[1;34m(lambdass, indicess, control, target)\u001b[0m\n\u001b[0;32m    236\u001b[0m     flatten_vector \u001b[38;5;241m=\u001b[39m cp\u001b[38;5;241m.\u001b[39mconcatenate(ragged_matrix, dtype\u001b[38;5;241m=\u001b[39mcp\u001b[38;5;241m.\u001b[39mint8)\n\u001b[0;32m    237\u001b[0m     \u001b[38;5;28;01mreturn\u001b[39;00m flatten_vector, starts[:\u001b[38;5;241m-\u001b[39m\u001b[38;5;241m1\u001b[39m]\n\u001b[1;32m--> 239\u001b[0m flatten_indicess, starts \u001b[38;5;241m=\u001b[39m \u001b[43mflatten_ragged_matrix_cupy\u001b[49m\u001b[43m(\u001b[49m\u001b[43mindicess\u001b[49m\u001b[43m)\u001b[49m\n\u001b[0;32m    240\u001b[0m flatten_lambdas_sign, mapped_flatten_indicess \u001b[38;5;241m=\u001b[39m cuda_map_cx(flatten_indicess, control, target)\n\u001b[0;32m    241\u001b[0m \u001b[38;5;66;03m# print(\"mapped_flatten_indicess\", mapped_flatten_indicess)\u001b[39;00m\n\u001b[0;32m    242\u001b[0m \u001b[38;5;66;03m# print(\"flatten_lambdas_sign\", flatten_lambdas_sign)\u001b[39;00m\n",
      "File \u001b[1;32mc:\\Users\\Public\\Documents\\Github\\qimax\\gqimax2\\mapper.py:236\u001b[0m, in \u001b[0;36mmap_cx.<locals>.flatten_ragged_matrix_cupy\u001b[1;34m(ragged_matrix)\u001b[0m\n\u001b[0;32m    234\u001b[0m lengths \u001b[38;5;241m=\u001b[39m cp\u001b[38;5;241m.\u001b[39marray([\u001b[38;5;28mlen\u001b[39m(row) \u001b[38;5;28;01mfor\u001b[39;00m row \u001b[38;5;129;01min\u001b[39;00m ragged_matrix])\n\u001b[0;32m    235\u001b[0m starts \u001b[38;5;241m=\u001b[39m cp\u001b[38;5;241m.\u001b[39mconcatenate((cp\u001b[38;5;241m.\u001b[39marray([\u001b[38;5;241m0\u001b[39m]), cp\u001b[38;5;241m.\u001b[39mcumsum(lengths)))\n\u001b[1;32m--> 236\u001b[0m flatten_vector \u001b[38;5;241m=\u001b[39m \u001b[43mcp\u001b[49m\u001b[38;5;241;43m.\u001b[39;49m\u001b[43mconcatenate\u001b[49m\u001b[43m(\u001b[49m\u001b[43mragged_matrix\u001b[49m\u001b[43m,\u001b[49m\u001b[43m \u001b[49m\u001b[43mdtype\u001b[49m\u001b[38;5;241;43m=\u001b[39;49m\u001b[43mcp\u001b[49m\u001b[38;5;241;43m.\u001b[39;49m\u001b[43mint8\u001b[49m\u001b[43m)\u001b[49m\n\u001b[0;32m    237\u001b[0m \u001b[38;5;28;01mreturn\u001b[39;00m flatten_vector, starts[:\u001b[38;5;241m-\u001b[39m\u001b[38;5;241m1\u001b[39m]\n",
      "File \u001b[1;32m~\\AppData\\Local\\Packages\\PythonSoftwareFoundation.Python.3.10_qbz5n2kfra8p0\\LocalCache\\local-packages\\Python310\\site-packages\\cupy\\_manipulation\\join.py:60\u001b[0m, in \u001b[0;36mconcatenate\u001b[1;34m(tup, axis, out, dtype, casting)\u001b[0m\n\u001b[0;32m     58\u001b[0m     tup \u001b[38;5;241m=\u001b[39m [m\u001b[38;5;241m.\u001b[39mravel() \u001b[38;5;28;01mfor\u001b[39;00m m \u001b[38;5;129;01min\u001b[39;00m tup]\n\u001b[0;32m     59\u001b[0m     axis \u001b[38;5;241m=\u001b[39m \u001b[38;5;241m0\u001b[39m\n\u001b[1;32m---> 60\u001b[0m \u001b[38;5;28;01mreturn\u001b[39;00m \u001b[43m_core\u001b[49m\u001b[38;5;241;43m.\u001b[39;49m\u001b[43mconcatenate_method\u001b[49m\u001b[43m(\u001b[49m\u001b[43mtup\u001b[49m\u001b[43m,\u001b[49m\u001b[43m \u001b[49m\u001b[43maxis\u001b[49m\u001b[43m,\u001b[49m\u001b[43m \u001b[49m\u001b[43mout\u001b[49m\u001b[43m,\u001b[49m\u001b[43m \u001b[49m\u001b[43mdtype\u001b[49m\u001b[43m,\u001b[49m\u001b[43m \u001b[49m\u001b[43mcasting\u001b[49m\u001b[43m)\u001b[49m\n",
      "File \u001b[1;32mcupy\\\\_core\\\\_routines_manipulation.pyx:586\u001b[0m, in \u001b[0;36mcupy._core._routines_manipulation.concatenate_method\u001b[1;34m()\u001b[0m\n",
      "File \u001b[1;32mcupy\\\\_core\\\\_routines_manipulation.pyx:597\u001b[0m, in \u001b[0;36mcupy._core._routines_manipulation.concatenate_method\u001b[1;34m()\u001b[0m\n",
      "File \u001b[1;32mcupy\\\\_core\\\\_kernel.pyx:159\u001b[0m, in \u001b[0;36mcupy._core._kernel._preprocess_args\u001b[1;34m()\u001b[0m\n",
      "File \u001b[1;32mcupy\\\\_core\\\\_kernel.pyx:145\u001b[0m, in \u001b[0;36mcupy._core._kernel._preprocess_arg\u001b[1;34m()\u001b[0m\n",
      "\u001b[1;31mTypeError\u001b[0m: Unsupported type <class 'list'>"
     ]
    }
   ],
   "source": [
    "from gqimax2.mapper import broadcasted_multiplies, broadcasted_multiplies_base4\n",
    "\n",
    "def weightsss_to_lambdass(lambdass, weightsss, indicesss):\n",
    "    num_qubits = len(weightsss)\n",
    "    lambdass_res = [None] * num_qubits\n",
    "    indicess_res = [None] * num_qubits\n",
    "    for i in range(num_qubits):\n",
    "        print(lambdass[i])\n",
    "        lambdass_res[i] = broadcasted_multiplies(lambdass[i], weightsss[i])\n",
    "        print(indicesss[i])\n",
    "        indicess_res[i] = broadcasted_multiplies_base4(indicesss[i])\n",
    "    return lambdass_res, indicess_res\n",
    "\n",
    "def map_noncx(lambdass, indicesss, lut_at_k):\n",
    "    weightsss = []\n",
    "    for indicess in indicesss:\n",
    "        weightss = []\n",
    "        for qubit, indices in enumerate(indicess):\n",
    "            weights = []\n",
    "            for index in indices:\n",
    "                if index == 0:\n",
    "                    weights.append(cp.array([0], dtype=cp.float32))\n",
    "                else: \n",
    "                    weights.append(lut_at_k[qubit][int(index) - 1])\n",
    "            weightss.append(weights)\n",
    "        weightsss.append(weightss)\n",
    "\n",
    "    return weightsss_to_lambdass(lambdass, weightsss, indicesss)\n",
    "for j, order in enumerate(ins.orders):\n",
    "    k = j // 2\n",
    "    if order == 0:\n",
    "        lambdass, indicesss = map_noncx(lambdass, indicesss, ins.lut[k])\n",
    "\n",
    "    else:\n",
    "        for _, indices, _ in ins.xoperators[k]:\n",
    "            lambdass, indicesss = map_cx(lambdass, indicesss, indices[0], indices[1])"
   ]
  },
  {
   "cell_type": "code",
   "execution_count": 21,
   "metadata": {},
   "outputs": [
    {
     "data": {
      "text/plain": [
       "[[[array([1.], dtype=float32),\n",
       "   array([1.], dtype=float32),\n",
       "   array([1.], dtype=float32)],\n",
       "  [array([1.], dtype=float32),\n",
       "   array([0.7109136 , 0.70327944], dtype=float32),\n",
       "   array([-0.70327944,  0.7109136 ], dtype=float32)],\n",
       "  [array([1.], dtype=float32),\n",
       "   array([-1.], dtype=float32),\n",
       "   array([1.], dtype=float32)],\n",
       "  [array([1.], dtype=float32),\n",
       "   array([-1.], dtype=float32),\n",
       "   array([1.], dtype=float32)]],\n",
       " [[array([ 0.8472551, -0.5311862], dtype=float32),\n",
       "   array([1.], dtype=float32),\n",
       "   array([0.5311862, 0.8472551], dtype=float32)],\n",
       "  [array([1.], dtype=float32),\n",
       "   array([1.], dtype=float32),\n",
       "   array([1.], dtype=float32)],\n",
       "  [array([1.], dtype=float32),\n",
       "   array([1.], dtype=float32),\n",
       "   array([1.], dtype=float32)],\n",
       "  [array([1.], dtype=float32),\n",
       "   array([1.], dtype=float32),\n",
       "   array([1.], dtype=float32)]]]"
      ]
     },
     "execution_count": 21,
     "metadata": {},
     "output_type": "execute_result"
    }
   ],
   "source": [
    "ins.lut"
   ]
  }
 ],
 "metadata": {
  "kernelspec": {
   "display_name": "Python 3",
   "language": "python",
   "name": "python3"
  },
  "language_info": {
   "codemirror_mode": {
    "name": "ipython",
    "version": 3
   },
   "file_extension": ".py",
   "mimetype": "text/x-python",
   "name": "python",
   "nbconvert_exporter": "python",
   "pygments_lexer": "ipython3",
   "version": "3.10.11"
  }
 },
 "nbformat": 4,
 "nbformat_minor": 2
}
