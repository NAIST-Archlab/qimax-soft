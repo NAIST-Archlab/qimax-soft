{
 "cells": [
  {
   "cell_type": "code",
   "execution_count": 4,
   "metadata": {},
   "outputs": [],
   "source": [
    "import numpy as np\n",
    "import matplotlib.pyplot as plt\n",
    "\n",
    "matrix = np.random.uniform(0, 1, (10, 10))\n",
    "a,b,c = np.linalg.svd(matrix)"
   ]
  },
  {
   "cell_type": "code",
   "execution_count": 8,
   "metadata": {},
   "outputs": [],
   "source": [
    "n = 3 # three sites = three legs\n",
    "psi = np.random.rand(2**3)\n",
    "psi = psi / np.linalg.norm(psi)  # random, normalized state vector\n",
    "psi = np.reshape(psi, (2, 2, 2)) # rewrite psi as rank-n tensor"
   ]
  },
  {
   "cell_type": "code",
   "execution_count": 9,
   "metadata": {},
   "outputs": [
    {
     "data": {
      "text/plain": [
       "[1, 3]"
      ]
     },
     "execution_count": 9,
     "metadata": {},
     "output_type": "execute_result"
    }
   ],
   "source": [
    "matrices = [1,2,3,4,5]\n",
    "m1 = matrices[::2][:-1]\n",
    "m2 = matrices[1::2]\n",
    "m1"
   ]
  },
  {
   "cell_type": "code",
   "execution_count": 16,
   "metadata": {},
   "outputs": [],
   "source": [
    "# reshape vector to matrix\n",
    "psi = np.reshape(psi, (2, 2**(n-1)))\n",
    "# SVD to split off first site\n",
    "U, Lambda, Vd = np.linalg.svd(psi, full_matrices=False)"
   ]
  },
  {
   "cell_type": "code",
   "execution_count": 18,
   "metadata": {},
   "outputs": [
    {
     "name": "stdout",
     "output_type": "stream",
     "text": [
      "5.670650521931188 5.670650521931187\n"
     ]
    }
   ],
   "source": [
    "import numpy as np\n",
    "random_matrices = [np.random.rand(4, 4) for _ in range(5)]\n",
    "random_matrices\n",
    "\n",
    "a = random_matrices[0] @ random_matrices[1] @ random_matrices[2] @ random_matrices[3] @ random_matrices[4]\n",
    "b = (random_matrices[0] @ random_matrices[1]) @ (random_matrices[2] @ random_matrices[3]) @ random_matrices[4]\n",
    "print(a[0][0], b[0][0])"
   ]
  },
  {
   "cell_type": "code",
   "execution_count": 18,
   "metadata": {},
   "outputs": [],
   "source": [
    "Us = []\n",
    "U = np.reshape(U, (1, 2, 2)) # mu1, s2, mu2\n",
    "Us.append(U)"
   ]
  },
  {
   "cell_type": "code",
   "execution_count": 19,
   "metadata": {},
   "outputs": [
    {
     "data": {
      "text/plain": [
       "((2, 2, 2), (2,), (2, 2))"
      ]
     },
     "execution_count": 19,
     "metadata": {},
     "output_type": "execute_result"
    }
   ],
   "source": [
    "psi_remainder = np.diag(Lambda) @ Vd                 # mu1 (s2 s3)\n",
    "psi_remainder = np.reshape(psi_remainder, (2*2, 2))  # (mu1 s2), s3\n",
    "U, Lambda, Vd = np.linalg.svd(psi_remainder, full_matrices=False)\n",
    "\n",
    "U = np.reshape(U, (2, 2, 2)) # mu1, s2, mu2\n",
    "Us.append(U)\n",
    "\n",
    "U.shape, Lambda.shape, Vd.shape"
   ]
  },
  {
   "cell_type": "code",
   "execution_count": 21,
   "metadata": {},
   "outputs": [
    {
     "data": {
      "text/plain": [
       "((2, 2, 1), (1,), (1, 1))"
      ]
     },
     "execution_count": 21,
     "metadata": {},
     "output_type": "execute_result"
    }
   ],
   "source": [
    "psi_remainder = np.diag(Lambda) @ Vd                 # mu1 (s2 s3)\n",
    "psi_remainder = np.reshape(psi_remainder, (2*2, 1))  # (mu1 s2), s3\n",
    "U, Lambda, Vd = np.linalg.svd(psi_remainder, full_matrices=False)\n",
    "\n",
    "U = np.reshape(U, (2, 2, 1)) # mu1, s2, mu2\n",
    "Us.append(U)\n",
    "\n",
    "U.shape, Lambda.shape, Vd.shape"
   ]
  }
 ],
 "metadata": {
  "kernelspec": {
   "display_name": "Python 3",
   "language": "python",
   "name": "python3"
  },
  "language_info": {
   "codemirror_mode": {
    "name": "ipython",
    "version": 3
   },
   "file_extension": ".py",
   "mimetype": "text/x-python",
   "name": "python",
   "nbconvert_exporter": "python",
   "pygments_lexer": "ipython3",
   "version": "3.11.5"
  }
 },
 "nbformat": 4,
 "nbformat_minor": 2
}
