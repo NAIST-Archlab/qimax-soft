{
 "cells": [
  {
   "cell_type": "code",
   "execution_count": 18,
   "metadata": {},
   "outputs": [],
   "source": [
    "from gqimax.instructor import Instructor\n",
    "\n",
    "num_qubits = 5\n",
    "ins = Instructor(num_qubits)\n",
    "ins.append('h', 0)\n",
    "for i in range(0, num_qubits - 1):\n",
    "    ins.append('cx', [i, i + 1])\n",
    "ins.run()"
   ]
  },
  {
   "cell_type": "code",
   "execution_count": 19,
   "metadata": {},
   "outputs": [
    {
     "data": {
      "text/plain": [
       "[array([1.]), array([1.]), array([1.]), array([1.]), array([1.])]"
      ]
     },
     "execution_count": 19,
     "metadata": {},
     "output_type": "execute_result"
    }
   ],
   "source": [
    "ins.lambdass"
   ]
  },
  {
   "cell_type": "code",
   "execution_count": 20,
   "metadata": {},
   "outputs": [
    {
     "data": {
      "text/plain": [
       "[array([[1, 1, 1, 1, 1]], dtype=int8),\n",
       " array([[3, 3, 0, 0, 0]], dtype=int8),\n",
       " array([[0, 3, 3, 0, 0]], dtype=int8),\n",
       " array([[0, 0, 3, 3, 0]], dtype=int8),\n",
       " array([[0, 0, 0, 3, 3]], dtype=int8)]"
      ]
     },
     "execution_count": 20,
     "metadata": {},
     "output_type": "execute_result"
    }
   ],
   "source": [
    "ins.indicesss"
   ]
  }
 ],
 "metadata": {
  "kernelspec": {
   "display_name": "Python 3",
   "language": "python",
   "name": "python3"
  },
  "language_info": {
   "codemirror_mode": {
    "name": "ipython",
    "version": 3
   },
   "file_extension": ".py",
   "mimetype": "text/x-python",
   "name": "python",
   "nbconvert_exporter": "python",
   "pygments_lexer": "ipython3",
   "version": "3.10.11"
  }
 },
 "nbformat": 4,
 "nbformat_minor": 2
}
