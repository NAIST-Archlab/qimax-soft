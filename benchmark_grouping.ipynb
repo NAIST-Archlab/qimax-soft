{
 "cells": [
  {
   "cell_type": "code",
   "execution_count": 2,
   "metadata": {},
   "outputs": [
    {
     "name": "stdout",
     "output_type": "stream",
     "text": [
      "xoperator [[0, 1], [1, 2], [2, 3], [3, 0]]\n",
      "xoperator [[0, 1], [1, 2], [2, 3], [3, 0]]\n"
     ]
    }
   ],
   "source": [
    "from gqimax.instructor import Instructor\n",
    "import numpy as np\n",
    "num_qubits = 4\n",
    "num_layers = 2\n",
    "ins = Instructor(num_qubits)\n",
    "for k in range(num_layers):\n",
    "\tfor i in range(num_qubits - 1):\n",
    "\t\tins.append('cx', [i, i + 1])\n",
    "\tins.append('cx', [num_qubits - 1, 0])\n",
    "\tfor i in range(num_qubits):\n",
    "\t\tins.append('rx', i, np.random.rand())\n",
    "\t\tins.append('ry', i, np.random.rand())\n",
    "\t\tins.append('rz', i, np.random.rand())\n",
    "ins.operatoring()"
   ]
  },
  {
   "cell_type": "code",
   "execution_count": 3,
   "metadata": {},
   "outputs": [
    {
     "data": {
      "text/plain": [
       "[('rx', 0, 0.5450365301464453),\n",
       " ('ry', 0, 0.8412686364740102),\n",
       " ('rz', 0, 0.95166003065578),\n",
       " ('rx', 1, 0.630003914531686),\n",
       " ('ry', 1, 0.2528621348141149),\n",
       " ('rz', 1, 0.39830942174952344),\n",
       " ('rx', 2, 0.482215383097903),\n",
       " ('ry', 2, 0.0875942919442928),\n",
       " ('rz', 2, 0.3337116493032458),\n",
       " ('rx', 3, 0.648454692786165),\n",
       " ('ry', 3, 0.9231271463439983),\n",
       " ('rz', 3, 0.613089698651191)]"
      ]
     },
     "execution_count": 3,
     "metadata": {},
     "output_type": "execute_result"
    }
   ],
   "source": [
    "ins.operator"
   ]
  }
 ],
 "metadata": {
  "kernelspec": {
   "display_name": "Python 3",
   "language": "python",
   "name": "python3"
  },
  "language_info": {
   "codemirror_mode": {
    "name": "ipython",
    "version": 3
   },
   "file_extension": ".py",
   "mimetype": "text/x-python",
   "name": "python",
   "nbconvert_exporter": "python",
   "pygments_lexer": "ipython3",
   "version": "3.10.11"
  }
 },
 "nbformat": 4,
 "nbformat_minor": 2
}
