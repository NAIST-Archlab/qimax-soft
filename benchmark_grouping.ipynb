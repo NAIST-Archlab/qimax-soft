{
 "cells": [
  {
   "cell_type": "code",
   "execution_count": 2,
   "metadata": {},
   "outputs": [
    {
     "name": "stdout",
     "output_type": "stream",
     "text": [
      "Thời gian trung bình phương pháp cũ: 0.061904 giây\n",
      "Thời gian trung bình phương pháp mới: 0.068910 giây\n",
      "Kết quả giống nhau.\n",
      "Phương pháp mới không nhanh hơn.\n"
     ]
    }
   ],
   "source": [
    "import time\n",
    "from collections import defaultdict\n",
    "\n",
    "# Phương pháp cũ\n",
    "def group_instructorss_by_qubits(instructors: list, num_qubits: int) -> list:\n",
    "    grouped_instructors = []\n",
    "    for sublist in instructors:\n",
    "        groups = {i: [] for i in range(num_qubits)}\n",
    "        for instructor in sublist:\n",
    "            index = instructor[1]\n",
    "            groups[index].append(instructor)\n",
    "        grouped_instructors.append([groups[i] for i in range(num_qubits)])\n",
    "    return grouped_instructors\n",
    "\n",
    "# Phương pháp mới\n",
    "def group_instructors_by_qubits_alt(instructors: list, num_qubits: int) -> list:\n",
    "    grouped_instructors = []\n",
    "    for sublist in instructors:\n",
    "        groups = defaultdict(list)\n",
    "        for instructor in sublist:\n",
    "            index = instructor[1]\n",
    "            groups[index].append(instructor)\n",
    "        grouped_instructors.append([groups[i] for i in range(num_qubits)])\n",
    "    return grouped_instructors\n",
    "\n",
    "# Tạo dữ liệu đầu vào\n",
    "num_qubits = 10\n",
    "num_sublists = 1000\n",
    "instructors_per_sublist = 1000\n",
    "instructors = [\n",
    "    [['gate', qubit % num_qubits, 0] for qubit in range(instructors_per_sublist)]\n",
    "    for _ in range(num_sublists)\n",
    "]\n",
    "\n",
    "# Benchmark phương pháp cũ\n",
    "start_time = time.time()\n",
    "for _ in range(100):\n",
    "    result_old = group_instructorss_by_qubits(instructors, num_qubits)\n",
    "old_time = (time.time() - start_time) / 100\n",
    "print(f\"Thời gian trung bình phương pháp cũ: {old_time:.6f} giây\")\n",
    "\n",
    "# Benchmark phương pháp mới\n",
    "start_time = time.time()\n",
    "for _ in range(100):\n",
    "    result_new = group_instructors_by_qubits_alt(instructors, num_qubits)\n",
    "new_time = (time.time() - start_time) / 100\n",
    "print(f\"Thời gian trung bình phương pháp mới: {new_time:.6f} giây\")\n",
    "\n",
    "# So sánh kết quả\n",
    "if result_old == result_new:\n",
    "    print(\"Kết quả giống nhau.\")\n",
    "else:\n",
    "    print(\"Kết quả khác nhau.\")\n",
    "\n",
    "# Đánh giá cải thiện\n",
    "if new_time < old_time:\n",
    "    improvement = (old_time - new_time) / old_time * 100\n",
    "    print(f\"Phương pháp mới nhanh hơn {improvement:.2f}%\")\n",
    "else:\n",
    "    print(\"Phương pháp mới không nhanh hơn.\")"
   ]
  }
 ],
 "metadata": {
  "kernelspec": {
   "display_name": "Python 3",
   "language": "python",
   "name": "python3"
  },
  "language_info": {
   "codemirror_mode": {
    "name": "ipython",
    "version": 3
   },
   "file_extension": ".py",
   "mimetype": "text/x-python",
   "name": "python",
   "nbconvert_exporter": "python",
   "pygments_lexer": "ipython3",
   "version": "3.10.11"
  }
 },
 "nbformat": 4,
 "nbformat_minor": 2
}
