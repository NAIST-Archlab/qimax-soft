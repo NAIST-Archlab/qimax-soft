{
 "cells": [
  {
   "cell_type": "code",
   "execution_count": 8,
   "metadata": {},
   "outputs": [],
   "source": [
    "import sympy, numpy as np\n",
    "from sojo.utils import generate_pauli_combination\n",
    "from sojo.pc import PauliComposer"
   ]
  },
  {
   "cell_type": "code",
   "execution_count": 10,
   "metadata": {},
   "outputs": [
    {
     "name": "stdout",
     "output_type": "stream",
     "text": [
      "[[4.+0.j 2.-2.j 2.-2.j 0.-2.j]\n",
      " [2.+2.j 0.+0.j 2.+0.j 0.+0.j]\n",
      " [2.+2.j 2.+0.j 0.+0.j 0.+0.j]\n",
      " [0.+2.j 0.+0.j 0.+0.j 0.+0.j]]\n"
     ]
    }
   ],
   "source": [
    "ps = generate_pauli_combination(2)\n",
    "k = np.zeros((4, 4), dtype = np.complex128)\n",
    "for p in ps:\n",
    "\n",
    "    k += (PauliComposer(p.upper()).to_matrix())\n",
    "print(k)"
   ]
  }
 ],
 "metadata": {
  "kernelspec": {
   "display_name": "Python 3",
   "language": "python",
   "name": "python3"
  },
  "language_info": {
   "codemirror_mode": {
    "name": "ipython",
    "version": 3
   },
   "file_extension": ".py",
   "mimetype": "text/x-python",
   "name": "python",
   "nbconvert_exporter": "python",
   "pygments_lexer": "ipython3",
   "version": "3.11.5"
  }
 },
 "nbformat": 4,
 "nbformat_minor": 2
}
