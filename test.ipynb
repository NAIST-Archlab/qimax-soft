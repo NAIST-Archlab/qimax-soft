{
 "cells": [
  {
   "cell_type": "code",
   "execution_count": 26,
   "metadata": {},
   "outputs": [
    {
     "name": "stdout",
     "output_type": "stream",
     "text": [
      "The autoreload extension is already loaded. To reload it, use:\n",
      "  %reload_ext autoreload\n"
     ]
    }
   ],
   "source": [
    "from gqimax.instructor import Instructor\n",
    "%load_ext autoreload\n",
    "%autoreload 2\n",
    "ins = Instructor(4)\n",
    "for i in range(10000):\n",
    "\tins.append(\"h\", 0)\n",
    "\tins.append(\"rx\", 1, 0.78)\n",
    "\tins.append(\"h\", 2)\n",
    "\tins.append(\"h\", 0)\n",
    "\tins.append(\"cx\", [0, 1])\n",
    "\tins.append(\"h\", 2)\n",
    "\tins.append(\"h\", 2)\n",
    "\tins.append(\"ry\", 0, 0.56)\n",
    "\tins.append(\"cx\", [1, 2])\n",
    "\tins.append(\"h\", 1)\n",
    "\tins.append(\"h\", 3)\n",
    "\tins.append(\"h\", 3)\n",
    "\tins.append(\"h\", 3)\n",
    "\tins.append(\"h\", 3)\n",
    "\tins.append(\"h\", 0)\n",
    "\tins.append(\"h\", 1)\n",
    "\tins.append(\"h\", 2)\n",
    "\tins.append(\"h\", 3)\n",
    "\tins.append(\"h\", 0)\n",
    "\tins.append(\"h\", 2)\n",
    "\tins.append(\"cx\", [1, 3])\n",
    "ins.operatoring()\n"
   ]
  },
  {
   "cell_type": "code",
   "execution_count": 27,
   "metadata": {},
   "outputs": [
    {
     "name": "stdout",
     "output_type": "stream",
     "text": [
      "110011\n"
     ]
    }
   ],
   "source": [
    "from gqimax.instructor import group_instructorss_by_qubits\n",
    "print(len(ins.operators)*len(ins.operators[0]))\n",
    "grouped_instructorss = group_instructorss_by_qubits(ins.operators, ins.num_qubits)\n"
   ]
  },
  {
   "cell_type": "code",
   "execution_count": 11,
   "metadata": {},
   "outputs": [],
   "source": [
    "from qimax.instructor import construct_lut_noncx\n",
    "LUT = construct_lut_noncx(grouped_instructorss, ins.num_qubits)\n"
   ]
  },
  {
   "cell_type": "code",
   "execution_count": 12,
   "metadata": {},
   "outputs": [
    {
     "data": {
      "text/plain": [
       "True"
      ]
     },
     "execution_count": 12,
     "metadata": {},
     "output_type": "execute_result"
    }
   ],
   "source": [
    "from gqimax.instructor import construct_lut_noncx\n",
    "LUT2 = construct_lut_noncx(grouped_instructorss, ins.num_qubits)\n",
    "import numpy as np\n",
    "np.allclose(LUT, LUT2.get())"
   ]
  },
  {
   "cell_type": "code",
   "execution_count": 44,
   "metadata": {},
   "outputs": [
    {
     "name": "stdout",
     "output_type": "stream",
     "text": [
      "The autoreload extension is already loaded. To reload it, use:\n",
      "  %reload_ext autoreload\n"
     ]
    },
    {
     "ename": "TypeError",
     "evalue": "list indices must be integers or slices, not ndarray",
     "output_type": "error",
     "traceback": [
      "\u001b[1;31m---------------------------------------------------------------------------\u001b[0m",
      "\u001b[1;31mTypeError\u001b[0m                                 Traceback (most recent call last)",
      "Cell \u001b[1;32mIn[44], line 23\u001b[0m\n\u001b[0;32m     20\u001b[0m ins\u001b[38;5;241m.\u001b[39mLUT \u001b[38;5;241m=\u001b[39m construct_lut_noncx(grouped_instructorss, ins\u001b[38;5;241m.\u001b[39mnum_qubits)\n\u001b[0;32m     22\u001b[0m stb \u001b[38;5;241m=\u001b[39m PStabilizer(\u001b[38;5;241m0\u001b[39m, num_qubits)\n\u001b[1;32m---> 23\u001b[0m \u001b[43mstb\u001b[49m\u001b[38;5;241;43m.\u001b[39;49m\u001b[43mmap\u001b[49m\u001b[43m(\u001b[49m\u001b[43mins\u001b[49m\u001b[43m)\u001b[49m\n",
      "File \u001b[1;32mc:\\Users\\Public\\Documents\\Github\\qimax\\gqimax\\pstabilizer.py:30\u001b[0m, in \u001b[0;36mPStabilizer.map\u001b[1;34m(self, ins)\u001b[0m\n\u001b[0;32m     28\u001b[0m k \u001b[38;5;241m=\u001b[39m j \u001b[38;5;241m/\u001b[39m\u001b[38;5;241m/\u001b[39m \u001b[38;5;241m2\u001b[39m\n\u001b[0;32m     29\u001b[0m \u001b[38;5;28;01mif\u001b[39;00m order \u001b[38;5;241m==\u001b[39m \u001b[38;5;241m0\u001b[39m:\n\u001b[1;32m---> 30\u001b[0m     \u001b[38;5;28mself\u001b[39m\u001b[38;5;241m.\u001b[39mindices, \u001b[38;5;28mself\u001b[39m\u001b[38;5;241m.\u001b[39mlambdas \u001b[38;5;241m=\u001b[39m \u001b[43mmap_noncx\u001b[49m\u001b[43m(\u001b[49m\u001b[38;5;28;43mself\u001b[39;49m\u001b[38;5;241;43m.\u001b[39;49m\u001b[43mindices\u001b[49m\u001b[43m,\u001b[49m\u001b[43m \u001b[49m\u001b[38;5;28;43mself\u001b[39;49m\u001b[38;5;241;43m.\u001b[39;49m\u001b[43mlambdas\u001b[49m\u001b[43m,\u001b[49m\u001b[43m \u001b[49m\u001b[43mins\u001b[49m\u001b[38;5;241;43m.\u001b[39;49m\u001b[43mLUT\u001b[49m\u001b[43m,\u001b[49m\u001b[43m \u001b[49m\u001b[43mk\u001b[49m\u001b[43m,\u001b[49m\u001b[43m \u001b[49m\u001b[38;5;28;43mself\u001b[39;49m\u001b[38;5;241;43m.\u001b[39;49m\u001b[43mnum_qubits\u001b[49m\u001b[43m)\u001b[49m\n\u001b[0;32m     31\u001b[0m \u001b[38;5;28;01melse\u001b[39;00m:\n\u001b[0;32m     32\u001b[0m     \u001b[38;5;28mself\u001b[39m\u001b[38;5;241m.\u001b[39mindices, \u001b[38;5;28mself\u001b[39m\u001b[38;5;241m.\u001b[39mlambdas \u001b[38;5;241m=\u001b[39m map_cx(\u001b[38;5;28mself\u001b[39m\u001b[38;5;241m.\u001b[39mindices, \u001b[38;5;28mself\u001b[39m\u001b[38;5;241m.\u001b[39mlambdas, ins\u001b[38;5;241m.\u001b[39mxoperators[k], \u001b[38;5;28mself\u001b[39m\u001b[38;5;241m.\u001b[39mnum_qubits)\n",
      "File \u001b[1;32mc:\\Users\\Public\\Documents\\Github\\qimax\\gqimax\\pstabilizer.py:60\u001b[0m, in \u001b[0;36mmap_noncx\u001b[1;34m(indices, lambdas, LUT, k, num_qubits)\u001b[0m\n\u001b[0;32m     58\u001b[0m \u001b[38;5;28;01mfor\u001b[39;00m index \u001b[38;5;129;01min\u001b[39;00m indices:\n\u001b[0;32m     59\u001b[0m     weights \u001b[38;5;241m=\u001b[39m []\n\u001b[1;32m---> 60\u001b[0m     word \u001b[38;5;241m=\u001b[39m \u001b[43mindex_to_word\u001b[49m\u001b[43m(\u001b[49m\u001b[43mindex\u001b[49m\u001b[43m,\u001b[49m\u001b[43m \u001b[49m\u001b[43mnum_qubits\u001b[49m\u001b[43m)\u001b[49m\n\u001b[0;32m     61\u001b[0m     \u001b[38;5;28;01mfor\u001b[39;00m j, char \u001b[38;5;129;01min\u001b[39;00m \u001b[38;5;28menumerate\u001b[39m(word):\n\u001b[0;32m     62\u001b[0m         i_in_lut \u001b[38;5;241m=\u001b[39m char_to_index(char) \u001b[38;5;241m-\u001b[39m \u001b[38;5;241m1\u001b[39m\n",
      "File \u001b[1;32mc:\\Users\\Public\\Documents\\Github\\qimax\\gqimax\\utils.py:22\u001b[0m, in \u001b[0;36mindex_to_word\u001b[1;34m(index, num_qubits)\u001b[0m\n\u001b[0;32m     20\u001b[0m     \u001b[38;5;28;01mraise\u001b[39;00m \u001b[38;5;167;01mValueError\u001b[39;00m(\u001b[38;5;124m'\u001b[39m\u001b[38;5;124mIndex out of bounds. must from 0 to 4**num_qubits - 1\u001b[39m\u001b[38;5;124m'\u001b[39m)\n\u001b[0;32m     21\u001b[0m \u001b[38;5;28;01mfor\u001b[39;00m _ \u001b[38;5;129;01min\u001b[39;00m \u001b[38;5;28mrange\u001b[39m(num_qubits):\n\u001b[1;32m---> 22\u001b[0m     word\u001b[38;5;241m.\u001b[39mappend(\u001b[43mchar_map\u001b[49m\u001b[43m[\u001b[49m\u001b[43mindex\u001b[49m\u001b[43m \u001b[49m\u001b[38;5;241;43m%\u001b[39;49m\u001b[43m \u001b[49m\u001b[38;5;241;43m4\u001b[39;49m\u001b[43m]\u001b[49m)\n\u001b[0;32m     23\u001b[0m     index \u001b[38;5;241m/\u001b[39m\u001b[38;5;241m/\u001b[39m\u001b[38;5;241m=\u001b[39m \u001b[38;5;241m4\u001b[39m\n\u001b[0;32m     24\u001b[0m \u001b[38;5;28;01mreturn\u001b[39;00m \u001b[38;5;124m'\u001b[39m\u001b[38;5;124m'\u001b[39m\u001b[38;5;241m.\u001b[39mjoin(\u001b[38;5;28mreversed\u001b[39m(word))\n",
      "\u001b[1;31mTypeError\u001b[0m: list indices must be integers or slices, not ndarray"
     ]
    }
   ],
   "source": [
    "from gqimax.instructor import group_instructorss_by_qubits\n",
    "from gqimax.pstabilizer import PStabilizer\n",
    "%load_ext autoreload\n",
    "%autoreload 2\n",
    "num_qubits = 3\n",
    "num_layers = 2\n",
    "\n",
    "ins = Instructor(num_qubits)\n",
    "for k in range(num_layers):\n",
    "\tfor i in range(num_qubits - 1):\n",
    "\t\tins.append('cx', [i, i + 1])\n",
    "\tins.append('cx', [num_qubits - 1, 0])\n",
    "\tfor i in range(num_qubits):\n",
    "\t\tins.append('rx', i, np.random.rand())\n",
    "\t\tins.append('ry', i, np.random.rand())\n",
    "\t\tins.append('rz', i, np.random.rand())\n",
    "ins.operatoring()\n",
    "\n",
    "grouped_instructorss = group_instructorss_by_qubits(ins.operators, ins.num_qubits)\n",
    "ins.LUT = construct_lut_noncx(grouped_instructorss, ins.num_qubits)\n",
    "\n",
    "stb = PStabilizer(0, num_qubits)\n",
    "stb.map(ins)\n"
   ]
  },
  {
   "cell_type": "code",
   "execution_count": 41,
   "metadata": {},
   "outputs": [],
   "source": [
    "import qiskit\n",
    "\n",
    "qc = qiskit.QuantumCircuit(num_qubits)\n",
    "for k in range(num_layers):\n",
    "\tfor i in range(num_qubits - 1):\n",
    "\t\tqc.cx(i, i + 1)\n",
    "\tqc.cx(num_qubits - 1, 0)\n",
    "\tfor i in range(num_qubits):\n",
    "\t\tqc.rx(np.random.rand(), i)\n",
    "\t\tqc.ry(np.random.rand(), i)\n",
    "\t\tqc.rz(np.random.rand(), i)\n",
    "\tqc.rz(np.random.rand(), i)\n"
   ]
  }
 ],
 "metadata": {
  "kernelspec": {
   "display_name": "Python 3",
   "language": "python",
   "name": "python3"
  },
  "language_info": {
   "codemirror_mode": {
    "name": "ipython",
    "version": 3
   },
   "file_extension": ".py",
   "mimetype": "text/x-python",
   "name": "python",
   "nbconvert_exporter": "python",
   "pygments_lexer": "ipython3",
   "version": "3.10.11"
  }
 },
 "nbformat": 4,
 "nbformat_minor": 2
}
