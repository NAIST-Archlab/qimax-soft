{
 "cells": [
  {
   "cell_type": "code",
   "execution_count": 8,
   "metadata": {},
   "outputs": [
    {
     "name": "stdout",
     "output_type": "stream",
     "text": [
      "[[array([1, 2, 1, 2]), array([-1,  3,  1,  1])]]\n",
      "[[array([1, 2, 4, 8], dtype=int64), array([1, 3, 6, 8], dtype=int64)]]\n"
     ]
    }
   ],
   "source": [
    "import cupy as cp\n",
    "\n",
    "def get_nonzero_ragged_and_indices_structured(x):\n",
    "    K, num_qubits, _, _ = x.shape\n",
    "    x_flat = x.reshape(K, num_qubits, -1)  # shape (K, num_qubits, 9)\n",
    "\n",
    "    nonzero_values = []\n",
    "    nonzero_indices_plus1 = []\n",
    "\n",
    "    for k in range(K):\n",
    "        values_row = []\n",
    "        indices_row = []\n",
    "        for q in range(num_qubits):\n",
    "            row = x_flat[k, q]\n",
    "            mask = row != 0\n",
    "            values = row[mask]\n",
    "            indices = cp.nonzero(mask)[0] + 1  # 1-based indices\n",
    "            values_row.append(values)\n",
    "            indices_row.append(indices)\n",
    "        nonzero_values.append(values_row)\n",
    "        nonzero_indices_plus1.append(indices_row)\n",
    "\n",
    "    return nonzero_values, nonzero_indices_plus1\n",
    "\n",
    "x = cp.array([\n",
    "    [[[1,  2,  0], [1,  0, 0], [0,  2, 0]],\n",
    "     [[-1, 0,  3], [0, 0, 1], [0, 1, 0]]]\n",
    "])  # shape (1, 2, 3, 3)\n",
    "\n",
    "values, indices = get_nonzero_ragged_and_indices_structured(x)\n",
    "\n",
    "print(values)\n",
    "print(indices)\n"
   ]
  }
 ],
 "metadata": {
  "kernelspec": {
   "display_name": "Python 3",
   "language": "python",
   "name": "python3"
  },
  "language_info": {
   "codemirror_mode": {
    "name": "ipython",
    "version": 3
   },
   "file_extension": ".py",
   "mimetype": "text/x-python",
   "name": "python",
   "nbconvert_exporter": "python",
   "pygments_lexer": "ipython3",
   "version": "3.10.11"
  }
 },
 "nbformat": 4,
 "nbformat_minor": 2
}
