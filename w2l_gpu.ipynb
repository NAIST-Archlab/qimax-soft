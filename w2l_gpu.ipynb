{
 "cells": [
  {
   "cell_type": "code",
   "execution_count": 68,
   "metadata": {},
   "outputs": [
    {
     "name": "stdout",
     "output_type": "stream",
     "text": [
      "Thời gian tinhs 0.0019989013671875\n",
      "[1. 1.]\n",
      "[[array([3.], dtype=float32), array([1., 2.], dtype=float32)], [array([3.], dtype=float32), array([1., 2.], dtype=float32)]]\n",
      "[array([3., 6.], dtype=float32), array([3., 6.], dtype=float32)]\n"
     ]
    }
   ],
   "source": [
    "import cupy as cp\n",
    "import time\n",
    "from gqimax2.mapper import broadcasted_multiplies, broadcasted_multiplies_base4\n",
    "\n",
    "lambdas = cp.array([1] * 2, dtype=cp.float32)\n",
    "arrayss = [\n",
    "    [cp.array([3], dtype=cp.float32), \n",
    "     cp.array([1, 2], dtype=cp.float32), \n",
    "     ] for i in range(2)\n",
    "]\n",
    "\n",
    "# arrayss_list = [\n",
    "#     [\n",
    "#         [cp.array([2, 1, 1], dtype=cp.float32),\n",
    "#          cp.array([1.2], dtype=cp.float32),\n",
    "#          cp.array([1, 2], dtype=cp.float32),\n",
    "#          cp.array([3, 4], dtype=cp.float32)]\n",
    "#         for _ in range(50000)\n",
    "#     ]\n",
    "#     for _ in range(10)\n",
    "# ]\n",
    "# lambdas_list = [lambdas for _ in range(10)]\n",
    "\n",
    "if len(arrayss) != lambdas.shape[0]:\n",
    "    raise ValueError(\"Kích thước của lambdas và arrayss không khớp.\")\n",
    "start1 = time.time()\n",
    "\n",
    "\n",
    "result_cp, offsets_result = broadcasted_multiplies(lambdas, arrayss)\n",
    "print(\"Thời gian tinhs\", time.time() - start1)\n",
    "# Nếu cần tách kết quả trên GPU\n",
    "weightss = cp.split(result_cp, offsets_result[1:].tolist())\n",
    "print(lambdas)\n",
    "print(arrayss)\n",
    "print(weightss)\n",
    "# start1 = time.time()\n",
    "# for i in range(10):\n",
    "#     shapes, data, offsets, offsets_result = prepare_data_from_arrayss(arrayss_list[i])\n",
    "#     result_cp, offsets_result = broadcasted_multiplies_cuda(lambdas_list[i], shapes, data, offsets, offsets_result)\n",
    "# print(\"Thời gian tinhs2\", time.time() - start1)\n",
    "\n",
    "\n",
    "# for i, weights in enumerate(weightss):\n",
    "#     print(f\"Kết quả bộ {i}: {weights.shape}\")"
   ]
  },
  {
   "cell_type": "code",
   "execution_count": 69,
   "metadata": {},
   "outputs": [
    {
     "data": {
      "text/plain": [
       "array([1., 1.], dtype=float32)"
      ]
     },
     "execution_count": 69,
     "metadata": {},
     "output_type": "execute_result"
    }
   ],
   "source": [
    "lambdas"
   ]
  },
  {
   "cell_type": "code",
   "execution_count": 70,
   "metadata": {},
   "outputs": [
    {
     "data": {
      "text/plain": [
       "[array([8, 9]), array([8, 9])]"
      ]
     },
     "execution_count": 70,
     "metadata": {},
     "output_type": "execute_result"
    }
   ],
   "source": [
    "import cupy as cp\n",
    "\n",
    "import time\n",
    "\n",
    "start1 = time.time()\n",
    "arrayss = [\n",
    "    [\n",
    "        cp.array([2], dtype=cp.int32), \n",
    "     \tcp.array([0, 1], dtype=cp.int32),\n",
    "\t] for _ in range(2)\n",
    "]\n",
    "\n",
    "# n_jobs = 10\n",
    "# arrayss_list = [\n",
    "#     [\n",
    "#         [cp.array([2, 1, 1], dtype=cp.float32),\n",
    "#          cp.array([1.2], dtype=cp.float32),\n",
    "#          cp.array([1, 2], dtype=cp.float32),\n",
    "#          cp.array([3, 4], dtype=cp.float32)]\n",
    "#         for _ in range(5000)\n",
    "#     ]\n",
    "#     for _ in range(n_jobs)\n",
    "# ]\n",
    "\n",
    "\n",
    "\n",
    "\n",
    "# print(\"Khởi tạo mảng:\", time.time() - start1)\n",
    "\n",
    "# start1 = time.time()\n",
    "# for i in range(10):\n",
    "# \tresult_gpu, offsets_result = encode_base4s_gpu(arrayss_list[i])\n",
    "# print(\"encode:\", time.time() - start1)\n",
    "\n",
    "result_gpu, offsets_result = broadcasted_multiplies_base4(arrayss)\n",
    "positionss = cp.split(result_gpu, offsets_result[1:].tolist())\n",
    "# for i, res in enumerate(positionss):  # In 3 bộ đầu tiên để kiểm tra\n",
    "#     print(f\"Kết quả bộ {i}: {res}\")\n",
    "positionss"
   ]
  },
  {
   "cell_type": "code",
   "execution_count": 71,
   "metadata": {},
   "outputs": [
    {
     "data": {
      "text/plain": [
       "[[array([2]), array([0, 1])], [array([2]), array([0, 1])]]"
      ]
     },
     "execution_count": 71,
     "metadata": {},
     "output_type": "execute_result"
    }
   ],
   "source": [
    "arrayss"
   ]
  },
  {
   "cell_type": "code",
   "execution_count": 72,
   "metadata": {},
   "outputs": [
    {
     "data": {
      "text/plain": [
       "[array([8, 9]), array([8, 9])]"
      ]
     },
     "execution_count": 72,
     "metadata": {},
     "output_type": "execute_result"
    }
   ],
   "source": [
    "positionss"
   ]
  },
  {
   "cell_type": "code",
   "execution_count": 73,
   "metadata": {},
   "outputs": [
    {
     "data": {
      "text/plain": [
       "[array([3., 6.], dtype=float32), array([3., 6.], dtype=float32)]"
      ]
     },
     "execution_count": 73,
     "metadata": {},
     "output_type": "execute_result"
    }
   ],
   "source": [
    "weightss"
   ]
  },
  {
   "cell_type": "code",
   "execution_count": 74,
   "metadata": {},
   "outputs": [
    {
     "name": "stdout",
     "output_type": "stream",
     "text": [
      "Positions: [8 9]\n",
      "Total values: [ 6. 12.]\n"
     ]
    }
   ],
   "source": [
    "import cupy as cp\n",
    "from gqimax2.mapper import sum_distributions\n",
    "\n",
    "\n",
    "\n",
    "positions_gpu, totals_gpu = sum_distributions(weightss, positionss)\n",
    "\n",
    "print(\"Positions:\", positions_gpu)\n",
    "print(\"Total values:\", totals_gpu)"
   ]
  },
  {
   "cell_type": "code",
   "execution_count": 86,
   "metadata": {},
   "outputs": [
    {
     "name": "stdout",
     "output_type": "stream",
     "text": [
      "[array([[1, 3, 4],\n",
      "       [1, 3, 5],\n",
      "       [2, 3, 4],\n",
      "       [2, 3, 5]]), array([[1, 2, 4],\n",
      "       [1, 2, 5],\n",
      "       [1, 3, 4],\n",
      "       [1, 3, 5]])]\n"
     ]
    }
   ],
   "source": [
    "import cupy as cp\n",
    "import numpy as np\n",
    "import itertools\n",
    "\n",
    "# Example input\n",
    "arrayss = [\n",
    "    [\n",
    "        cp.array([4], dtype=cp.int32),\n",
    "        cp.array([0], dtype=cp.int32),\n",
    "        cp.array([0], dtype=cp.int32)\n",
    "    ],\n",
    "    [\n",
    "        cp.array([2], dtype=cp.int32),\n",
    "        cp.array([0, 1], dtype=cp.int32),\n",
    "        cp.array([0, 1], dtype=cp.int32)\n",
    "    ]\n",
    "]\n",
    "\n",
    "import cupy as cp\n",
    "import numpy as np\n",
    "import itertools\n",
    "\n",
    "arrayss = [\n",
    "    [\n",
    "        cp.array([1,2], dtype=cp.int32),\n",
    "        cp.array([3], dtype=cp.int32),\n",
    "        cp.array([4,5], dtype=cp.int32)\n",
    "    ],\n",
    "    [\n",
    "        cp.array([1], dtype=cp.int32),\n",
    "        cp.array([2, 3], dtype=cp.int32),\n",
    "        cp.array([4, 5], dtype=cp.int32)\n",
    "    ]\n",
    "]\n",
    "\n",
    "import cupy as cp\n",
    "\n",
    "def broadcast_batches(arrayss):\n",
    "    results = []\n",
    "    for arrays in arrayss:\n",
    "        # Expand all arrays to shape (1, ..., N, ..., 1)\n",
    "        reshaped = [a.reshape((1,) * i + (-1,) + (1,) * (len(arrays) - i - 1)) for i, a in enumerate(arrays)]\n",
    "        # Broadcast to common shape\n",
    "        broadcasted = cp.broadcast_arrays(*reshaped)\n",
    "        # Stack along last axis to get combinations\n",
    "        stacked = cp.stack(broadcasted, axis=-1)\n",
    "        # Reshape to (num_combinations, num_features)\n",
    "        results.append(stacked.reshape(-1, len(arrays)))\n",
    "    return results\n",
    "\n",
    "print(broadcast_batches(arrayss))"
   ]
  },
  {
   "cell_type": "code",
   "execution_count": 100,
   "metadata": {},
   "outputs": [
    {
     "name": "stdout",
     "output_type": "stream",
     "text": [
      "Indices:\n",
      " [[0 1]\n",
      " [0 2]\n",
      " [1 1]\n",
      " [1 2]\n",
      " [1 3]]\n",
      "Values:\n",
      " [2 2 3 2 4]\n"
     ]
    }
   ],
   "source": [
    "import cupy as cp\n",
    "import cupyx as cpx\n",
    "# Step 1: Simulate your ragged_matrix and ragged_indices in GPU\n",
    "ragged_matrix = [\n",
    "    cp.array([1, 2, 3, 4], dtype=cp.int32),\n",
    "    cp.array([1, 2], dtype=cp.int32)\n",
    "]\n",
    "\n",
    "ragged_indices = [\n",
    "    cp.array([[0,1], [0,2], [1,1], [1,3]], dtype=cp.int32),\n",
    "    cp.array([[0,1], [1,2]], dtype=cp.int32)\n",
    "]\n",
    "\n",
    "\n",
    "def sum_distributions(weightss, ragged_indices):\n",
    "    # Step 1: Flatten inputs\n",
    "    values = cp.concatenate(weightss)\n",
    "    idx_concat = cp.concatenate(ragged_indices)\n",
    "\n",
    "    # Special case: only one value\n",
    "    if values.size == 1:\n",
    "        return idx_concat.reshape(1, -1), values\n",
    "\n",
    "    # General case\n",
    "    base = 10000\n",
    "    keys = idx_concat[:, 0] * base + idx_concat[:, 1]\n",
    "    unique_keys, inverse = cp.unique(keys, return_inverse=True)\n",
    "\n",
    "    sums = cp.zeros(len(unique_keys), dtype=cp.int32)\n",
    "    cpx.scatter_add(sums, inverse, values)\n",
    "\n",
    "    decoded_indices = cp.stack([unique_keys // base, unique_keys % base], axis=1)\n",
    "    return decoded_indices, sums\n",
    "\n",
    "decoded_indices, sums = sum_distributions(ragged_matrix, ragged_indices)\n",
    "print(\"Indices:\\n\", decoded_indices)\n",
    "print(\"Values:\\n\", sums)\n"
   ]
  },
  {
   "cell_type": "code",
   "execution_count": null,
   "metadata": {},
   "outputs": [
    {
     "name": "stdout",
     "output_type": "stream",
     "text": [
      "Indices:\n",
      " [[1 0 0]\n",
      " [2 0 0]\n",
      " [3 0 0]]\n",
      "Values:\n",
      " [-0.36763045  0.9023816  -0.22484507]\n"
     ]
    }
   ],
   "source": [
    "def sum_distributions(weightss, ragged_indices):\n",
    "\n",
    "    return decoded_indices, sums\n",
    "\n",
    "\n",
    "ragged_matrix = [\n",
    "    cp.array([-0.36763045,  0.9023816 , -0.22484507]),\n",
    "]\n",
    "\n",
    "ragged_indices = [\n",
    "    cp.array([[1, 0, 0], [2,0,0], [3, 0, 0]], dtype=cp.int32)\n",
    "]\n",
    "\n",
    "       \n",
    "decoded_indices, sums = sum_distributions(ragged_matrix, ragged_indices)\n",
    "print(\"Indices:\\n\", decoded_indices)\n",
    "print(\"Values:\\n\", sums)"
   ]
  },
  {
   "cell_type": "code",
   "execution_count": 102,
   "metadata": {},
   "outputs": [
    {
     "name": "stdout",
     "output_type": "stream",
     "text": [
      "Example 1 Indices:\n",
      " [[0 1]\n",
      " [0 2]\n",
      " [1 1]\n",
      " [1 2]\n",
      " [1 3]]\n",
      "Example 1 Values:\n",
      " [2 2 3 2 4]\n",
      "Example 2 Indices:\n",
      " [[1 0 0]\n",
      " [2 0 0]\n",
      " [3 0 0]]\n",
      "Example 2 Values:\n",
      " [-0.36763045  0.9023816  -0.22484507]\n"
     ]
    }
   ],
   "source": [
    "import cupy as cp\n",
    "\n",
    "def sum_by_indices(ragged_indices, ragged_matrix):\n",
    "    \"\"\"\n",
    "    Sum values from ragged_matrix based on corresponding indices in ragged_indices.\n",
    "    If indices are identical, their values are summed; otherwise, they are appended to the result.\n",
    "\n",
    "    Args:\n",
    "        ragged_indices (list of cp.ndarray): List of CuPy arrays containing multi-dimensional indices.\n",
    "        ragged_matrix (list of cp.ndarray): List of CuPy arrays containing values to sum.\n",
    "\n",
    "    Returns:\n",
    "        tuple: (unique_indices, summed_values)\n",
    "            - unique_indices: CuPy array of unique indices.\n",
    "            - summed_values: CuPy array of summed values corresponding to unique indices.\n",
    "    \"\"\"\n",
    "    # Concatenate all indices into a single array of shape (N, k)\n",
    "    all_indices = cp.vstack(ragged_indices)\n",
    "    \n",
    "    # Concatenate all values into a single array of shape (N,)\n",
    "    all_values = cp.concatenate(ragged_matrix)\n",
    "    \n",
    "    # Total number of index-value pairs\n",
    "    N = all_indices.shape[0]\n",
    "    \n",
    "    # Sort indices lexicographically by rows\n",
    "    sort_idx = cp.lexsort(all_indices.T[::-1])\n",
    "    sorted_indices = all_indices[sort_idx]\n",
    "    sorted_values = all_values[sort_idx]\n",
    "    \n",
    "    # Identify where rows differ to mark the start of each unique group\n",
    "    diff = (sorted_indices[1:] != sorted_indices[:-1]).any(axis=1)\n",
    "    is_new = cp.concatenate([cp.array([True]), diff])\n",
    "    split_idx = cp.where(is_new)[0]\n",
    "    \n",
    "    # Extract unique indices\n",
    "    unique_indices = sorted_indices[split_idx]\n",
    "    \n",
    "    # Compute sums for each group using cumulative sum\n",
    "    cumsum = cp.cumsum(sorted_values)\n",
    "    total_cumsum = cp.concatenate([cp.array([0]), cumsum])\n",
    "    group_sums = total_cumsum[cp.concatenate([split_idx[1:], cp.array([N])])] - total_cumsum[split_idx]\n",
    "    \n",
    "    return unique_indices, group_sums\n",
    "\n",
    "# Example usage:\n",
    "if __name__ == \"__main__\":\n",
    "    # Example 1\n",
    "    ragged_matrix1 = [\n",
    "        cp.array([1, 2, 3, 4]),\n",
    "        cp.array([1, 2])\n",
    "    ]\n",
    "    ragged_indices1 = [\n",
    "        cp.array([[0,1], [0,2], [1,1], [1,3]], dtype=cp.int8),\n",
    "        cp.array([[0,1], [1,2]], dtype=cp.int8)\n",
    "    ]\n",
    "    indices1, values1 = sum_by_indices(ragged_indices1, ragged_matrix1)\n",
    "    print(\"Example 1 Indices:\\n\", indices1)\n",
    "    print(\"Example 1 Values:\\n\", values1)\n",
    "    \n",
    "    # Example 2\n",
    "    ragged_matrix2 = [\n",
    "        cp.array([-0.36763045, 0.9023816, -0.22484507])\n",
    "    ]\n",
    "    ragged_indices2 = [\n",
    "        cp.array([[1,0,0], [2,0,0], [3,0,0]], dtype=cp.int8)\n",
    "    ]\n",
    "    indices2, values2 = sum_by_indices(ragged_indices2, ragged_matrix2)\n",
    "    print(\"Example 2 Indices:\\n\", indices2)\n",
    "    print(\"Example 2 Values:\\n\", values2)"
   ]
  }
 ],
 "metadata": {
  "kernelspec": {
   "display_name": "Python 3",
   "language": "python",
   "name": "python3"
  },
  "language_info": {
   "codemirror_mode": {
    "name": "ipython",
    "version": 3
   },
   "file_extension": ".py",
   "mimetype": "text/x-python",
   "name": "python",
   "nbconvert_exporter": "python",
   "pygments_lexer": "ipython3",
   "version": "3.10.11"
  }
 },
 "nbformat": 4,
 "nbformat_minor": 2
}
