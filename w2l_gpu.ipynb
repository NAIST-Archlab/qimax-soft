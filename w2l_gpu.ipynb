{
 "cells": [
  {
   "cell_type": "code",
   "execution_count": 7,
   "metadata": {},
   "outputs": [
    {
     "name": "stdout",
     "output_type": "stream",
     "text": [
      "Thời gian tinhs 0.0009987354278564453\n"
     ]
    }
   ],
   "source": [
    "import cupy as cp\n",
    "import time\n",
    "from gqimax2.mapper import broadcasted_multiplies, broadcasted_multiplies_base4\n",
    "\n",
    "lambdas = cp.array([1] * 5, dtype=cp.float32)\n",
    "arrayss = [\n",
    "    [cp.array([2, 1, 1], dtype=cp.float32), \n",
    "     cp.array([1.2], dtype=cp.float32), \n",
    "     cp.array([1, 2], dtype=cp.float32), \n",
    "     cp.array([3, 4], dtype=cp.float32)\n",
    "     ] for i in range(5)\n",
    "]\n",
    "\n",
    "# arrayss_list = [\n",
    "#     [\n",
    "#         [cp.array([2, 1, 1], dtype=cp.float32),\n",
    "#          cp.array([1.2], dtype=cp.float32),\n",
    "#          cp.array([1, 2], dtype=cp.float32),\n",
    "#          cp.array([3, 4], dtype=cp.float32)]\n",
    "#         for _ in range(50000)\n",
    "#     ]\n",
    "#     for _ in range(10)\n",
    "# ]\n",
    "# lambdas_list = [lambdas for _ in range(10)]\n",
    "\n",
    "if len(arrayss) != lambdas.shape[0]:\n",
    "    raise ValueError(\"Kích thước của lambdas và arrayss không khớp.\")\n",
    "start1 = time.time()\n",
    "\n",
    "\n",
    "result_cp, offsets_result = broadcasted_multiplies(lambdas, arrayss)\n",
    "print(\"Thời gian tinhs\", time.time() - start1)\n",
    "# Nếu cần tách kết quả trên GPU\n",
    "weightss = cp.split(result_cp, offsets_result[1:].tolist())\n",
    "\n",
    "# start1 = time.time()\n",
    "# for i in range(10):\n",
    "#     shapes, data, offsets, offsets_result = prepare_data_from_arrayss(arrayss_list[i])\n",
    "#     result_cp, offsets_result = broadcasted_multiplies_cuda(lambdas_list[i], shapes, data, offsets, offsets_result)\n",
    "# print(\"Thời gian tinhs2\", time.time() - start1)\n",
    "\n",
    "\n",
    "# for i, weights in enumerate(weightss):\n",
    "#     print(f\"Kết quả bộ {i}: {weights.shape}\")"
   ]
  },
  {
   "cell_type": "code",
   "execution_count": 6,
   "metadata": {},
   "outputs": [],
   "source": [
    "import cupy as cp\n",
    "\n",
    "import time\n",
    "\n",
    "start1 = time.time()\n",
    "arrayss = [\n",
    "    [cp.array([1,2,3], dtype=cp.int32), \n",
    "     cp.array([1], dtype=cp.int32), \n",
    "     cp.array([2,3], dtype=cp.int32),\n",
    "     cp.array([1,3], dtype=cp.int32)] for _ in range(5)]\n",
    "\n",
    "# n_jobs = 10\n",
    "# arrayss_list = [\n",
    "#     [\n",
    "#         [cp.array([2, 1, 1], dtype=cp.float32),\n",
    "#          cp.array([1.2], dtype=cp.float32),\n",
    "#          cp.array([1, 2], dtype=cp.float32),\n",
    "#          cp.array([3, 4], dtype=cp.float32)]\n",
    "#         for _ in range(5000)\n",
    "#     ]\n",
    "#     for _ in range(n_jobs)\n",
    "# ]\n",
    "\n",
    "\n",
    "\n",
    "\n",
    "# print(\"Khởi tạo mảng:\", time.time() - start1)\n",
    "\n",
    "# start1 = time.time()\n",
    "# for i in range(10):\n",
    "# \tresult_gpu, offsets_result = encode_base4s_gpu(arrayss_list[i])\n",
    "# print(\"encode:\", time.time() - start1)\n",
    "\n",
    "result_gpu, offsets_result = broadcasted_multiplies_base4(arrayss)\n",
    "positionss = cp.split(result_gpu, offsets_result[1:].tolist())\n",
    "# for i, res in enumerate(positionss):  # In 3 bộ đầu tiên để kiểm tra\n",
    "#     print(f\"Kết quả bộ {i}: {res}\")"
   ]
  },
  {
   "cell_type": "code",
   "execution_count": 9,
   "metadata": {},
   "outputs": [
    {
     "data": {
      "text/plain": [
       "[array([ 89,  91,  93,  95, 153, 155, 157, 159, 217, 219, 221, 223]),\n",
       " array([ 89,  91,  93,  95, 153, 155, 157, 159, 217, 219, 221, 223]),\n",
       " array([ 89,  91,  93,  95, 153, 155, 157, 159, 217, 219, 221, 223]),\n",
       " array([ 89,  91,  93,  95, 153, 155, 157, 159, 217, 219, 221, 223]),\n",
       " array([ 89,  91,  93,  95, 153, 155, 157, 159, 217, 219, 221, 223])]"
      ]
     },
     "execution_count": 9,
     "metadata": {},
     "output_type": "execute_result"
    }
   ],
   "source": [
    "positionss"
   ]
  },
  {
   "cell_type": "code",
   "execution_count": null,
   "metadata": {},
   "outputs": [
    {
     "name": "stdout",
     "output_type": "stream",
     "text": [
      "Positions: [ 89  91  93  95 153 155 157 159 217 219 221 223]\n",
      "Total values: [36. 48. 72. 96. 18. 24. 36. 48. 18. 24. 36. 48.]\n"
     ]
    }
   ],
   "source": [
    "import cupy as cp\n",
    "from gqimax2.kernel import sum_distributions_kernel\n",
    "\n",
    "\n",
    "\n",
    "positions_gpu, totals_gpu = sum_distributions(weightss, positionss)\n",
    "\n",
    "print(\"Positions:\", positions_gpu)\n",
    "print(\"Total values:\", totals_gpu)"
   ]
  }
 ],
 "metadata": {
  "kernelspec": {
   "display_name": "Python 3",
   "language": "python",
   "name": "python3"
  },
  "language_info": {
   "codemirror_mode": {
    "name": "ipython",
    "version": 3
   },
   "file_extension": ".py",
   "mimetype": "text/x-python",
   "name": "python",
   "nbconvert_exporter": "python",
   "pygments_lexer": "ipython3",
   "version": "3.10.11"
  }
 },
 "nbformat": 4,
 "nbformat_minor": 2
}
