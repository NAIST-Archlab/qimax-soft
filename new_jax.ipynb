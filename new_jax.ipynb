{
 "cells": [
  {
   "cell_type": "code",
   "execution_count": 1,
   "metadata": {},
   "outputs": [],
   "source": [
    "from jax.experimental import sparse\n",
    "import jax.numpy as jnp\n",
    "import numpy as np"
   ]
  },
  {
   "cell_type": "code",
   "execution_count": null,
   "metadata": {},
   "outputs": [
    {
     "name": "stdout",
     "output_type": "stream",
     "text": [
      "59.95556\n"
     ]
    }
   ],
   "source": [
    "def tabular_new(weight, gate, param = 0):\n",
    "\t# Map a single Pauli to list\n",
    "\t# Example: x -> [1, 0, 0] -- h --> [0, 0, 1] = z\n",
    "\tfrom numpy import sin, cos, sqrt\n",
    "\tA, B, C = weight\n",
    "\tif gate == 'h':\n",
    "\t\treturn np.array([0,0,1])\n",
    "\tif gate == 's':\n",
    "\t\treturn np.array([0,1,0])\n",
    "\tif gate == 't':\n",
    "\t\treturn np.array([1/sqrt(2),1/sqrt(2),0])\n",
    "\tif gate == 'rx':\n",
    "\t\treturn np.array([A, B * cos(param) - C * sin(param), B * sin(param) + C * cos(param)])\n",
    "\tif gate == 'ry':\n",
    "\t\treturn np.array([A * cos(param) + C * sin(param), B, C * cos(param) - A * sin(param)])\n",
    "\tif gate == 'rz':\n",
    "\t\treturn np.array([A * np.cos(param) - B * sin(param), B * cos(param) + A * sin(param), C])\n"
   ]
  },
  {
   "cell_type": "code",
   "execution_count": 4,
   "metadata": {},
   "outputs": [
    {
     "data": {
      "text/plain": [
       "1"
      ]
     },
     "execution_count": 4,
     "metadata": {},
     "output_type": "execute_result"
    }
   ],
   "source": [
    "w = [1,2,3]\n",
    "a,b,c = w\n",
    "a"
   ]
  },
  {
   "cell_type": "code",
   "execution_count": 13,
   "metadata": {},
   "outputs": [
    {
     "data": {
      "text/plain": [
       "[2]"
      ]
     },
     "execution_count": 13,
     "metadata": {},
     "output_type": "execute_result"
    }
   ],
   "source": [
    "k = [1,2,3,4]\n",
    "k[1::3]"
   ]
  }
 ],
 "metadata": {
  "kernelspec": {
   "display_name": "Python 3",
   "language": "python",
   "name": "python3"
  },
  "language_info": {
   "codemirror_mode": {
    "name": "ipython",
    "version": 3
   },
   "file_extension": ".py",
   "mimetype": "text/x-python",
   "name": "python",
   "nbconvert_exporter": "python",
   "pygments_lexer": "ipython3",
   "version": "3.10.11"
  }
 },
 "nbformat": 4,
 "nbformat_minor": 2
}
