{
 "cells": [
  {
   "cell_type": "code",
   "execution_count": 1,
   "metadata": {},
   "outputs": [],
   "source": [
    "from sojo.stabilizer import StabilizerGenerator, PauliTerm, PauliWord\n",
    "import numpy as np\n",
    "\n",
    "# Same as qiskit\n",
    "num_qubits = 10\n",
    "stb = StabilizerGenerator(num_qubits)\n",
    "stb.h(0)\n",
    "for i in range(1, num_qubits):\n",
    "    stb.cx([0, i])\n",
    "\n",
    "# print('...')\n",
    "stb_density_matrix = stb.generate_density_matrix()"
   ]
  },
  {
   "cell_type": "code",
   "execution_count": 11,
   "metadata": {},
   "outputs": [],
   "source": [
    "num_qubits = 100\n",
    "stb = StabilizerGenerator(num_qubits)\n",
    "stb.h(0)\n",
    "for i in range(1, num_qubits):\n",
    "    stb.cx([0, i])\n"
   ]
  },
  {
   "cell_type": "code",
   "execution_count": null,
   "metadata": {},
   "outputs": [],
   "source": [
    "\n",
    "stb_density_matrix = stb.generate_density_matrix_by_generator()"
   ]
  },
  {
   "cell_type": "code",
   "execution_count": 10,
   "metadata": {},
   "outputs": [],
   "source": [
    "import qiskit\n",
    "from qiskit.visualization import plot_histogram\n",
    "from qiskit.primitives import Sampler\n",
    "import qiskit.quantum_info\n",
    "\n",
    "qc = qiskit.QuantumCircuit(40)\n",
    "qc.h(0)\n",
    "for i in range(1, 10):\n",
    "    qc.cx(0, i)\n",
    "\n",
    "# state = qiskit.quantum_info.Statevector(qc).data\n",
    "# dm = np.outer(state, state.conj())"
   ]
  }
 ],
 "metadata": {
  "kernelspec": {
   "display_name": "Python 3",
   "language": "python",
   "name": "python3"
  },
  "language_info": {
   "codemirror_mode": {
    "name": "ipython",
    "version": 3
   },
   "file_extension": ".py",
   "mimetype": "text/x-python",
   "name": "python",
   "nbconvert_exporter": "python",
   "pygments_lexer": "ipython3",
   "version": "3.11.5"
  }
 },
 "nbformat": 4,
 "nbformat_minor": 2
}
