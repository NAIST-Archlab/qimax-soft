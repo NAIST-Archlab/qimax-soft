{
 "cells": [
  {
   "cell_type": "code",
   "execution_count": 1,
   "metadata": {},
   "outputs": [],
   "source": [
    "import numpy as np\n",
    "lambdas = np.array([[1], [2]])\n",
    "weightss = np.array([\n",
    "    [[0,2,3,4],[1,2,3,4]], \n",
    "    [[0,2,3,4],[1,2,3,4]]],\n",
    "      dtype=np.float32)\n",
    "\n",
    "\n",
    "# LUT, K x n x 3 x 3\n"
   ]
  },
  {
   "cell_type": "code",
   "execution_count": 16,
   "metadata": {},
   "outputs": [],
   "source": [
    "import numpy as np\n",
    "\n",
    "def broadcasted_multiply(arrays, lambdax):\n",
    "    dims = len(arrays)  # số chiều cần broadcast\n",
    "\n",
    "    reshaped = []\n",
    "    for i, arr in enumerate(arrays):\n",
    "        arr_np = np.array(arr)\n",
    "        # reshape thành (1, 1, ..., len(arr), ..., 1)\n",
    "        shape = [1] * dims\n",
    "        shape[i] = arr_np.shape[0]\n",
    "        reshaped.append(arr_np.reshape(shape))\n",
    "\n",
    "    # Nhân phân phối\n",
    "    result = reshaped[0]\n",
    "    for r in reshaped[1:]:\n",
    "        result = result * r\n",
    "\n",
    "    return lambdax*result.flatten()\n",
    "\n",
    "def broadcasted_multiplies(arrayss, lambdas):\n",
    "\tresult = []\n",
    "\tfor i, arrays in enumerate(arrayss):\n",
    "\t\tresult.append(broadcasted_multiply(arrays, lambdas[i]))\n",
    "\treturn result\n",
    "\n",
    "# Ví dụ sử dụng\n",
    "lambdas = np.array([1] * 10000, dtype=np.float32)\n",
    "arrayss = [\n",
    "    [np.array([2, 1, 1], dtype=np.float32), \n",
    "     np.array([1.2], dtype=np.float32), \n",
    "     np.array([1, 2], dtype=np.float32), \n",
    "     np.array([3, 4], dtype=np.float32)\n",
    "     ] for i in range(10000)\n",
    "]\n",
    "\n",
    "k = broadcasted_multiplies(arrayss, lambdas)"
   ]
  },
  {
   "cell_type": "code",
   "execution_count": 11,
   "metadata": {},
   "outputs": [
    {
     "name": "stdout",
     "output_type": "stream",
     "text": [
      "[array([37, 38, 21, 22, 21, 22]), array([33, 33, 17])]\n"
     ]
    }
   ],
   "source": [
    "import numpy as np\n",
    "\n",
    "def encode_base4(arrays):\n",
    "    n = len(arrays)\n",
    "    reshaped = []\n",
    "    \n",
    "    # reshape từng array để broadcasting được\n",
    "    for i, arr in enumerate(arrays):\n",
    "        arr_np = np.array(arr, dtype=int)\n",
    "        shape = [1] * n\n",
    "        shape[i] = -1  # gán chiều tương ứng\n",
    "        reshaped.append(arr_np.reshape(shape))\n",
    "\n",
    "    # tạo weights: 4^(n-1), 4^(n-2), ..., 4^0\n",
    "    powers = [4 ** (n - i - 1) for i in range(n)]\n",
    "\n",
    "    result = reshaped[0] * powers[0]\n",
    "    for i in range(1, n):\n",
    "        result = result + reshaped[i] * powers[i]\n",
    "\n",
    "    return result.flatten()\n",
    "\n",
    "def encode_base4s(arrayss):\n",
    "\tresult = []\n",
    "\tfor arrays in arrayss:\n",
    "\t\tresult.append(encode_base4(arrays))\n",
    "\treturn result\n",
    "\n",
    "arrayss = [\n",
    "    [[2, 1, 1], [1], [1, 2]],\n",
    "    [[2, 2, 1], [0], [1]],\n",
    "]\n",
    "\n",
    "result = encode_base4s(arrayss)\n",
    "print(result)\n"
   ]
  },
  {
   "cell_type": "code",
   "execution_count": 4,
   "metadata": {},
   "outputs": [
    {
     "name": "stdout",
     "output_type": "stream",
     "text": [
      "Positions: [ 1  2  3 10]\n",
      "Total values: [ 10.  25. -14. 100.]\n"
     ]
    }
   ],
   "source": [
    "import numpy as np\n",
    "\n",
    "def sum_distributions(list_of_value_pos_pairs):\n",
    "    all_positions = []\n",
    "    all_values = []\n",
    "\n",
    "    for values, positions in list_of_value_pos_pairs:\n",
    "        all_positions.append(np.array(positions))\n",
    "        all_values.append(np.array(values))\n",
    "\n",
    "    all_positions = np.concatenate(all_positions)\n",
    "    all_values = np.concatenate(all_values)\n",
    "\n",
    "    # Tính max index cần thiết cho bincount\n",
    "    max_pos = all_positions.max()\n",
    "    summed = np.bincount(all_positions, weights=all_values)\n",
    "\n",
    "    # Chỉ lấy các position có giá trị tổng khác 0\n",
    "    non_zero_pos = np.nonzero(summed)[0]\n",
    "    non_zero_values = summed[non_zero_pos]\n",
    "\n",
    "    return non_zero_pos, non_zero_values\n",
    "# List 1\n",
    "values1 = [10, 20, 1]\n",
    "positions1 = [1, 2, 3]\n",
    "\n",
    "# List 2\n",
    "values2 = [5, -15]\n",
    "positions2 = [2, 3]  # trùng với list1 → sẽ được cộng dồn\n",
    "\n",
    "# List 3\n",
    "values3 = [100]\n",
    "positions3 = [10]\n",
    "\n",
    "# Tổng hợp\n",
    "all_lists = [\n",
    "    (values1, positions1),\n",
    "    (values2, positions2),\n",
    "    (values3, positions3)\n",
    "]\n",
    "\n",
    "positions, totals = sum_distributions(all_lists)\n",
    "print(\"Positions:\", positions)\n",
    "print(\"Total values:\", totals)\n"
   ]
  }
 ],
 "metadata": {
  "kernelspec": {
   "display_name": "Python 3",
   "language": "python",
   "name": "python3"
  },
  "language_info": {
   "codemirror_mode": {
    "name": "ipython",
    "version": 3
   },
   "file_extension": ".py",
   "mimetype": "text/x-python",
   "name": "python",
   "nbconvert_exporter": "python",
   "pygments_lexer": "ipython3",
   "version": "3.10.11"
  }
 },
 "nbformat": 4,
 "nbformat_minor": 2
}
