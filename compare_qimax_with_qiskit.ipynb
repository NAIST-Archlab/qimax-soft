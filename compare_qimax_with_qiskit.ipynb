{
 "cells": [
  {
   "cell_type": "code",
   "execution_count": 1,
   "metadata": {},
   "outputs": [
    {
     "name": "stdout",
     "output_type": "stream",
     "text": [
      "[-0.183]*yi + [0.9659]*zi + [0.183]*xi\n",
      "[0.5]*iz + [-0.866]*iy\n"
     ]
    }
   ],
   "source": [
    "from qimax.stabilizer import StabilizerGenerator, PauliTerm, PauliWord\n",
    "import numpy as np\n",
    "\n",
    "stb = StabilizerGenerator(2)\n",
    "stb.ry(np.pi/3, 0)\n",
    "stb.rx(np.pi/2, 0)\n",
    "stb.cx([0,1])\n",
    "stb.t(0)\n",
    "stb.cx([0,1])\n",
    "stb.h(0)\n",
    "stb.rz(np.pi/4, 0)\n",
    "stb.rx(np.pi/3, 1)\n",
    "for s in (stb.stabilizers):\n",
    "    print(s)"
   ]
  },
  {
   "cell_type": "code",
   "execution_count": null,
   "metadata": {},
   "outputs": [
    {
     "ename": "",
     "evalue": "",
     "output_type": "error",
     "traceback": [
      "\u001b[1;31mThe Kernel crashed while executing code in the current cell or a previous cell. \n",
      "\u001b[1;31mPlease review the code in the cell(s) to identify a possible cause of the failure. \n",
      "\u001b[1;31mClick <a href='https://aka.ms/vscodeJupyterKernelCrash'>here</a> for more info. \n",
      "\u001b[1;31mView Jupyter <a href='command:jupyter.viewOutput'>log</a> for further details."
     ]
    }
   ],
   "source": [
    "num_qubits = 4\n",
    "num_layers = 10\n",
    "\n",
    "stb = StabilizerGenerator(num_qubits)\n",
    "for k in range(num_layers):\n",
    "    for i in range(num_qubits - 1):\n",
    "        stb.cx([i, i + 1])\n",
    "    stb.cx([num_qubits - 1, 0])\n",
    "    for i in range(num_qubits):\n",
    "        stb.rx(1, i)\n",
    "        stb.ry(2, i)\n",
    "        stb.rz(3, i)\n",
    "\n",
    "# for s in (stb.stabilizers):\n",
    "#     print(s.words)"
   ]
  },
  {
   "cell_type": "code",
   "execution_count": 21,
   "metadata": {},
   "outputs": [
    {
     "data": {
      "text/plain": [
       "[-0.009094885661166107]"
      ]
     },
     "execution_count": 21,
     "metadata": {},
     "output_type": "execute_result"
    }
   ],
   "source": [
    "stb.stabilizers[0].words['iiyx']"
   ]
  },
  {
   "cell_type": "markdown",
   "metadata": {},
   "source": [
    "# Density matrix from qimax"
   ]
  },
  {
   "cell_type": "code",
   "execution_count": 2,
   "metadata": {},
   "outputs": [
    {
     "name": "stdout",
     "output_type": "stream",
     "text": [
      "[[ 0.74+0.j          0.  +0.42999998j  0.07+0.07j       -0.04+0.04j      ]\n",
      " [ 0.  -0.42999998j  0.25+0.j          0.04-0.04j        0.02+0.02j      ]\n",
      " [ 0.07-0.07j        0.04+0.04j        0.01+0.j          0.  +0.01j      ]\n",
      " [-0.04-0.04j        0.02-0.02j        0.  -0.01j        0.  +0.j        ]]\n"
     ]
    }
   ],
   "source": [
    "stb_density_matrix = stb.generate_density_matrix_by_generator_jax()\n",
    "print(np.round(stb_density_matrix,2))"
   ]
  },
  {
   "cell_type": "markdown",
   "metadata": {},
   "source": [
    "# Density matrix from qiskit"
   ]
  },
  {
   "cell_type": "code",
   "execution_count": 3,
   "metadata": {},
   "outputs": [
    {
     "name": "stdout",
     "output_type": "stream",
     "text": [
      "[[ 0.74-0.j    0.  +0.43j  0.07+0.07j -0.04+0.04j]\n",
      " [ 0.  -0.43j  0.25+0.j    0.04-0.04j  0.02+0.02j]\n",
      " [ 0.07-0.07j  0.04+0.04j  0.01-0.j    0.  +0.01j]\n",
      " [-0.04-0.04j  0.02-0.02j  0.  -0.01j  0.  +0.j  ]]\n"
     ]
    }
   ],
   "source": [
    "import qiskit\n",
    "import qiskit.quantum_info\n",
    "\n",
    "qc = qiskit.QuantumCircuit(2)\n",
    "qc.ry(np.pi/3, 1)\n",
    "qc.rx(np.pi/2, 1)\n",
    "qc.cx(1,0)\n",
    "qc.t(1)\n",
    "qc.cx(1,0)\n",
    "qc.h(1)\n",
    "qc.rz(np.pi/4, 1)\n",
    "qc.rx(np.pi/3, 0)\n",
    "\n",
    "state = qiskit.quantum_info.Statevector(qc).data\n",
    "dm = np.outer(state, state.conj())\n",
    "print(np.round(dm,2))"
   ]
  }
 ],
 "metadata": {
  "kernelspec": {
   "display_name": "Python 3",
   "language": "python",
   "name": "python3"
  },
  "language_info": {
   "codemirror_mode": {
    "name": "ipython",
    "version": 3
   },
   "file_extension": ".py",
   "mimetype": "text/x-python",
   "name": "python",
   "nbconvert_exporter": "python",
   "pygments_lexer": "ipython3",
   "version": "3.10.11"
  }
 },
 "nbformat": 4,
 "nbformat_minor": 2
}
