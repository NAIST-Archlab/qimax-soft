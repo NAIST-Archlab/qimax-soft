{
 "cells": [
  {
   "cell_type": "code",
   "execution_count": 3,
   "metadata": {},
   "outputs": [
    {
     "name": "stdout",
     "output_type": "stream",
     "text": [
      "The autoreload extension is already loaded. To reload it, use:\n",
      "  %reload_ext autoreload\n"
     ]
    }
   ],
   "source": [
    "from gqimax.instructor import Instructor\n",
    "import numpy as np\n",
    "%load_ext autoreload\n",
    "%autoreload 2\n",
    "\n",
    "num_qubits = 2\n",
    "# ins = sample3()\n",
    "ins = Instructor(num_qubits)\n",
    "ins.append('ry',0, np.pi/3)\n",
    "ins.append('rx',0, np.pi/2)\n",
    "ins.append('cx', [0,1])\n",
    "ins.append('t', 0)\n",
    "ins.append('cx',[0,1])\n",
    "ins.append('h',0)\n",
    "ins.append('rz', 0, np.pi/4)\n",
    "ins.append('rx',1, np.pi/3)\n",
    "ins.run()"
   ]
  },
  {
   "cell_type": "code",
   "execution_count": 4,
   "metadata": {},
   "outputs": [
    {
     "data": {
      "text/plain": [
       "[array([ 0.18301273, -0.18301275,  0.96592582]),\n",
       " array([-0.86602545,  0.49999997])]"
      ]
     },
     "execution_count": 4,
     "metadata": {},
     "output_type": "execute_result"
    }
   ],
   "source": [
    "ins.lambdass"
   ]
  },
  {
   "cell_type": "code",
   "execution_count": 5,
   "metadata": {},
   "outputs": [
    {
     "data": {
      "text/plain": [
       "[array([[1, 0],\n",
       "        [2, 0],\n",
       "        [3, 0]], dtype=int8),\n",
       " array([[0, 2],\n",
       "        [0, 3]], dtype=int8)]"
      ]
     },
     "execution_count": 5,
     "metadata": {},
     "output_type": "execute_result"
    }
   ],
   "source": [
    "ins.indicesss"
   ]
  }
 ],
 "metadata": {
  "kernelspec": {
   "display_name": "Python 3",
   "language": "python",
   "name": "python3"
  },
  "language_info": {
   "codemirror_mode": {
    "name": "ipython",
    "version": 3
   },
   "file_extension": ".py",
   "mimetype": "text/x-python",
   "name": "python",
   "nbconvert_exporter": "python",
   "pygments_lexer": "ipython3",
   "version": "3.10.11"
  }
 },
 "nbformat": 4,
 "nbformat_minor": 2
}
