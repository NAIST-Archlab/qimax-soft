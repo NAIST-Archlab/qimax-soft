{
 "cells": [
  {
   "cell_type": "code",
   "execution_count": 44,
   "metadata": {},
   "outputs": [
    {
     "name": "stdout",
     "output_type": "stream",
     "text": [
      "[[0.     0.     0.6799 0.    ]\n",
      " [0.     0.     0.     0.6799]\n",
      " [0.6799 0.     0.     0.    ]\n",
      " [0.     0.6799 0.     0.    ]]\n"
     ]
    }
   ],
   "source": [
    "from sojo.pc import PauliComposer\n",
    "\n",
    "s1 = 'XI'\n",
    "pc1 = PauliComposer(s1, 0.6799)\n",
    "sp1 = pc1.to_sparse()\n",
    "\n",
    "s2 = 'ZZ'\n",
    "pc2 = PauliComposer(s2)\n",
    "sp2 = pc2.to_sparse()\n",
    "print(sp1.toarray())"
   ]
  },
  {
   "cell_type": "code",
   "execution_count": 39,
   "metadata": {},
   "outputs": [
    {
     "data": {
      "text/plain": [
       "array([[ 1,  0,  0,  0],\n",
       "       [ 0, -1,  0,  0],\n",
       "       [ 0,  0, -1,  0],\n",
       "       [ 0,  0,  0,  1]], dtype=int8)"
      ]
     },
     "execution_count": 39,
     "metadata": {},
     "output_type": "execute_result"
    }
   ],
   "source": [
    "sp3 = sp1 @ sp2\n",
    "sp3.toarray()"
   ]
  },
  {
   "cell_type": "code",
   "execution_count": 31,
   "metadata": {},
   "outputs": [
    {
     "data": {
      "text/plain": [
       "array([[ 0. ,  0. ,  0.5,  0. ,  0. ,  0. ,  0. ,  0. ],\n",
       "       [ 0. ,  0. ,  0. , -0.5,  0. ,  0. ,  0. ,  0. ],\n",
       "       [ 0.5,  0. ,  0. ,  0. ,  0. ,  0. ,  0. ,  0. ],\n",
       "       [ 0. , -0.5,  0. ,  0. ,  0. ,  0. ,  0. ,  0. ],\n",
       "       [ 0. ,  0. ,  0. ,  0. ,  0. ,  0. , -0.5,  0. ],\n",
       "       [ 0. ,  0. ,  0. ,  0. ,  0. ,  0. ,  0. ,  0.5],\n",
       "       [ 0. ,  0. ,  0. ,  0. , -0.5,  0. ,  0. ,  0. ],\n",
       "       [ 0. ,  0. ,  0. ,  0. ,  0. ,  0.5,  0. ,  0. ]])"
      ]
     },
     "execution_count": 31,
     "metadata": {},
     "output_type": "execute_result"
    }
   ],
   "source": [
    "sp1.toarray()"
   ]
  },
  {
   "cell_type": "code",
   "execution_count": 33,
   "metadata": {},
   "outputs": [
    {
     "name": "stdout",
     "output_type": "stream",
     "text": [
      "Addition: \n",
      "Dimension: 4 x 4\n",
      "Sparse Matrix: \n",
      "Row Column Value\n",
      "1 2 10\n",
      "1 3 8\n",
      "1 4 12\n",
      "2 4 23\n",
      "3 3 14\n",
      "4 1 35\n",
      "4 2 37\n",
      "\n",
      "Multiplication: \n",
      "Dimension: 4 x 4\n",
      "Sparse Matrix: \n",
      "Row Column Value\n",
      "1 1 240\n",
      "1 2 300\n",
      "1 4 230\n",
      "1 1 240\n",
      "1 2 300\n",
      "3 3 45\n",
      "3 3 45\n",
      "4 3 120\n",
      "4 4 276\n",
      "4 4 276\n"
     ]
    }
   ],
   "source": []
  }
 ],
 "metadata": {
  "kernelspec": {
   "display_name": "Python 3",
   "language": "python",
   "name": "python3"
  },
  "language_info": {
   "codemirror_mode": {
    "name": "ipython",
    "version": 3
   },
   "file_extension": ".py",
   "mimetype": "text/x-python",
   "name": "python",
   "nbconvert_exporter": "python",
   "pygments_lexer": "ipython3",
   "version": "3.11.5"
  }
 },
 "nbformat": 4,
 "nbformat_minor": 2
}
